{
  "nbformat": 4,
  "nbformat_minor": 0,
  "metadata": {
    "kernelspec": {
      "display_name": "Python 3",
      "language": "python",
      "name": "python3"
    },
    "language_info": {
      "codemirror_mode": {
        "name": "ipython",
        "version": 3
      },
      "file_extension": ".py",
      "mimetype": "text/x-python",
      "name": "python",
      "nbconvert_exporter": "python",
      "pygments_lexer": "ipython3",
      "version": "3.7.6"
    },
    "colab": {
      "name": "post-processing-technique.ipynb",
      "provenance": [],
      "toc_visible": true
    }
  },
  "cells": [
    {
      "cell_type": "markdown",
      "metadata": {
        "id": "4G8B7JP0e5F0",
        "colab_type": "text"
      },
      "source": [
        "# Foreword & Remarks\n",
        "\n",
        "- This work was adapted from the 1st place solution of the Jigsaw 2020 competition: https://www.kaggle.com/rafiko1/1st-place-jigsaw-post-processing-example\n",
        "- First place post-processing details can be found at: https://www.kaggle.com/c/jigsaw-multilingual-toxic-comment-classification/discussion/160862. Main idea was to track the delta of predictions for each sample using successful submissions, then averaging them and 'pushing' the predictions in the same direction.\n",
        "- I only configured it a little bit so that it can be used in this competition\n",
        "- This notebook uses **only public notebook submission files**!! For me, using my ensemble as the \"best sub\" with minor tweaks to give a small boost in LB\n",
        "- Since we are allowed to make 3 final submissions, if you are willing to risk it, feel free to have a submission that uses this pipeline"
      ]
    },
    {
      "cell_type": "markdown",
      "metadata": {
        "id": "kb9Z2UfXe5F3",
        "colab_type": "text"
      },
      "source": [
        "# Update Log\n",
        "\n",
        "- **Version 6**: As per Chris' feedback, submisison dataframes are now sorted before their predictions are concatenated to the test dataframe. Also changed a public sub to another one as the submission could no longer be extracted. "
      ]
    },
    {
      "cell_type": "markdown",
      "metadata": {
        "id": "kTj3Z_1ke5F6",
        "colab_type": "text"
      },
      "source": [
        "# Imports"
      ]
    },
    {
      "cell_type": "code",
      "metadata": {
        "_cell_guid": "b1076dfc-b9ad-4769-8c92-a6c4dae69d19",
        "_uuid": "8f2839f25d086af736a60e9eeb907d3b93b6e0e5",
        "id": "OsId0Wade5F8",
        "colab_type": "code",
        "colab": {}
      },
      "source": [
        "# General imports\n",
        "import numpy as np\n",
        "import pandas as pd\n",
        "import os\n",
        "from matplotlib import pyplot as plt"
      ],
      "execution_count": 8,
      "outputs": []
    },
    {
      "cell_type": "code",
      "metadata": {
        "id": "EilqRsMle5GE",
        "colab_type": "code",
        "colab": {}
      },
      "source": [
        "WEIGHT = 1 # best to keep between 1 and 2 from the orignal authors"
      ],
      "execution_count": 9,
      "outputs": []
    },
    {
      "cell_type": "code",
      "metadata": {
        "id": "jnoWVgJre5GJ",
        "colab_type": "code",
        "colab": {}
      },
      "source": [
        "submission = pd.read_csv('sample_submission.csv')\n",
        "test = pd.read_csv('test.csv')\n",
        "sub_best = pd.read_csv('sub_pp14.csv')#9632"
      ],
      "execution_count": 10,
      "outputs": []
    },
    {
      "cell_type": "code",
      "metadata": {
        "id": "hcsAJs6Me5GP",
        "colab_type": "code",
        "colab": {
          "base_uri": "https://localhost:8080/",
          "height": 622
        },
        "outputId": "5736250f-2382-49d7-c67b-69b1b6cf7513"
      },
      "source": [
        "files_sub = [\n",
        "    'sub_9619.csv',#9619\n",
        "    'sub_9603.csv',#9603\n",
        "    'sub_9581.csv',#9581\n",
        "    'sub_9577.csv',#9577\n",
        "    '9557plusmeta.csv',#9559'\n",
        "    'sub_mean_maybe9533.csv',#9533\n",
        "    'ensembled_9527.csv',#9527\n",
        "    'sub_minmax_9526.csv',#9526\n",
        "    'sub_9512.csv',#9512\n",
        "    'sub_maybe_0.9504.csv',#9504\n",
        "    'sub_mixup7.csv',#9499\n",
        "    'sub_9498.csv',#9498\n",
        "    'sub_9486.csv',#9486\n",
        "    'sub_768b5_5.csv',#9471\n",
        "    'sub_512b6_3.csv',#9468\n",
        "    'minmax3.csv',#9465\n",
        "    \n",
        "    'submission_median.csv',#9445\n",
        "    'minmax7.csv',#9438\n",
        "    'minmax2.csv',#9429\n",
        "    'sub_b5new_2_.csv',#9426\n",
        "    'mean_ensemble_b0-b5_256.csv',#9425\n",
        "    'trashtry.csv',#9423\n",
        "    'minmax5.csv',#9422\n",
        "    'sub_512b4_2.csv',#9422\n",
        "    'sub_384b5_2.csv',#9420\n",
        "    'sub_blended_0.9418.csv',#9418\n",
        "\n",
        "    'minmax1.csv',#9414\n",
        "    'stack3.csv',#9369\n",
        "    'stacknew1.csv',#9366\n",
        "    'sub_b4new_1up_.csv',#9364\n",
        "    'stack2.csv',#9364\n",
        "    'sub_b2new_1_.csv',#9364\n",
        "    'IMG_SZ_384_2018.csv',#9350\n",
        "    'stack1.csv',#9349\n",
        "    \n",
        "    # '../input/submission-exploration/submission.csv',\n",
        "    # '../input/rc-fork-siim-isic-melanoma-384x384/sub_EfficientNetB2_384.csv',\n",
        "    # '../input/train-cv/submission.csv',\n",
        "    # '../input/triple-stratified-kfold-with-tfrecords/submission.csv',\n",
        "    # '../input/rank-then-blend/blend_sub.csv',\n",
        "    'sub_pp14.csv'\n",
        "]\n",
        "files_sub = sorted(files_sub)\n",
        "print(len(files_sub))\n",
        "files_sub"
      ],
      "execution_count": 11,
      "outputs": [
        {
          "output_type": "stream",
          "text": [
            "35\n"
          ],
          "name": "stdout"
        },
        {
          "output_type": "execute_result",
          "data": {
            "text/plain": [
              "['9557plusmeta.csv',\n",
              " 'IMG_SZ_384_2018.csv',\n",
              " 'ensembled_9527.csv',\n",
              " 'mean_ensemble_b0-b5_256.csv',\n",
              " 'minmax1.csv',\n",
              " 'minmax2.csv',\n",
              " 'minmax3.csv',\n",
              " 'minmax5.csv',\n",
              " 'minmax7.csv',\n",
              " 'stack1.csv',\n",
              " 'stack2.csv',\n",
              " 'stack3.csv',\n",
              " 'stacknew1.csv',\n",
              " 'sub_384b5_2.csv',\n",
              " 'sub_512b4_2.csv',\n",
              " 'sub_512b6_3.csv',\n",
              " 'sub_768b5_5.csv',\n",
              " 'sub_9486.csv',\n",
              " 'sub_9498.csv',\n",
              " 'sub_9512.csv',\n",
              " 'sub_9577.csv',\n",
              " 'sub_9581.csv',\n",
              " 'sub_9603.csv',\n",
              " 'sub_9619.csv',\n",
              " 'sub_b2new_1_.csv',\n",
              " 'sub_b4new_1up_.csv',\n",
              " 'sub_b5new_2_.csv',\n",
              " 'sub_blended_0.9418.csv',\n",
              " 'sub_maybe_0.9504.csv',\n",
              " 'sub_mean_maybe9533.csv',\n",
              " 'sub_minmax_9526.csv',\n",
              " 'sub_mixup7.csv',\n",
              " 'sub_pp14.csv',\n",
              " 'submission_median.csv',\n",
              " 'trashtry.csv']"
            ]
          },
          "metadata": {
            "tags": []
          },
          "execution_count": 11
        }
      ]
    },
    {
      "cell_type": "code",
      "metadata": {
        "id": "LW-wn_EUe5GX",
        "colab_type": "code",
        "colab": {}
      },
      "source": [
        "for file in files_sub:\n",
        "    test[file.replace(\".csv\", \"\")] = pd.read_csv(file).sort_values('image_name')[\"target\"]\n",
        "test['id'] = test.index"
      ],
      "execution_count": 12,
      "outputs": []
    },
    {
      "cell_type": "code",
      "metadata": {
        "id": "UCuU1sJwe5Ga",
        "colab_type": "code",
        "colab": {
          "base_uri": "https://localhost:8080/",
          "height": 232
        },
        "outputId": "40a04dc8-7101-4156-bf84-890db16925bf"
      },
      "source": [
        "test.head()"
      ],
      "execution_count": 13,
      "outputs": [
        {
          "output_type": "execute_result",
          "data": {
            "text/html": [
              "<div>\n",
              "<style scoped>\n",
              "    .dataframe tbody tr th:only-of-type {\n",
              "        vertical-align: middle;\n",
              "    }\n",
              "\n",
              "    .dataframe tbody tr th {\n",
              "        vertical-align: top;\n",
              "    }\n",
              "\n",
              "    .dataframe thead th {\n",
              "        text-align: right;\n",
              "    }\n",
              "</style>\n",
              "<table border=\"1\" class=\"dataframe\">\n",
              "  <thead>\n",
              "    <tr style=\"text-align: right;\">\n",
              "      <th></th>\n",
              "      <th>image_name</th>\n",
              "      <th>patient_id</th>\n",
              "      <th>sex</th>\n",
              "      <th>age_approx</th>\n",
              "      <th>anatom_site_general_challenge</th>\n",
              "      <th>9557plusmeta</th>\n",
              "      <th>IMG_SZ_384_2018</th>\n",
              "      <th>ensembled_9527</th>\n",
              "      <th>mean_ensemble_b0-b5_256</th>\n",
              "      <th>minmax1</th>\n",
              "      <th>minmax2</th>\n",
              "      <th>minmax3</th>\n",
              "      <th>minmax5</th>\n",
              "      <th>minmax7</th>\n",
              "      <th>stack1</th>\n",
              "      <th>stack2</th>\n",
              "      <th>stack3</th>\n",
              "      <th>stacknew1</th>\n",
              "      <th>sub_384b5_2</th>\n",
              "      <th>sub_512b4_2</th>\n",
              "      <th>sub_512b6_3</th>\n",
              "      <th>sub_768b5_5</th>\n",
              "      <th>sub_9486</th>\n",
              "      <th>sub_9498</th>\n",
              "      <th>sub_9512</th>\n",
              "      <th>sub_9577</th>\n",
              "      <th>sub_9581</th>\n",
              "      <th>sub_9603</th>\n",
              "      <th>sub_9619</th>\n",
              "      <th>sub_b2new_1_</th>\n",
              "      <th>sub_b4new_1up_</th>\n",
              "      <th>sub_b5new_2_</th>\n",
              "      <th>sub_blended_0.9418</th>\n",
              "      <th>sub_maybe_0.9504</th>\n",
              "      <th>sub_mean_maybe9533</th>\n",
              "      <th>sub_minmax_9526</th>\n",
              "      <th>sub_mixup7</th>\n",
              "      <th>sub_pp14</th>\n",
              "      <th>submission_median</th>\n",
              "      <th>trashtry</th>\n",
              "      <th>id</th>\n",
              "    </tr>\n",
              "  </thead>\n",
              "  <tbody>\n",
              "    <tr>\n",
              "      <th>0</th>\n",
              "      <td>ISIC_0052060</td>\n",
              "      <td>IP_3579794</td>\n",
              "      <td>male</td>\n",
              "      <td>70.0</td>\n",
              "      <td>NaN</td>\n",
              "      <td>0.027383</td>\n",
              "      <td>0.032299</td>\n",
              "      <td>0.027438</td>\n",
              "      <td>0.000309</td>\n",
              "      <td>0.000108</td>\n",
              "      <td>0.000108</td>\n",
              "      <td>0.000296</td>\n",
              "      <td>0.000425</td>\n",
              "      <td>0.000166</td>\n",
              "      <td>0.008034</td>\n",
              "      <td>0.008002</td>\n",
              "      <td>0.003161</td>\n",
              "      <td>0.008648</td>\n",
              "      <td>0.024640</td>\n",
              "      <td>0.028950</td>\n",
              "      <td>0.028757</td>\n",
              "      <td>0.027959</td>\n",
              "      <td>0.465825</td>\n",
              "      <td>0.035619</td>\n",
              "      <td>0.000021</td>\n",
              "      <td>0.035168</td>\n",
              "      <td>0.031921</td>\n",
              "      <td>0.012047</td>\n",
              "      <td>0.022257</td>\n",
              "      <td>0.000597</td>\n",
              "      <td>0.000108</td>\n",
              "      <td>0.000166</td>\n",
              "      <td>0.034647</td>\n",
              "      <td>0.000153</td>\n",
              "      <td>0.022257</td>\n",
              "      <td>0.026612</td>\n",
              "      <td>0.028119</td>\n",
              "      <td>0.037576</td>\n",
              "      <td>0.036479</td>\n",
              "      <td>0.001561</td>\n",
              "      <td>0</td>\n",
              "    </tr>\n",
              "    <tr>\n",
              "      <th>1</th>\n",
              "      <td>ISIC_0052349</td>\n",
              "      <td>IP_7782715</td>\n",
              "      <td>male</td>\n",
              "      <td>40.0</td>\n",
              "      <td>lower extremity</td>\n",
              "      <td>0.024670</td>\n",
              "      <td>0.028524</td>\n",
              "      <td>0.026074</td>\n",
              "      <td>0.000159</td>\n",
              "      <td>0.000020</td>\n",
              "      <td>0.000020</td>\n",
              "      <td>0.000020</td>\n",
              "      <td>0.000020</td>\n",
              "      <td>0.000020</td>\n",
              "      <td>0.007987</td>\n",
              "      <td>0.007918</td>\n",
              "      <td>0.003162</td>\n",
              "      <td>0.008760</td>\n",
              "      <td>0.020853</td>\n",
              "      <td>0.025464</td>\n",
              "      <td>0.025109</td>\n",
              "      <td>0.025673</td>\n",
              "      <td>0.193438</td>\n",
              "      <td>0.030290</td>\n",
              "      <td>0.000013</td>\n",
              "      <td>0.026585</td>\n",
              "      <td>0.025793</td>\n",
              "      <td>0.009849</td>\n",
              "      <td>0.016384</td>\n",
              "      <td>0.000417</td>\n",
              "      <td>0.000020</td>\n",
              "      <td>0.000068</td>\n",
              "      <td>0.029409</td>\n",
              "      <td>0.000118</td>\n",
              "      <td>0.016384</td>\n",
              "      <td>0.023487</td>\n",
              "      <td>0.023260</td>\n",
              "      <td>0.030450</td>\n",
              "      <td>0.023535</td>\n",
              "      <td>0.000427</td>\n",
              "      <td>1</td>\n",
              "    </tr>\n",
              "    <tr>\n",
              "      <th>2</th>\n",
              "      <td>ISIC_0058510</td>\n",
              "      <td>IP_7960270</td>\n",
              "      <td>female</td>\n",
              "      <td>55.0</td>\n",
              "      <td>torso</td>\n",
              "      <td>0.024656</td>\n",
              "      <td>0.027188</td>\n",
              "      <td>0.025925</td>\n",
              "      <td>0.000186</td>\n",
              "      <td>0.000072</td>\n",
              "      <td>0.000072</td>\n",
              "      <td>0.000072</td>\n",
              "      <td>0.000072</td>\n",
              "      <td>0.000072</td>\n",
              "      <td>0.007957</td>\n",
              "      <td>0.007847</td>\n",
              "      <td>0.003165</td>\n",
              "      <td>0.008500</td>\n",
              "      <td>0.027445</td>\n",
              "      <td>0.023276</td>\n",
              "      <td>0.029317</td>\n",
              "      <td>0.021880</td>\n",
              "      <td>0.001455</td>\n",
              "      <td>0.020130</td>\n",
              "      <td>0.000281</td>\n",
              "      <td>0.028502</td>\n",
              "      <td>0.027990</td>\n",
              "      <td>0.012835</td>\n",
              "      <td>0.023354</td>\n",
              "      <td>0.000396</td>\n",
              "      <td>0.000133</td>\n",
              "      <td>0.000124</td>\n",
              "      <td>0.023827</td>\n",
              "      <td>0.002049</td>\n",
              "      <td>0.023354</td>\n",
              "      <td>0.023767</td>\n",
              "      <td>0.023901</td>\n",
              "      <td>0.037198</td>\n",
              "      <td>0.031711</td>\n",
              "      <td>0.000575</td>\n",
              "      <td>2</td>\n",
              "    </tr>\n",
              "    <tr>\n",
              "      <th>3</th>\n",
              "      <td>ISIC_0073313</td>\n",
              "      <td>IP_6375035</td>\n",
              "      <td>female</td>\n",
              "      <td>50.0</td>\n",
              "      <td>torso</td>\n",
              "      <td>0.023767</td>\n",
              "      <td>0.027435</td>\n",
              "      <td>0.026442</td>\n",
              "      <td>0.000192</td>\n",
              "      <td>0.000053</td>\n",
              "      <td>0.000053</td>\n",
              "      <td>0.000053</td>\n",
              "      <td>0.000053</td>\n",
              "      <td>0.000053</td>\n",
              "      <td>0.007963</td>\n",
              "      <td>0.007866</td>\n",
              "      <td>0.003166</td>\n",
              "      <td>0.009011</td>\n",
              "      <td>0.022915</td>\n",
              "      <td>0.025389</td>\n",
              "      <td>0.029134</td>\n",
              "      <td>0.023915</td>\n",
              "      <td>0.000135</td>\n",
              "      <td>0.021280</td>\n",
              "      <td>0.000015</td>\n",
              "      <td>0.030733</td>\n",
              "      <td>0.030547</td>\n",
              "      <td>0.010287</td>\n",
              "      <td>0.017497</td>\n",
              "      <td>0.000466</td>\n",
              "      <td>0.000053</td>\n",
              "      <td>0.000195</td>\n",
              "      <td>0.024287</td>\n",
              "      <td>0.000135</td>\n",
              "      <td>0.017497</td>\n",
              "      <td>0.024287</td>\n",
              "      <td>0.022620</td>\n",
              "      <td>0.037297</td>\n",
              "      <td>0.026989</td>\n",
              "      <td>0.000598</td>\n",
              "      <td>3</td>\n",
              "    </tr>\n",
              "    <tr>\n",
              "      <th>4</th>\n",
              "      <td>ISIC_0073502</td>\n",
              "      <td>IP_0589375</td>\n",
              "      <td>female</td>\n",
              "      <td>45.0</td>\n",
              "      <td>lower extremity</td>\n",
              "      <td>0.023220</td>\n",
              "      <td>0.031915</td>\n",
              "      <td>0.033966</td>\n",
              "      <td>0.000948</td>\n",
              "      <td>0.000886</td>\n",
              "      <td>0.000527</td>\n",
              "      <td>0.001274</td>\n",
              "      <td>0.000527</td>\n",
              "      <td>0.002020</td>\n",
              "      <td>0.008137</td>\n",
              "      <td>0.008166</td>\n",
              "      <td>0.003206</td>\n",
              "      <td>0.008412</td>\n",
              "      <td>0.025112</td>\n",
              "      <td>0.027554</td>\n",
              "      <td>0.030768</td>\n",
              "      <td>0.031367</td>\n",
              "      <td>0.572050</td>\n",
              "      <td>0.161430</td>\n",
              "      <td>0.000044</td>\n",
              "      <td>0.032410</td>\n",
              "      <td>0.027750</td>\n",
              "      <td>0.011848</td>\n",
              "      <td>0.018092</td>\n",
              "      <td>0.002193</td>\n",
              "      <td>0.000216</td>\n",
              "      <td>0.002020</td>\n",
              "      <td>0.031621</td>\n",
              "      <td>0.000448</td>\n",
              "      <td>0.018092</td>\n",
              "      <td>0.027824</td>\n",
              "      <td>0.029094</td>\n",
              "      <td>0.029758</td>\n",
              "      <td>0.024709</td>\n",
              "      <td>0.002264</td>\n",
              "      <td>4</td>\n",
              "    </tr>\n",
              "  </tbody>\n",
              "</table>\n",
              "</div>"
            ],
            "text/plain": [
              "     image_name  patient_id     sex  ...  submission_median  trashtry  id\n",
              "0  ISIC_0052060  IP_3579794    male  ...           0.036479  0.001561   0\n",
              "1  ISIC_0052349  IP_7782715    male  ...           0.023535  0.000427   1\n",
              "2  ISIC_0058510  IP_7960270  female  ...           0.031711  0.000575   2\n",
              "3  ISIC_0073313  IP_6375035  female  ...           0.026989  0.000598   3\n",
              "4  ISIC_0073502  IP_0589375  female  ...           0.024709  0.002264   4\n",
              "\n",
              "[5 rows x 41 columns]"
            ]
          },
          "metadata": {
            "tags": []
          },
          "execution_count": 13
        }
      ]
    },
    {
      "cell_type": "code",
      "metadata": {
        "id": "pJHBgiTFe5Ge",
        "colab_type": "code",
        "colab": {
          "base_uri": "https://localhost:8080/",
          "height": 202
        },
        "outputId": "6d69089d-098c-4ccb-acf5-99315f05177f"
      },
      "source": [
        "test.columns"
      ],
      "execution_count": 14,
      "outputs": [
        {
          "output_type": "execute_result",
          "data": {
            "text/plain": [
              "Index(['image_name', 'patient_id', 'sex', 'age_approx',\n",
              "       'anatom_site_general_challenge', '9557plusmeta', 'IMG_SZ_384_2018',\n",
              "       'ensembled_9527', 'mean_ensemble_b0-b5_256', 'minmax1', 'minmax2',\n",
              "       'minmax3', 'minmax5', 'minmax7', 'stack1', 'stack2', 'stack3',\n",
              "       'stacknew1', 'sub_384b5_2', 'sub_512b4_2', 'sub_512b6_3', 'sub_768b5_5',\n",
              "       'sub_9486', 'sub_9498', 'sub_9512', 'sub_9577', 'sub_9581', 'sub_9603',\n",
              "       'sub_9619', 'sub_b2new_1_', 'sub_b4new_1up_', 'sub_b5new_2_',\n",
              "       'sub_blended_0.9418', 'sub_maybe_0.9504', 'sub_mean_maybe9533',\n",
              "       'sub_minmax_9526', 'sub_mixup7', 'sub_pp14', 'submission_median',\n",
              "       'trashtry', 'id'],\n",
              "      dtype='object')"
            ]
          },
          "metadata": {
            "tags": []
          },
          "execution_count": 14
        }
      ]
    },
    {
      "cell_type": "code",
      "metadata": {
        "id": "xRTtIK1ge5Gi",
        "colab_type": "code",
        "colab": {}
      },
      "source": [
        "# # Derive the given sub increases or decreases in score\n",
        "# test[\"diff_good1\"] =  test['../input/rank-then-blend/blend_sub'] - test['../input/triple-stratified-kfold-with-tfrecords/submission']\n",
        "# test[\"diff_good1\"] =  test['../input/train-cv/submission'] - test['../input/siim-isic-melanoma-classification-ensemble/submission']\n",
        "# test[\"diff_good2\"] = test['../input/rc-fork-siim-isic-melanoma-384x384/sub_EfficientNetB2_384'] - test['../input/submission-exploration/submission']\n",
        "# test[\"diff_good3\"] = test['../input/analysis-of-melanoma-metadata-and-effnet-ensemble/ensembled'] - test['../input/new-basline-np-log2-ensemble-top-10/submission']\n",
        "\n",
        "# test[\"diff_bad1\"] = test['../input/stacking-ensemble-on-my-submissions/submission_mean'] - test['../input/minmax-ensemble-0-9526-lb/submission']"
      ],
      "execution_count": 15,
      "outputs": []
    },
    {
      "cell_type": "code",
      "metadata": {
        "id": "Ao2Aep3MlVbr",
        "colab_type": "code",
        "colab": {}
      },
      "source": [
        "# Derive the given sub increases or decreases in score\n",
        "test[\"diff_good0\"] =  test['sub_9619'] - test['sub_9603'] \n",
        "test[\"diff_good1\"] =  test['sub_9581'] - test['sub_9577'] \n",
        "test[\"diff_good2\"] =  test['9557plusmeta'] - test['sub_mean_maybe9533'] \n",
        "test[\"diff_good3\"] =  test['ensembled_9527'] - test['sub_minmax_9526']\n",
        "test[\"diff_good4\"] =  test['sub_9512'] - test['sub_maybe_0.9504']\n",
        "test[\"diff_good5\"] =  test['sub_mixup7'] - test['sub_9498']\n",
        "\n",
        "test[\"diff_good6\"] =  test['sub_9498'] - test['sub_9486']\n",
        "test[\"diff_good7\"] =  test['sub_768b5_5'] - test['sub_512b6_3']\n",
        "test[\"diff_good8\"] =  test['sub_512b6_3'] - test['minmax3']\n",
        "test[\"diff_good9\"] =  test['submission_median'] - test['minmax7']\n",
        "test[\"diff_good10\"] =  test['minmax2'] - test['sub_b5new_2_']\n",
        "test[\"diff_good11\"] =  test['mean_ensemble_b0-b5_256'] - test['trashtry']\n",
        "test[\"diff_good12\"] =  test['minmax5'] - test['sub_512b4_2']\n",
        "test[\"diff_good13\"] =  test['sub_384b5_2'] - test['sub_blended_0.9418']\n",
        "\n",
        "test[\"diff_good14\"] =  test['minmax1'] - test['stack3']\n",
        "test[\"diff_good15\"] =  test['stacknew1'] - test['sub_b4new_1up_']\n",
        "test[\"diff_good16\"] =  test['stack2'] - test['sub_b2new_1_']\n",
        "test[\"diff_good17\"] =  test['IMG_SZ_384_2018'] - test['stack1']"
      ],
      "execution_count": 16,
      "outputs": []
    },
    {
      "cell_type": "code",
      "metadata": {
        "id": "JyF9KHhDe5Gl",
        "colab_type": "code",
        "colab": {}
      },
      "source": [
        "test[\"sub_best\"] = test['sub_pp14']\n",
        "col_comment = [\"id\", \"image_name\", \"patient_id\", \"sub_best\"]\n",
        "col_diff = [column for column in test.columns if \"diff\" in column]\n",
        "test_diff = test[col_comment + col_diff].reset_index(drop=True)\n",
        "\n",
        "test_diff[\"diff_avg\"] = test_diff[col_diff].mean(axis=1) # the mean trend"
      ],
      "execution_count": 17,
      "outputs": []
    },
    {
      "cell_type": "code",
      "metadata": {
        "id": "WkSrBU7je5Go",
        "colab_type": "code",
        "colab": {}
      },
      "source": [
        "# Apply the post-processing technique in one line (as explained in the pseudo-code of my post.\n",
        "test_diff[\"sub_new\"] = test_diff.apply(lambda x: (1+WEIGHT*x[\"diff_avg\"])*x[\"sub_best\"] if x[\"diff_avg\"]<0 else (1-WEIGHT*x[\"diff_avg\"])*x[\"sub_best\"] + WEIGHT*x[\"diff_avg\"] , axis=1)"
      ],
      "execution_count": 18,
      "outputs": []
    },
    {
      "cell_type": "code",
      "metadata": {
        "id": "TPVf5dvse5Gr",
        "colab_type": "code",
        "colab": {
          "base_uri": "https://localhost:8080/",
          "height": 195
        },
        "outputId": "aff8a6eb-31de-4d77-c395-0c0691b0cc70"
      },
      "source": [
        "submission[\"target\"] = sub_best[\"target\"]\n",
        "submission.head()"
      ],
      "execution_count": 19,
      "outputs": [
        {
          "output_type": "execute_result",
          "data": {
            "text/html": [
              "<div>\n",
              "<style scoped>\n",
              "    .dataframe tbody tr th:only-of-type {\n",
              "        vertical-align: middle;\n",
              "    }\n",
              "\n",
              "    .dataframe tbody tr th {\n",
              "        vertical-align: top;\n",
              "    }\n",
              "\n",
              "    .dataframe thead th {\n",
              "        text-align: right;\n",
              "    }\n",
              "</style>\n",
              "<table border=\"1\" class=\"dataframe\">\n",
              "  <thead>\n",
              "    <tr style=\"text-align: right;\">\n",
              "      <th></th>\n",
              "      <th>image_name</th>\n",
              "      <th>target</th>\n",
              "    </tr>\n",
              "  </thead>\n",
              "  <tbody>\n",
              "    <tr>\n",
              "      <th>0</th>\n",
              "      <td>ISIC_0052060</td>\n",
              "      <td>0.037576</td>\n",
              "    </tr>\n",
              "    <tr>\n",
              "      <th>1</th>\n",
              "      <td>ISIC_0052349</td>\n",
              "      <td>0.030450</td>\n",
              "    </tr>\n",
              "    <tr>\n",
              "      <th>2</th>\n",
              "      <td>ISIC_0058510</td>\n",
              "      <td>0.037198</td>\n",
              "    </tr>\n",
              "    <tr>\n",
              "      <th>3</th>\n",
              "      <td>ISIC_0073313</td>\n",
              "      <td>0.037297</td>\n",
              "    </tr>\n",
              "    <tr>\n",
              "      <th>4</th>\n",
              "      <td>ISIC_0073502</td>\n",
              "      <td>0.029758</td>\n",
              "    </tr>\n",
              "  </tbody>\n",
              "</table>\n",
              "</div>"
            ],
            "text/plain": [
              "     image_name    target\n",
              "0  ISIC_0052060  0.037576\n",
              "1  ISIC_0052349  0.030450\n",
              "2  ISIC_0058510  0.037198\n",
              "3  ISIC_0073313  0.037297\n",
              "4  ISIC_0073502  0.029758"
            ]
          },
          "metadata": {
            "tags": []
          },
          "execution_count": 19
        }
      ]
    },
    {
      "cell_type": "code",
      "metadata": {
        "id": "D4gKIB6se5Gv",
        "colab_type": "code",
        "colab": {
          "base_uri": "https://localhost:8080/",
          "height": 215
        },
        "outputId": "7640df1c-54c7-4b43-db48-27242916fb13"
      },
      "source": [
        "test_diff.head()"
      ],
      "execution_count": 20,
      "outputs": [
        {
          "output_type": "execute_result",
          "data": {
            "text/html": [
              "<div>\n",
              "<style scoped>\n",
              "    .dataframe tbody tr th:only-of-type {\n",
              "        vertical-align: middle;\n",
              "    }\n",
              "\n",
              "    .dataframe tbody tr th {\n",
              "        vertical-align: top;\n",
              "    }\n",
              "\n",
              "    .dataframe thead th {\n",
              "        text-align: right;\n",
              "    }\n",
              "</style>\n",
              "<table border=\"1\" class=\"dataframe\">\n",
              "  <thead>\n",
              "    <tr style=\"text-align: right;\">\n",
              "      <th></th>\n",
              "      <th>id</th>\n",
              "      <th>image_name</th>\n",
              "      <th>patient_id</th>\n",
              "      <th>sub_best</th>\n",
              "      <th>diff_good0</th>\n",
              "      <th>diff_good1</th>\n",
              "      <th>diff_good2</th>\n",
              "      <th>diff_good3</th>\n",
              "      <th>diff_good4</th>\n",
              "      <th>diff_good5</th>\n",
              "      <th>diff_good6</th>\n",
              "      <th>diff_good7</th>\n",
              "      <th>diff_good8</th>\n",
              "      <th>diff_good9</th>\n",
              "      <th>diff_good10</th>\n",
              "      <th>diff_good11</th>\n",
              "      <th>diff_good12</th>\n",
              "      <th>diff_good13</th>\n",
              "      <th>diff_good14</th>\n",
              "      <th>diff_good15</th>\n",
              "      <th>diff_good16</th>\n",
              "      <th>diff_good17</th>\n",
              "      <th>diff_avg</th>\n",
              "      <th>sub_new</th>\n",
              "    </tr>\n",
              "  </thead>\n",
              "  <tbody>\n",
              "    <tr>\n",
              "      <th>0</th>\n",
              "      <td>0</td>\n",
              "      <td>ISIC_0052060</td>\n",
              "      <td>IP_3579794</td>\n",
              "      <td>0.037576</td>\n",
              "      <td>0.010210</td>\n",
              "      <td>-0.003247</td>\n",
              "      <td>0.005126</td>\n",
              "      <td>0.000826</td>\n",
              "      <td>-0.000132</td>\n",
              "      <td>-0.007500</td>\n",
              "      <td>-0.430206</td>\n",
              "      <td>-0.000798</td>\n",
              "      <td>0.028462</td>\n",
              "      <td>0.036313</td>\n",
              "      <td>-0.000059</td>\n",
              "      <td>-0.001251</td>\n",
              "      <td>-0.028525</td>\n",
              "      <td>-0.010007</td>\n",
              "      <td>-0.003053</td>\n",
              "      <td>0.008540</td>\n",
              "      <td>0.007405</td>\n",
              "      <td>0.024264</td>\n",
              "      <td>-0.020202</td>\n",
              "      <td>0.036817</td>\n",
              "    </tr>\n",
              "    <tr>\n",
              "      <th>1</th>\n",
              "      <td>1</td>\n",
              "      <td>ISIC_0052349</td>\n",
              "      <td>IP_7782715</td>\n",
              "      <td>0.030450</td>\n",
              "      <td>0.006535</td>\n",
              "      <td>-0.000791</td>\n",
              "      <td>0.008286</td>\n",
              "      <td>0.002588</td>\n",
              "      <td>-0.000105</td>\n",
              "      <td>-0.007031</td>\n",
              "      <td>-0.163148</td>\n",
              "      <td>0.000563</td>\n",
              "      <td>0.025089</td>\n",
              "      <td>0.023515</td>\n",
              "      <td>-0.000048</td>\n",
              "      <td>-0.000268</td>\n",
              "      <td>-0.025444</td>\n",
              "      <td>-0.008556</td>\n",
              "      <td>-0.003141</td>\n",
              "      <td>0.008740</td>\n",
              "      <td>0.007501</td>\n",
              "      <td>0.020536</td>\n",
              "      <td>-0.005843</td>\n",
              "      <td>0.030272</td>\n",
              "    </tr>\n",
              "    <tr>\n",
              "      <th>2</th>\n",
              "      <td>2</td>\n",
              "      <td>ISIC_0058510</td>\n",
              "      <td>IP_7960270</td>\n",
              "      <td>0.037198</td>\n",
              "      <td>0.010519</td>\n",
              "      <td>-0.000513</td>\n",
              "      <td>0.001302</td>\n",
              "      <td>0.002158</td>\n",
              "      <td>-0.001768</td>\n",
              "      <td>0.003771</td>\n",
              "      <td>0.018675</td>\n",
              "      <td>-0.007437</td>\n",
              "      <td>0.029246</td>\n",
              "      <td>0.031639</td>\n",
              "      <td>-0.000053</td>\n",
              "      <td>-0.000389</td>\n",
              "      <td>-0.023205</td>\n",
              "      <td>0.003618</td>\n",
              "      <td>-0.003093</td>\n",
              "      <td>0.008367</td>\n",
              "      <td>0.007451</td>\n",
              "      <td>0.019231</td>\n",
              "      <td>0.005529</td>\n",
              "      <td>0.042521</td>\n",
              "    </tr>\n",
              "    <tr>\n",
              "      <th>3</th>\n",
              "      <td>3</td>\n",
              "      <td>ISIC_0073313</td>\n",
              "      <td>IP_6375035</td>\n",
              "      <td>0.037297</td>\n",
              "      <td>0.007210</td>\n",
              "      <td>-0.000186</td>\n",
              "      <td>0.006270</td>\n",
              "      <td>0.002155</td>\n",
              "      <td>-0.000120</td>\n",
              "      <td>0.001340</td>\n",
              "      <td>0.021145</td>\n",
              "      <td>-0.005219</td>\n",
              "      <td>0.029081</td>\n",
              "      <td>0.026936</td>\n",
              "      <td>-0.000143</td>\n",
              "      <td>-0.000406</td>\n",
              "      <td>-0.025336</td>\n",
              "      <td>-0.001372</td>\n",
              "      <td>-0.003114</td>\n",
              "      <td>0.008958</td>\n",
              "      <td>0.007400</td>\n",
              "      <td>0.019472</td>\n",
              "      <td>0.005226</td>\n",
              "      <td>0.042328</td>\n",
              "    </tr>\n",
              "    <tr>\n",
              "      <th>4</th>\n",
              "      <td>4</td>\n",
              "      <td>ISIC_0073502</td>\n",
              "      <td>IP_0589375</td>\n",
              "      <td>0.029758</td>\n",
              "      <td>0.006244</td>\n",
              "      <td>-0.004660</td>\n",
              "      <td>0.005128</td>\n",
              "      <td>0.006143</td>\n",
              "      <td>-0.000404</td>\n",
              "      <td>-0.132336</td>\n",
              "      <td>-0.410620</td>\n",
              "      <td>0.000599</td>\n",
              "      <td>0.029494</td>\n",
              "      <td>0.022689</td>\n",
              "      <td>-0.001493</td>\n",
              "      <td>-0.001317</td>\n",
              "      <td>-0.027027</td>\n",
              "      <td>-0.006508</td>\n",
              "      <td>-0.002319</td>\n",
              "      <td>0.008197</td>\n",
              "      <td>0.005973</td>\n",
              "      <td>0.023777</td>\n",
              "      <td>-0.026580</td>\n",
              "      <td>0.028967</td>\n",
              "    </tr>\n",
              "  </tbody>\n",
              "</table>\n",
              "</div>"
            ],
            "text/plain": [
              "   id    image_name  patient_id  ...  diff_good17  diff_avg   sub_new\n",
              "0   0  ISIC_0052060  IP_3579794  ...     0.024264 -0.020202  0.036817\n",
              "1   1  ISIC_0052349  IP_7782715  ...     0.020536 -0.005843  0.030272\n",
              "2   2  ISIC_0058510  IP_7960270  ...     0.019231  0.005529  0.042521\n",
              "3   3  ISIC_0073313  IP_6375035  ...     0.019472  0.005226  0.042328\n",
              "4   4  ISIC_0073502  IP_0589375  ...     0.023777 -0.026580  0.028967\n",
              "\n",
              "[5 rows x 24 columns]"
            ]
          },
          "metadata": {
            "tags": []
          },
          "execution_count": 20
        }
      ]
    },
    {
      "cell_type": "code",
      "metadata": {
        "id": "lT6npmbce5Gy",
        "colab_type": "code",
        "colab": {}
      },
      "source": [
        "submission.loc[test[\"id\"], \"target\"] = test_diff[\"sub_new\"].values"
      ],
      "execution_count": 21,
      "outputs": []
    },
    {
      "cell_type": "code",
      "metadata": {
        "id": "dxMj0G22e5G1",
        "colab_type": "code",
        "colab": {
          "base_uri": "https://localhost:8080/",
          "height": 195
        },
        "outputId": "770e3aaa-4d5b-41f8-a472-0a38d12eff31"
      },
      "source": [
        "submission.to_csv(\"sub_pp15.csv\", index=False)\n",
        "submission.head()"
      ],
      "execution_count": 22,
      "outputs": [
        {
          "output_type": "execute_result",
          "data": {
            "text/html": [
              "<div>\n",
              "<style scoped>\n",
              "    .dataframe tbody tr th:only-of-type {\n",
              "        vertical-align: middle;\n",
              "    }\n",
              "\n",
              "    .dataframe tbody tr th {\n",
              "        vertical-align: top;\n",
              "    }\n",
              "\n",
              "    .dataframe thead th {\n",
              "        text-align: right;\n",
              "    }\n",
              "</style>\n",
              "<table border=\"1\" class=\"dataframe\">\n",
              "  <thead>\n",
              "    <tr style=\"text-align: right;\">\n",
              "      <th></th>\n",
              "      <th>image_name</th>\n",
              "      <th>target</th>\n",
              "    </tr>\n",
              "  </thead>\n",
              "  <tbody>\n",
              "    <tr>\n",
              "      <th>0</th>\n",
              "      <td>ISIC_0052060</td>\n",
              "      <td>0.036817</td>\n",
              "    </tr>\n",
              "    <tr>\n",
              "      <th>1</th>\n",
              "      <td>ISIC_0052349</td>\n",
              "      <td>0.030272</td>\n",
              "    </tr>\n",
              "    <tr>\n",
              "      <th>2</th>\n",
              "      <td>ISIC_0058510</td>\n",
              "      <td>0.042521</td>\n",
              "    </tr>\n",
              "    <tr>\n",
              "      <th>3</th>\n",
              "      <td>ISIC_0073313</td>\n",
              "      <td>0.042328</td>\n",
              "    </tr>\n",
              "    <tr>\n",
              "      <th>4</th>\n",
              "      <td>ISIC_0073502</td>\n",
              "      <td>0.028967</td>\n",
              "    </tr>\n",
              "  </tbody>\n",
              "</table>\n",
              "</div>"
            ],
            "text/plain": [
              "     image_name    target\n",
              "0  ISIC_0052060  0.036817\n",
              "1  ISIC_0052349  0.030272\n",
              "2  ISIC_0058510  0.042521\n",
              "3  ISIC_0073313  0.042328\n",
              "4  ISIC_0073502  0.028967"
            ]
          },
          "metadata": {
            "tags": []
          },
          "execution_count": 22
        }
      ]
    },
    {
      "cell_type": "code",
      "metadata": {
        "id": "Qzb-1ugfe5G6",
        "colab_type": "code",
        "colab": {
          "base_uri": "https://localhost:8080/",
          "height": 265
        },
        "outputId": "3c4c07c3-fa36-4162-ebef-fbcb1d46ecf1"
      },
      "source": [
        "plt.hist(submission.target,bins=100)\n",
        "plt.show()"
      ],
      "execution_count": 23,
      "outputs": [
        {
          "output_type": "display_data",
          "data": {
            "image/png": "[encoded data removed]",
            "text/plain": [
              "<Figure size 432x288 with 1 Axes>"
            ]
          },
          "metadata": {
            "tags": [],
            "needs_background": "light"
          }
        }
      ]
    },
    {
      "cell_type": "code",
      "metadata": {
        "id": "bZc9ZQXdnnXn",
        "colab_type": "code",
        "colab": {}
      },
      "source": [
        ""
      ],
      "execution_count": 50,
      "outputs": []
    }
  ]
}