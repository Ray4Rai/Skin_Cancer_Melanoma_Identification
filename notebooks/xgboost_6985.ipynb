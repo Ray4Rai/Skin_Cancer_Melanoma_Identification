{
  "nbformat": 4,
  "nbformat_minor": 0,
  "metadata": {
    "kernelspec": {
      "display_name": "Python 3",
      "language": "python",
      "name": "python3"
    },
    "language_info": {
      "codemirror_mode": {
        "name": "ipython",
        "version": 3
      },
      "file_extension": ".py",
      "mimetype": "text/x-python",
      "name": "python",
      "nbconvert_exporter": "python",
      "pygments_lexer": "ipython3",
      "version": "3.7.6"
    },
    "colab": {
      "name": "xgboost.ipynb",
      "provenance": []
    }
  },
  "cells": [
    {
      "cell_type": "code",
      "metadata": {
        "id": "vkz1g1D8saAW",
        "colab_type": "code",
        "colab": {
          "base_uri": "https://localhost:8080/",
          "height": 67
        },
        "outputId": "409e44fc-c312-4ea8-be06-63470149b5d4"
      },
      "source": [
        "!pip install xgboost\n",
        "\n",
        "import numpy as np\n",
        "import pandas as pd\n",
        "\n",
        "import xgboost as xgb\n",
        "from sklearn.metrics import accuracy_score, roc_auc_score"
      ],
      "execution_count": 1,
      "outputs": [
        {
          "output_type": "stream",
          "text": [
            "Requirement already satisfied: xgboost in /usr/local/lib/python3.6/dist-packages (0.90)\n",
            "Requirement already satisfied: scipy in /usr/local/lib/python3.6/dist-packages (from xgboost) (1.4.1)\n",
            "Requirement already satisfied: numpy in /usr/local/lib/python3.6/dist-packages (from xgboost) (1.18.5)\n"
          ],
          "name": "stdout"
        }
      ]
    },
    {
      "cell_type": "code",
      "metadata": {
        "_cell_guid": "b1076dfc-b9ad-4769-8c92-a6c4dae69d19",
        "_uuid": "8f2839f25d086af736a60e9eeb907d3b93b6e0e5",
        "id": "6JOmqJhesaAg",
        "colab_type": "code",
        "colab": {
          "base_uri": "https://localhost:8080/",
          "height": 67
        },
        "outputId": "bd8df5b7-7ec9-42e0-d96b-a9665f1ab6b6"
      },
      "source": [
        "train= pd.read_csv('new_train.csv')\n",
        "test= pd.read_csv('test.csv')\n",
        "sub   = pd.read_csv('sample_submission.csv')\n",
        "train.head()\n",
        "\n",
        "train.target.value_counts()\n"
      ],
      "execution_count": 2,
      "outputs": [
        {
          "output_type": "execute_result",
          "data": {
            "text/plain": [
              "0    32542\n",
              "1      584\n",
              "Name: target, dtype: int64"
            ]
          },
          "metadata": {
            "tags": []
          },
          "execution_count": 2
        }
      ]
    },
    {
      "cell_type": "markdown",
      "metadata": {
        "id": "JfVay3Ezz9jK",
        "colab_type": "text"
      },
      "source": [
        "# Feature eng (NEW)"
      ]
    },
    {
      "cell_type": "code",
      "metadata": {
        "id": "Rc-7dWTnsaAl",
        "colab_type": "code",
        "colab": {}
      },
      "source": [
        "train['sex'] = train['sex'].fillna('na')\n",
        "train['age_approx'] = train['age_approx'].fillna(0)\n",
        "train['anatom_site_general_challenge'] = train['anatom_site_general_challenge'].fillna('na')\n",
        "\n",
        "test['sex'] = test['sex'].fillna('na')\n",
        "test['age_approx'] = test['age_approx'].fillna(0)\n",
        "test['anatom_site_general_challenge'] = test['anatom_site_general_challenge'].fillna('na')"
      ],
      "execution_count": 3,
      "outputs": []
    },
    {
      "cell_type": "code",
      "metadata": {
        "id": "WOp6jFLOsaAq",
        "colab_type": "code",
        "colab": {
          "base_uri": "https://localhost:8080/",
          "height": 215
        },
        "outputId": "9df49f04-3b14-46b4-8055-40db6b6273ae"
      },
      "source": [
        "train['sex'] = train['sex'].astype(\"category\").cat.codes +1\n",
        "train['anatom_site_general_challenge'] = train['anatom_site_general_challenge'].astype(\"category\").cat.codes +1\n",
        "train.head()"
      ],
      "execution_count": 4,
      "outputs": [
        {
          "output_type": "execute_result",
          "data": {
            "text/html": [
              "<div>\n",
              "<style scoped>\n",
              "    .dataframe tbody tr th:only-of-type {\n",
              "        vertical-align: middle;\n",
              "    }\n",
              "\n",
              "    .dataframe tbody tr th {\n",
              "        vertical-align: top;\n",
              "    }\n",
              "\n",
              "    .dataframe thead th {\n",
              "        text-align: right;\n",
              "    }\n",
              "</style>\n",
              "<table border=\"1\" class=\"dataframe\">\n",
              "  <thead>\n",
              "    <tr style=\"text-align: right;\">\n",
              "      <th></th>\n",
              "      <th>image_name</th>\n",
              "      <th>patient_id</th>\n",
              "      <th>sex</th>\n",
              "      <th>age_approx</th>\n",
              "      <th>anatom_site_general_challenge</th>\n",
              "      <th>diagnosis</th>\n",
              "      <th>benign_malignant</th>\n",
              "      <th>target</th>\n",
              "      <th>tfrecord</th>\n",
              "      <th>width</th>\n",
              "      <th>height</th>\n",
              "      <th>patient_code</th>\n",
              "    </tr>\n",
              "  </thead>\n",
              "  <tbody>\n",
              "    <tr>\n",
              "      <th>0</th>\n",
              "      <td>ISIC_2637011</td>\n",
              "      <td>IP_7279968</td>\n",
              "      <td>2</td>\n",
              "      <td>45.0</td>\n",
              "      <td>1</td>\n",
              "      <td>unknown</td>\n",
              "      <td>benign</td>\n",
              "      <td>0</td>\n",
              "      <td>0</td>\n",
              "      <td>6000</td>\n",
              "      <td>4000</td>\n",
              "      <td>0</td>\n",
              "    </tr>\n",
              "    <tr>\n",
              "      <th>1</th>\n",
              "      <td>ISIC_0015719</td>\n",
              "      <td>IP_3075186</td>\n",
              "      <td>1</td>\n",
              "      <td>45.0</td>\n",
              "      <td>7</td>\n",
              "      <td>unknown</td>\n",
              "      <td>benign</td>\n",
              "      <td>0</td>\n",
              "      <td>0</td>\n",
              "      <td>6000</td>\n",
              "      <td>4000</td>\n",
              "      <td>1</td>\n",
              "    </tr>\n",
              "    <tr>\n",
              "      <th>2</th>\n",
              "      <td>ISIC_0052212</td>\n",
              "      <td>IP_2842074</td>\n",
              "      <td>1</td>\n",
              "      <td>50.0</td>\n",
              "      <td>2</td>\n",
              "      <td>nevus</td>\n",
              "      <td>benign</td>\n",
              "      <td>0</td>\n",
              "      <td>6</td>\n",
              "      <td>1872</td>\n",
              "      <td>1053</td>\n",
              "      <td>2</td>\n",
              "    </tr>\n",
              "    <tr>\n",
              "      <th>3</th>\n",
              "      <td>ISIC_0068279</td>\n",
              "      <td>IP_6890425</td>\n",
              "      <td>1</td>\n",
              "      <td>45.0</td>\n",
              "      <td>1</td>\n",
              "      <td>unknown</td>\n",
              "      <td>benign</td>\n",
              "      <td>0</td>\n",
              "      <td>0</td>\n",
              "      <td>1872</td>\n",
              "      <td>1053</td>\n",
              "      <td>3</td>\n",
              "    </tr>\n",
              "    <tr>\n",
              "      <th>4</th>\n",
              "      <td>ISIC_0074268</td>\n",
              "      <td>IP_8723313</td>\n",
              "      <td>1</td>\n",
              "      <td>55.0</td>\n",
              "      <td>7</td>\n",
              "      <td>unknown</td>\n",
              "      <td>benign</td>\n",
              "      <td>0</td>\n",
              "      <td>11</td>\n",
              "      <td>6000</td>\n",
              "      <td>4000</td>\n",
              "      <td>4</td>\n",
              "    </tr>\n",
              "  </tbody>\n",
              "</table>\n",
              "</div>"
            ],
            "text/plain": [
              "     image_name  patient_id  sex  ...  width  height patient_code\n",
              "0  ISIC_2637011  IP_7279968    2  ...   6000    4000            0\n",
              "1  ISIC_0015719  IP_3075186    1  ...   6000    4000            1\n",
              "2  ISIC_0052212  IP_2842074    1  ...   1872    1053            2\n",
              "3  ISIC_0068279  IP_6890425    1  ...   1872    1053            3\n",
              "4  ISIC_0074268  IP_8723313    1  ...   6000    4000            4\n",
              "\n",
              "[5 rows x 12 columns]"
            ]
          },
          "metadata": {
            "tags": []
          },
          "execution_count": 4
        }
      ]
    },
    {
      "cell_type": "code",
      "metadata": {
        "id": "V-TTy0visaAw",
        "colab_type": "code",
        "colab": {
          "base_uri": "https://localhost:8080/",
          "height": 195
        },
        "outputId": "c3e624de-be54-4115-fa79-462cd2437041"
      },
      "source": [
        "test['sex'] = test['sex'].astype(\"category\").cat.codes +1\n",
        "test['anatom_site_general_challenge'] = test['anatom_site_general_challenge'].astype(\"category\").cat.codes +1\n",
        "test.head()"
      ],
      "execution_count": 5,
      "outputs": [
        {
          "output_type": "execute_result",
          "data": {
            "text/html": [
              "<div>\n",
              "<style scoped>\n",
              "    .dataframe tbody tr th:only-of-type {\n",
              "        vertical-align: middle;\n",
              "    }\n",
              "\n",
              "    .dataframe tbody tr th {\n",
              "        vertical-align: top;\n",
              "    }\n",
              "\n",
              "    .dataframe thead th {\n",
              "        text-align: right;\n",
              "    }\n",
              "</style>\n",
              "<table border=\"1\" class=\"dataframe\">\n",
              "  <thead>\n",
              "    <tr style=\"text-align: right;\">\n",
              "      <th></th>\n",
              "      <th>image_name</th>\n",
              "      <th>patient_id</th>\n",
              "      <th>sex</th>\n",
              "      <th>age_approx</th>\n",
              "      <th>anatom_site_general_challenge</th>\n",
              "    </tr>\n",
              "  </thead>\n",
              "  <tbody>\n",
              "    <tr>\n",
              "      <th>0</th>\n",
              "      <td>ISIC_0052060</td>\n",
              "      <td>IP_3579794</td>\n",
              "      <td>2</td>\n",
              "      <td>70.0</td>\n",
              "      <td>3</td>\n",
              "    </tr>\n",
              "    <tr>\n",
              "      <th>1</th>\n",
              "      <td>ISIC_0052349</td>\n",
              "      <td>IP_7782715</td>\n",
              "      <td>2</td>\n",
              "      <td>40.0</td>\n",
              "      <td>2</td>\n",
              "    </tr>\n",
              "    <tr>\n",
              "      <th>2</th>\n",
              "      <td>ISIC_0058510</td>\n",
              "      <td>IP_7960270</td>\n",
              "      <td>1</td>\n",
              "      <td>55.0</td>\n",
              "      <td>6</td>\n",
              "    </tr>\n",
              "    <tr>\n",
              "      <th>3</th>\n",
              "      <td>ISIC_0073313</td>\n",
              "      <td>IP_6375035</td>\n",
              "      <td>1</td>\n",
              "      <td>50.0</td>\n",
              "      <td>6</td>\n",
              "    </tr>\n",
              "    <tr>\n",
              "      <th>4</th>\n",
              "      <td>ISIC_0073502</td>\n",
              "      <td>IP_0589375</td>\n",
              "      <td>1</td>\n",
              "      <td>45.0</td>\n",
              "      <td>2</td>\n",
              "    </tr>\n",
              "  </tbody>\n",
              "</table>\n",
              "</div>"
            ],
            "text/plain": [
              "     image_name  patient_id  sex  age_approx  anatom_site_general_challenge\n",
              "0  ISIC_0052060  IP_3579794    2        70.0                              3\n",
              "1  ISIC_0052349  IP_7782715    2        40.0                              2\n",
              "2  ISIC_0058510  IP_7960270    1        55.0                              6\n",
              "3  ISIC_0073313  IP_6375035    1        50.0                              6\n",
              "4  ISIC_0073502  IP_0589375    1        45.0                              2"
            ]
          },
          "metadata": {
            "tags": []
          },
          "execution_count": 5
        }
      ]
    },
    {
      "cell_type": "code",
      "metadata": {
        "id": "7pTi-O7VsaA0",
        "colab_type": "code",
        "colab": {}
      },
      "source": [
        ""
      ],
      "execution_count": null,
      "outputs": []
    },
    {
      "cell_type": "code",
      "metadata": {
        "id": "uy6M64qosaA3",
        "colab_type": "code",
        "colab": {}
      },
      "source": [
        "x_train = train[['sex', 'age_approx','anatom_site_general_challenge']]\n",
        "y_train = train['target']\n",
        "\n",
        "\n",
        "x_test = test[['sex', 'age_approx','anatom_site_general_challenge']]\n",
        "# y_train = test['target']\n",
        "\n",
        "\n",
        "train_DMatrix = xgb.DMatrix(x_train, label= y_train)\n",
        "test_DMatrix = xgb.DMatrix(x_test)"
      ],
      "execution_count": 6,
      "outputs": []
    },
    {
      "cell_type": "code",
      "metadata": {
        "id": "2rI0xTe1saA9",
        "colab_type": "code",
        "colab": {}
      },
      "source": [
        "# model = xgb.train(param, \n",
        "#                   train_DMatrix, \n",
        "#                   num_boost_round=epochs)\n",
        "\n",
        "clf = xgb.XGBClassifier(n_estimators=2000, \n",
        "                        max_depth=8, \n",
        "                        objective='multi:softprob',\n",
        "                        metric='aucpr',\n",
        "                        seed=8,  \n",
        "                        nthread=-1, \n",
        "                        learning_rate=0.15, \n",
        "                        num_class = 2, \n",
        "                        scale_pos_weight = (32542/584))\n",
        "\n"
      ],
      "execution_count": 12,
      "outputs": []
    },
    {
      "cell_type": "code",
      "metadata": {
        "id": "pG1Hrgw6saA_",
        "colab_type": "code",
        "colab": {
          "base_uri": "https://localhost:8080/",
          "height": 151
        },
        "outputId": "f97d5243-db93-45dd-e405-f61212d71bf7"
      },
      "source": [
        "clf.fit(x_train, y_train)"
      ],
      "execution_count": 13,
      "outputs": [
        {
          "output_type": "execute_result",
          "data": {
            "text/plain": [
              "XGBClassifier(base_score=0.5, booster='gbtree', colsample_bylevel=1,\n",
              "              colsample_bynode=1, colsample_bytree=1, gamma=0,\n",
              "              learning_rate=0.15, max_delta_step=0, max_depth=8, metric='aucpr',\n",
              "              min_child_weight=1, missing=None, n_estimators=2000, n_jobs=1,\n",
              "              nthread=-1, num_class=2, objective='multi:softprob',\n",
              "              random_state=0, reg_alpha=0, reg_lambda=1,\n",
              "              scale_pos_weight=55.72260273972603, seed=8, silent=None,\n",
              "              subsample=1, verbosity=1)"
            ]
          },
          "metadata": {
            "tags": []
          },
          "execution_count": 13
        }
      ]
    },
    {
      "cell_type": "code",
      "metadata": {
        "id": "ZjGAbC9NvEOD",
        "colab_type": "code",
        "colab": {
          "base_uri": "https://localhost:8080/",
          "height": 50
        },
        "outputId": "a688812a-4cfd-46b1-a32f-dfdad9bbed8a"
      },
      "source": [
        "a = clf.predict_proba(x_train)[:,1]\n",
        "a"
      ],
      "execution_count": 14,
      "outputs": [
        {
          "output_type": "execute_result",
          "data": {
            "text/plain": [
              "array([0.01539697, 0.01739808, 0.00974392, ..., 0.01070748, 0.01362674,\n",
              "       0.00794586], dtype=float32)"
            ]
          },
          "metadata": {
            "tags": []
          },
          "execution_count": 14
        }
      ]
    },
    {
      "cell_type": "code",
      "metadata": {
        "id": "q2vbTRuewutz",
        "colab_type": "code",
        "colab": {
          "base_uri": "https://localhost:8080/",
          "height": 34
        },
        "outputId": "16b923b2-8b69-44b5-e010-df80ac8cfafb"
      },
      "source": [
        "roc_auc_score(train['target'].values, a)"
      ],
      "execution_count": 15,
      "outputs": [
        {
          "output_type": "execute_result",
          "data": {
            "text/plain": [
              "0.7462879109652183"
            ]
          },
          "metadata": {
            "tags": []
          },
          "execution_count": 15
        }
      ]
    },
    {
      "cell_type": "code",
      "metadata": {
        "id": "piaQzmpazKwF",
        "colab_type": "code",
        "colab": {}
      },
      "source": [
        ""
      ],
      "execution_count": null,
      "outputs": []
    },
    {
      "cell_type": "code",
      "metadata": {
        "id": "teEJZG7-saBB",
        "colab_type": "code",
        "colab": {
          "base_uri": "https://localhost:8080/",
          "height": 195
        },
        "outputId": "acb2ced6-602b-491c-b4eb-76262367a62b"
      },
      "source": [
        "# predictions = model.predict(test_DMatrix)\n",
        "# proba = model.predict_proba(test_DMatrix) \n",
        "b = clf.predict_proba(x_test)[:,1]\n",
        "# clf.predict(x_test)\n",
        "sub.target = b\n",
        "sub.head()"
      ],
      "execution_count": 16,
      "outputs": [
        {
          "output_type": "execute_result",
          "data": {
            "text/html": [
              "<div>\n",
              "<style scoped>\n",
              "    .dataframe tbody tr th:only-of-type {\n",
              "        vertical-align: middle;\n",
              "    }\n",
              "\n",
              "    .dataframe tbody tr th {\n",
              "        vertical-align: top;\n",
              "    }\n",
              "\n",
              "    .dataframe thead th {\n",
              "        text-align: right;\n",
              "    }\n",
              "</style>\n",
              "<table border=\"1\" class=\"dataframe\">\n",
              "  <thead>\n",
              "    <tr style=\"text-align: right;\">\n",
              "      <th></th>\n",
              "      <th>image_name</th>\n",
              "      <th>target</th>\n",
              "    </tr>\n",
              "  </thead>\n",
              "  <tbody>\n",
              "    <tr>\n",
              "      <th>0</th>\n",
              "      <td>ISIC_0052060</td>\n",
              "      <td>0.001979</td>\n",
              "    </tr>\n",
              "    <tr>\n",
              "      <th>1</th>\n",
              "      <td>ISIC_0052349</td>\n",
              "      <td>0.008126</td>\n",
              "    </tr>\n",
              "    <tr>\n",
              "      <th>2</th>\n",
              "      <td>ISIC_0058510</td>\n",
              "      <td>0.014590</td>\n",
              "    </tr>\n",
              "    <tr>\n",
              "      <th>3</th>\n",
              "      <td>ISIC_0073313</td>\n",
              "      <td>0.008271</td>\n",
              "    </tr>\n",
              "    <tr>\n",
              "      <th>4</th>\n",
              "      <td>ISIC_0073502</td>\n",
              "      <td>0.007258</td>\n",
              "    </tr>\n",
              "  </tbody>\n",
              "</table>\n",
              "</div>"
            ],
            "text/plain": [
              "     image_name    target\n",
              "0  ISIC_0052060  0.001979\n",
              "1  ISIC_0052349  0.008126\n",
              "2  ISIC_0058510  0.014590\n",
              "3  ISIC_0073313  0.008271\n",
              "4  ISIC_0073502  0.007258"
            ]
          },
          "metadata": {
            "tags": []
          },
          "execution_count": 16
        }
      ]
    },
    {
      "cell_type": "code",
      "metadata": {
        "id": "Zhlyi84QsaBH",
        "colab_type": "code",
        "colab": {}
      },
      "source": [
        ""
      ],
      "execution_count": null,
      "outputs": []
    },
    {
      "cell_type": "code",
      "metadata": {
        "id": "V4aUFtVCsaBL",
        "colab_type": "code",
        "colab": {}
      },
      "source": [
        "sub.to_csv('sub_xgother1.csv', index = False)"
      ],
      "execution_count": 17,
      "outputs": []
    },
    {
      "cell_type": "code",
      "metadata": {
        "id": "33h82h1dsaBJ",
        "colab_type": "code",
        "colab": {}
      },
      "source": [
        ""
      ],
      "execution_count": null,
      "outputs": []
    },
    {
      "cell_type": "markdown",
      "metadata": {
        "id": "AV-UioARsaBQ",
        "colab_type": "text"
      },
      "source": [
        "https://xgboost.readthedocs.io/en/latest/python/python_api.html#module-xgboost.sklearn"
      ]
    },
    {
      "cell_type": "code",
      "metadata": {
        "id": "CpjPg2dxsaBR",
        "colab_type": "code",
        "colab": {}
      },
      "source": [
        ""
      ],
      "execution_count": null,
      "outputs": []
    }
  ]
}