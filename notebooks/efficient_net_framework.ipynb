{
  "nbformat": 4,
  "nbformat_minor": 0,
  "metadata": {
    "colab": {
      "name": "b5_new_9297.ipynb",
      "provenance": [],
      "collapsed_sections": [
        "26-Tkox6NPeU",
        "GRA667F6G7NB"
      ],
      "toc_visible": true
    },
    "kernelspec": {
      "name": "python3",
      "display_name": "Python 3"
    },
    "accelerator": "GPU",
    "widgets": {
      "application/vnd.jupyter.widget-state+json": {
        "775c359e9be945adbb3733693fef388a": {
          "model_module": "@jupyter-widgets/controls",
          "model_name": "HBoxModel",
          "state": {
            "_view_name": "HBoxView",
            "_dom_classes": [],
            "_model_name": "HBoxModel",
            "_view_module": "@jupyter-widgets/controls",
            "_model_module_version": "1.5.0",
            "_view_count": null,
            "_view_module_version": "1.5.0",
            "box_style": "",
            "layout": "IPY_MODEL_ed617632ed9745bebe05837ba0e7386c",
            "_model_module": "@jupyter-widgets/controls",
            "children": [
              "IPY_MODEL_b18720c13fa8492f9b1b6cb0c1d20018",
              "IPY_MODEL_2f86084c1d2243cea0174eb8a63969ec"
            ]
          }
        },
        "ed617632ed9745bebe05837ba0e7386c": {
          "model_module": "@jupyter-widgets/base",
          "model_name": "LayoutModel",
          "state": {
            "_view_name": "LayoutView",
            "grid_template_rows": null,
            "right": null,
            "justify_content": null,
            "_view_module": "@jupyter-widgets/base",
            "overflow": null,
            "_model_module_version": "1.2.0",
            "_view_count": null,
            "flex_flow": null,
            "width": null,
            "min_width": null,
            "border": null,
            "align_items": null,
            "bottom": null,
            "_model_module": "@jupyter-widgets/base",
            "top": null,
            "grid_column": null,
            "overflow_y": null,
            "overflow_x": null,
            "grid_auto_flow": null,
            "grid_area": null,
            "grid_template_columns": null,
            "flex": null,
            "_model_name": "LayoutModel",
            "justify_items": null,
            "grid_row": null,
            "max_height": null,
            "align_content": null,
            "visibility": null,
            "align_self": null,
            "height": null,
            "min_height": null,
            "padding": null,
            "grid_auto_rows": null,
            "grid_gap": null,
            "max_width": null,
            "order": null,
            "_view_module_version": "1.2.0",
            "grid_template_areas": null,
            "object_position": null,
            "object_fit": null,
            "grid_auto_columns": null,
            "margin": null,
            "display": null,
            "left": null
          }
        },
        "b18720c13fa8492f9b1b6cb0c1d20018": {
          "model_module": "@jupyter-widgets/controls",
          "model_name": "FloatProgressModel",
          "state": {
            "_view_name": "ProgressView",
            "style": "IPY_MODEL_05f36411013041c28590cd44017f2273",
            "_dom_classes": [],
            "description": "100%",
            "_model_name": "FloatProgressModel",
            "bar_style": "success",
            "max": 122410125,
            "_view_module": "@jupyter-widgets/controls",
            "_model_module_version": "1.5.0",
            "value": 122410125,
            "_view_count": null,
            "_view_module_version": "1.5.0",
            "orientation": "horizontal",
            "min": 0,
            "description_tooltip": null,
            "_model_module": "@jupyter-widgets/controls",
            "layout": "IPY_MODEL_ea6024db59e545278b09389bec2303f2"
          }
        },
        "2f86084c1d2243cea0174eb8a63969ec": {
          "model_module": "@jupyter-widgets/controls",
          "model_name": "HTMLModel",
          "state": {
            "_view_name": "HTMLView",
            "style": "IPY_MODEL_ebafdd885d954e9a85a5b81345fad566",
            "_dom_classes": [],
            "description": "",
            "_model_name": "HTMLModel",
            "placeholder": "​",
            "_view_module": "@jupyter-widgets/controls",
            "_model_module_version": "1.5.0",
            "value": " 117M/117M [00:06&lt;00:00, 19.8MB/s]",
            "_view_count": null,
            "_view_module_version": "1.5.0",
            "description_tooltip": null,
            "_model_module": "@jupyter-widgets/controls",
            "layout": "IPY_MODEL_305ac00eb9de479c8e43b67f123b471e"
          }
        },
        "05f36411013041c28590cd44017f2273": {
          "model_module": "@jupyter-widgets/controls",
          "model_name": "ProgressStyleModel",
          "state": {
            "_view_name": "StyleView",
            "_model_name": "ProgressStyleModel",
            "description_width": "initial",
            "_view_module": "@jupyter-widgets/base",
            "_model_module_version": "1.5.0",
            "_view_count": null,
            "_view_module_version": "1.2.0",
            "bar_color": null,
            "_model_module": "@jupyter-widgets/controls"
          }
        },
        "ea6024db59e545278b09389bec2303f2": {
          "model_module": "@jupyter-widgets/base",
          "model_name": "LayoutModel",
          "state": {
            "_view_name": "LayoutView",
            "grid_template_rows": null,
            "right": null,
            "justify_content": null,
            "_view_module": "@jupyter-widgets/base",
            "overflow": null,
            "_model_module_version": "1.2.0",
            "_view_count": null,
            "flex_flow": null,
            "width": null,
            "min_width": null,
            "border": null,
            "align_items": null,
            "bottom": null,
            "_model_module": "@jupyter-widgets/base",
            "top": null,
            "grid_column": null,
            "overflow_y": null,
            "overflow_x": null,
            "grid_auto_flow": null,
            "grid_area": null,
            "grid_template_columns": null,
            "flex": null,
            "_model_name": "LayoutModel",
            "justify_items": null,
            "grid_row": null,
            "max_height": null,
            "align_content": null,
            "visibility": null,
            "align_self": null,
            "height": null,
            "min_height": null,
            "padding": null,
            "grid_auto_rows": null,
            "grid_gap": null,
            "max_width": null,
            "order": null,
            "_view_module_version": "1.2.0",
            "grid_template_areas": null,
            "object_position": null,
            "object_fit": null,
            "grid_auto_columns": null,
            "margin": null,
            "display": null,
            "left": null
          }
        },
        "ebafdd885d954e9a85a5b81345fad566": {
          "model_module": "@jupyter-widgets/controls",
          "model_name": "DescriptionStyleModel",
          "state": {
            "_view_name": "StyleView",
            "_model_name": "DescriptionStyleModel",
            "description_width": "",
            "_view_module": "@jupyter-widgets/base",
            "_model_module_version": "1.5.0",
            "_view_count": null,
            "_view_module_version": "1.2.0",
            "_model_module": "@jupyter-widgets/controls"
          }
        },
        "305ac00eb9de479c8e43b67f123b471e": {
          "model_module": "@jupyter-widgets/base",
          "model_name": "LayoutModel",
          "state": {
            "_view_name": "LayoutView",
            "grid_template_rows": null,
            "right": null,
            "justify_content": null,
            "_view_module": "@jupyter-widgets/base",
            "overflow": null,
            "_model_module_version": "1.2.0",
            "_view_count": null,
            "flex_flow": null,
            "width": null,
            "min_width": null,
            "border": null,
            "align_items": null,
            "bottom": null,
            "_model_module": "@jupyter-widgets/base",
            "top": null,
            "grid_column": null,
            "overflow_y": null,
            "overflow_x": null,
            "grid_auto_flow": null,
            "grid_area": null,
            "grid_template_columns": null,
            "flex": null,
            "_model_name": "LayoutModel",
            "justify_items": null,
            "grid_row": null,
            "max_height": null,
            "align_content": null,
            "visibility": null,
            "align_self": null,
            "height": null,
            "min_height": null,
            "padding": null,
            "grid_auto_rows": null,
            "grid_gap": null,
            "max_width": null,
            "order": null,
            "_view_module_version": "1.2.0",
            "grid_template_areas": null,
            "object_position": null,
            "object_fit": null,
            "grid_auto_columns": null,
            "margin": null,
            "display": null,
            "left": null
          }
        }
      }
    }
  },
  "cells": [
    {
      "cell_type": "code",
      "metadata": {
        "id": "IeOonzr6YfVX",
        "colab_type": "code",
        "colab": {
          "base_uri": "https://localhost:8080/",
          "height": 67
        },
        "outputId": "fe48ecfd-a0fc-4eb7-e9bb-0b057fd9f783"
      },
      "source": [
        "!ln -sf /opt/bin/nvidia-smi /usr/bin/nvidia-smi\n",
        "!pip -q install gputil\n",
        "!pip -q install psutil\n",
        "!pip -q install humanize\n",
        "\n",
        "import psutil\n",
        "import humanize\n",
        "import os\n",
        "import GPUtil as GPU\n",
        "GPUs = GPU.getGPUs()\n",
        "\n",
        "# XXX: only one GPU on Colab and isn’t guaranteed\n",
        "gpu = GPUs[0]\n",
        "def printm():\n",
        "  process = psutil.Process(os.getpid())\n",
        "  print(\"Gen RAM Free: \" + humanize.naturalsize( psutil.virtual_memory().available ), \" | Proc size: \" + humanize.naturalsize( process.memory_info().rss))\n",
        "  print(\"GPU RAM Free: {0:.0f}MB | Used: {1:.0f}MB | Util {2:3.0f}% | Total {3:.0f}MB\".format(gpu.memoryFree, gpu.memoryUsed, gpu.memoryUtil*100, gpu.memoryTotal))\n",
        "\n",
        "printm()"
      ],
      "execution_count": 1,
      "outputs": [
        {
          "output_type": "stream",
          "text": [
            "  Building wheel for gputil (setup.py) ... \u001b[?25l\u001b[?25hdone\n",
            "Gen RAM Free: 12.8 GB  | Proc size: 158.7 MB\n",
            "GPU RAM Free: 16280MB | Used: 0MB | Util   0% | Total 16280MB\n"
          ],
          "name": "stdout"
        }
      ]
    },
    {
      "cell_type": "code",
      "metadata": {
        "id": "4Ch3QvG4eW5a",
        "colab_type": "code",
        "colab": {
          "base_uri": "https://localhost:8080/",
          "height": 121
        },
        "outputId": "c5db7889-d8b9-4412-fa68-eb87ba0830c9"
      },
      "source": [
        "from google.colab import drive\n",
        "drive.mount('/content/drive')"
      ],
      "execution_count": 2,
      "outputs": [
        {
          "output_type": "stream",
          "text": [
            "Go to this URL in a browser: https://accounts.google.com/o/oauth2/auth?client_id=947318989803-6bn6qk8qdgf4n4g3pfee6491hc0brc4i.apps.googleusercontent.com&redirect_uri=urn%3aietf%3awg%3aoauth%3a2.0%3aoob&response_type=code&scope=email%20https%3a%2f%2fwww.googleapis.com%2fauth%2fdocs.test%20https%3a%2f%2fwww.googleapis.com%2fauth%2fdrive%20https%3a%2f%2fwww.googleapis.com%2fauth%2fdrive.photos.readonly%20https%3a%2f%2fwww.googleapis.com%2fauth%2fpeopleapi.readonly\n",
            "\n",
            "Enter your authorization code:\n",
            "··········\n",
            "Mounted at /content/drive\n"
          ],
          "name": "stdout"
        }
      ]
    },
    {
      "cell_type": "markdown",
      "metadata": {
        "id": "pxgcKsTkIB2N",
        "colab_type": "text"
      },
      "source": [
        "# Loading data"
      ]
    },
    {
      "cell_type": "code",
      "metadata": {
        "id": "LR9J2Hm0vhoU",
        "colab_type": "code",
        "colab": {
          "base_uri": "https://localhost:8080/",
          "height": 252
        },
        "outputId": "01d71a47-501f-463f-82a1-cd8715cc7da8"
      },
      "source": [
        "!pip install kaggle\n",
        "import os\n",
        "os.environ['KAGGLE_USERNAME'] = \"pawankumarsahu\" \n",
        "os.environ['KAGGLE_KEY'] = \"\"\n",
        "!kaggle datasets download -d cdeotte/jpeg-melanoma-256x256\n",
        "!unzip -q jpeg-melanoma-256x256.zip\n",
        "!rm jpeg-melanoma-256x256.zip"
      ],
      "execution_count": 3,
      "outputs": [
        {
          "output_type": "stream",
          "text": [
            "Requirement already satisfied: kaggle in /usr/local/lib/python3.6/dist-packages (1.5.6)\n",
            "Requirement already satisfied: six>=1.10 in /usr/local/lib/python3.6/dist-packages (from kaggle) (1.12.0)\n",
            "Requirement already satisfied: requests in /usr/local/lib/python3.6/dist-packages (from kaggle) (2.23.0)\n",
            "Requirement already satisfied: certifi in /usr/local/lib/python3.6/dist-packages (from kaggle) (2020.6.20)\n",
            "Requirement already satisfied: tqdm in /usr/local/lib/python3.6/dist-packages (from kaggle) (4.41.1)\n",
            "Requirement already satisfied: python-slugify in /usr/local/lib/python3.6/dist-packages (from kaggle) (4.0.1)\n",
            "Requirement already satisfied: python-dateutil in /usr/local/lib/python3.6/dist-packages (from kaggle) (2.8.1)\n",
            "Requirement already satisfied: urllib3<1.25,>=1.21.1 in /usr/local/lib/python3.6/dist-packages (from kaggle) (1.24.3)\n",
            "Requirement already satisfied: chardet<4,>=3.0.2 in /usr/local/lib/python3.6/dist-packages (from requests->kaggle) (3.0.4)\n",
            "Requirement already satisfied: idna<3,>=2.5 in /usr/local/lib/python3.6/dist-packages (from requests->kaggle) (2.10)\n",
            "Requirement already satisfied: text-unidecode>=1.3 in /usr/local/lib/python3.6/dist-packages (from python-slugify->kaggle) (1.3)\n",
            "Downloading jpeg-melanoma-256x256.zip to /content\n",
            " 97% 770M/791M [00:17<00:00, 48.8MB/s]\n",
            "100% 791M/791M [00:17<00:00, 46.8MB/s]\n"
          ],
          "name": "stdout"
        }
      ]
    },
    {
      "cell_type": "code",
      "metadata": {
        "id": "rjmrvYRGeg4r",
        "colab_type": "code",
        "colab": {
          "base_uri": "https://localhost:8080/",
          "height": 67
        },
        "outputId": "e341e1b7-2ec1-403f-a223-ddf22f255ab3"
      },
      "source": [
        "!kaggle datasets download -d nroman/melanoma-hairs"
      ],
      "execution_count": 4,
      "outputs": [
        {
          "output_type": "stream",
          "text": [
            "Downloading melanoma-hairs.zip to /content\n",
            "\r  0% 0.00/26.2k [00:00<?, ?B/s]\n",
            "\r100% 26.2k/26.2k [00:00<00:00, 11.0MB/s]\n"
          ],
          "name": "stdout"
        }
      ]
    },
    {
      "cell_type": "code",
      "metadata": {
        "id": "DO3Oc98vo-0W",
        "colab_type": "code",
        "colab": {}
      },
      "source": [
        "!unzip -q melanoma-hairs.zip\n",
        "!rm melanoma-hairs.zip\n",
        "!mkdir melanoma-hairs\n",
        "!mv 1.png /content/melanoma-hairs\n",
        "!mv 2.png /content/melanoma-hairs\n",
        "!mv 3.png /content/melanoma-hairs\n",
        "!mv 4.png /content/melanoma-hairs\n",
        "!mv 5.png /content/melanoma-hairs"
      ],
      "execution_count": 5,
      "outputs": []
    },
    {
      "cell_type": "markdown",
      "metadata": {
        "id": "Y0kLqagDH21u",
        "colab_type": "text"
      },
      "source": [
        "# Importing packages"
      ]
    },
    {
      "cell_type": "code",
      "metadata": {
        "id": "q7WjL1QqDdQV",
        "colab_type": "code",
        "colab": {
          "base_uri": "https://localhost:8080/",
          "height": 625
        },
        "outputId": "2a949f77-8571-47a7-9fb4-b5e3d2b0aa21"
      },
      "source": [
        "!pip install efficientnet_pytorch torchtoolbox\n",
        "import os\n",
        "import seaborn as sns\n",
        "from efficientnet_pytorch import EfficientNet\n",
        "import gc\n",
        "import datetime\n",
        "import warnings\n",
        "import numpy as np\n",
        "import pandas as pd\n",
        "from random import randint\n",
        "import torch\n",
        "import torch.nn as nn\n",
        "import torch.nn.functional as F\n",
        "import torchvision\n",
        "import torchtoolbox.transform as transforms\n",
        "from torch.optim.optimizer import Optimizer\n",
        "from sklearn.model_selection import train_test_split, StratifiedKFold, GroupKFold, KFold\n",
        "from sklearn.utils import shuffle\n",
        "from torch.utils.data import DataLoader, Dataset\n",
        "from sklearn.metrics import accuracy_score, roc_auc_score\n",
        "from matplotlib.pyplot import imread\n",
        "from pylab import *\n",
        "from albumentations import (Cutout,JpegCompression,ShiftScaleRotate,CenterCrop,RandomRotate90,Flip,VerticalFlip,Blur,RandomContrast,HueSaturationValue,RandomGamma,Rotate,RandomBrightness,HorizontalFlip, Normalize, Resize, Compose, GaussNoise,Transpose,RandomBrightnessContrast,RandomCrop)\n",
        "from albumentations.pytorch import ToTensor\n",
        "import torch.optim as optim\n",
        "from torch.optim.lr_scheduler import ReduceLROnPlateau\n",
        "from torchvision import datasets, models, transforms\n",
        "import time\n",
        "import copy\n",
        "!pip install timm\n",
        "import timm\n",
        "import rangelars_lookahead_ralamb\n",
        "from rangelars_lookahead_ralamb import *"
      ],
      "execution_count": 6,
      "outputs": [
        {
          "output_type": "stream",
          "text": [
            "Collecting efficientnet_pytorch\n",
            "  Downloading https://files.pythonhosted.org/packages/b8/cb/0309a6e3d404862ae4bc017f89645cf150ac94c14c88ef81d215c8e52925/efficientnet_pytorch-0.6.3.tar.gz\n",
            "Collecting torchtoolbox\n",
            "\u001b[?25l  Downloading https://files.pythonhosted.org/packages/76/6c/25f066977b6821796c3cf11e981921c1cb030eafec0ff736d271b6b09878/torchtoolbox-0.1.4.1-py3-none-any.whl (55kB)\n",
            "\r\u001b[K     |█████▉                          | 10kB 15.9MB/s eta 0:00:01\r\u001b[K     |███████████▊                    | 20kB 12.6MB/s eta 0:00:01\r\u001b[K     |█████████████████▋              | 30kB 7.0MB/s eta 0:00:01\r\u001b[K     |███████████████████████▍        | 40kB 8.9MB/s eta 0:00:01\r\u001b[K     |█████████████████████████████▎  | 51kB 9.3MB/s eta 0:00:01\r\u001b[K     |████████████████████████████████| 61kB 4.7MB/s \n",
            "\u001b[?25hRequirement already satisfied: torch in /usr/local/lib/python3.6/dist-packages (from efficientnet_pytorch) (1.5.1+cu101)\n",
            "Requirement already satisfied: numpy in /usr/local/lib/python3.6/dist-packages (from torchtoolbox) (1.18.5)\n",
            "Requirement already satisfied: pyarrow in /usr/local/lib/python3.6/dist-packages (from torchtoolbox) (0.14.1)\n",
            "Requirement already satisfied: six in /usr/local/lib/python3.6/dist-packages (from torchtoolbox) (1.12.0)\n",
            "Requirement already satisfied: opencv-python in /usr/local/lib/python3.6/dist-packages (from torchtoolbox) (4.1.2.30)\n",
            "Requirement already satisfied: scikit-learn in /usr/local/lib/python3.6/dist-packages (from torchtoolbox) (0.22.2.post1)\n",
            "Requirement already satisfied: scipy in /usr/local/lib/python3.6/dist-packages (from torchtoolbox) (1.4.1)\n",
            "Requirement already satisfied: tqdm in /usr/local/lib/python3.6/dist-packages (from torchtoolbox) (4.41.1)\n",
            "Requirement already satisfied: lmdb in /usr/local/lib/python3.6/dist-packages (from torchtoolbox) (0.98)\n",
            "Requirement already satisfied: future in /usr/local/lib/python3.6/dist-packages (from torch->efficientnet_pytorch) (0.16.0)\n",
            "Requirement already satisfied: joblib>=0.11 in /usr/local/lib/python3.6/dist-packages (from scikit-learn->torchtoolbox) (0.16.0)\n",
            "Building wheels for collected packages: efficientnet-pytorch\n",
            "  Building wheel for efficientnet-pytorch (setup.py) ... \u001b[?25l\u001b[?25hdone\n",
            "  Created wheel for efficientnet-pytorch: filename=efficientnet_pytorch-0.6.3-cp36-none-any.whl size=12422 sha256=3787ca452b3f90a41f17441486cee6bc4211e96dc27c5a75f310823bb6ac6262\n",
            "  Stored in directory: /root/.cache/pip/wheels/42/1e/a9/2a578ba9ad04e776e80bf0f70d8a7f4c29ec0718b92d8f6ccd\n",
            "Successfully built efficientnet-pytorch\n",
            "Installing collected packages: efficientnet-pytorch, torchtoolbox\n",
            "Successfully installed efficientnet-pytorch-0.6.3 torchtoolbox-0.1.4.1\n"
          ],
          "name": "stdout"
        },
        {
          "output_type": "stream",
          "text": [
            "/usr/local/lib/python3.6/dist-packages/statsmodels/tools/_testing.py:19: FutureWarning: pandas.util.testing is deprecated. Use the functions in the public API at pandas.testing instead.\n",
            "  import pandas.util.testing as tm\n"
          ],
          "name": "stderr"
        },
        {
          "output_type": "stream",
          "text": [
            "Collecting timm\n",
            "\u001b[?25l  Downloading https://files.pythonhosted.org/packages/df/2d/218cc8b78b1e5b64657cc158af9d7dbbb4358ed0e4c6f3c291087d45f555/timm-0.1.30-py3-none-any.whl (207kB)\n",
            "\r\u001b[K     |█▋                              | 10kB 25.1MB/s eta 0:00:01\r\u001b[K     |███▏                            | 20kB 4.3MB/s eta 0:00:01\r\u001b[K     |████▊                           | 30kB 5.8MB/s eta 0:00:01\r\u001b[K     |██████▎                         | 40kB 6.0MB/s eta 0:00:01\r\u001b[K     |███████▉                        | 51kB 5.0MB/s eta 0:00:01\r\u001b[K     |█████████▌                      | 61kB 5.4MB/s eta 0:00:01\r\u001b[K     |███████████                     | 71kB 5.8MB/s eta 0:00:01\r\u001b[K     |████████████▋                   | 81kB 6.5MB/s eta 0:00:01\r\u001b[K     |██████████████▏                 | 92kB 6.7MB/s eta 0:00:01\r\u001b[K     |███████████████▊                | 102kB 6.8MB/s eta 0:00:01\r\u001b[K     |█████████████████▍              | 112kB 6.8MB/s eta 0:00:01\r\u001b[K     |███████████████████             | 122kB 6.8MB/s eta 0:00:01\r\u001b[K     |████████████████████▌           | 133kB 6.8MB/s eta 0:00:01\r\u001b[K     |██████████████████████          | 143kB 6.8MB/s eta 0:00:01\r\u001b[K     |███████████████████████▋        | 153kB 6.8MB/s eta 0:00:01\r\u001b[K     |█████████████████████████▏      | 163kB 6.8MB/s eta 0:00:01\r\u001b[K     |██████████████████████████▉     | 174kB 6.8MB/s eta 0:00:01\r\u001b[K     |████████████████████████████▍   | 184kB 6.8MB/s eta 0:00:01\r\u001b[K     |██████████████████████████████  | 194kB 6.8MB/s eta 0:00:01\r\u001b[K     |███████████████████████████████▌| 204kB 6.8MB/s eta 0:00:01\r\u001b[K     |████████████████████████████████| 215kB 6.8MB/s \n",
            "\u001b[?25hRequirement already satisfied: torch>=1.0 in /usr/local/lib/python3.6/dist-packages (from timm) (1.5.1+cu101)\n",
            "Requirement already satisfied: torchvision in /usr/local/lib/python3.6/dist-packages (from timm) (0.6.1+cu101)\n",
            "Requirement already satisfied: future in /usr/local/lib/python3.6/dist-packages (from torch>=1.0->timm) (0.16.0)\n",
            "Requirement already satisfied: numpy in /usr/local/lib/python3.6/dist-packages (from torch>=1.0->timm) (1.18.5)\n",
            "Requirement already satisfied: pillow>=4.1.1 in /usr/local/lib/python3.6/dist-packages (from torchvision->timm) (7.0.0)\n",
            "Installing collected packages: timm\n",
            "Successfully installed timm-0.1.30\n"
          ],
          "name": "stdout"
        }
      ]
    },
    {
      "cell_type": "code",
      "metadata": {
        "id": "n5S5K-iv1-Qs",
        "colab_type": "code",
        "colab": {}
      },
      "source": [
        "def seed_all(seed=8):\n",
        "  torch.manual_seed(seed)\n",
        "  torch.cuda.manual_seed(seed)\n",
        "  torch.cuda.manual_seed_all(seed)\n",
        "  os.environ['PYTHONHASHSEED'] = str(seed)\n",
        "  np.random.seed(seed)\n",
        "  #random.seed(seed)\n",
        "  torch.backends.cudnn.enabled=False\n",
        "  torch.backends.cudnn.deterministic=True\n",
        "\n",
        "seed_all(47)"
      ],
      "execution_count": 7,
      "outputs": []
    },
    {
      "cell_type": "code",
      "metadata": {
        "id": "kJ0jLJguJpHv",
        "colab_type": "code",
        "colab": {}
      },
      "source": [
        "warnings.simplefilter('ignore')\n",
        "torch.manual_seed(47)\n",
        "np.random.seed(47)"
      ],
      "execution_count": 8,
      "outputs": []
    },
    {
      "cell_type": "markdown",
      "metadata": {
        "id": "1ocPEo9vWnSc",
        "colab_type": "text"
      },
      "source": [
        "# Csv file"
      ]
    },
    {
      "cell_type": "code",
      "metadata": {
        "id": "74taFO98wHYT",
        "colab_type": "code",
        "colab": {}
      },
      "source": [
        "train_csv = pd.read_csv('/content/train.csv')\n",
        "test_csv = pd.read_csv('/content/test.csv')\n",
        "test_csv['target']=\"\"\n",
        "test_csv.target=0"
      ],
      "execution_count": 9,
      "outputs": []
    },
    {
      "cell_type": "code",
      "metadata": {
        "id": "Nd77KfWrzqBK",
        "colab_type": "code",
        "colab": {}
      },
      "source": [
        "# tmp = pd.read_csv('tmp_train.csv')\n",
        "# train_csv['fold'] = tmp['tfrecord']\n",
        "# del tmp\n",
        "# gc.collect();"
      ],
      "execution_count": 10,
      "outputs": []
    },
    {
      "cell_type": "code",
      "metadata": {
        "id": "hF72YOEyw9fl",
        "colab_type": "code",
        "colab": {
          "base_uri": "https://localhost:8080/",
          "height": 84
        },
        "outputId": "268b30a1-19c7-4c1e-f187-fa7a3fddb50b"
      },
      "source": [
        "print('train image count--',len(train_csv),'\\t test image count--',len(test_csv))\n",
        "train_csv.target.value_counts(normalize=True)"
      ],
      "execution_count": 11,
      "outputs": [
        {
          "output_type": "stream",
          "text": [
            "train image count-- 33126 \t test image count-- 10982\n"
          ],
          "name": "stdout"
        },
        {
          "output_type": "execute_result",
          "data": {
            "text/plain": [
              "0    0.98237\n",
              "1    0.01763\n",
              "Name: target, dtype: float64"
            ]
          },
          "metadata": {
            "tags": []
          },
          "execution_count": 11
        }
      ]
    },
    {
      "cell_type": "code",
      "metadata": {
        "id": "a2ZCf5-OF3sh",
        "colab_type": "code",
        "colab": {
          "base_uri": "https://localhost:8080/",
          "height": 195
        },
        "outputId": "45e85a6f-f4a3-4a45-81b9-9fc1d606b96b"
      },
      "source": [
        "train_csv.head()"
      ],
      "execution_count": 12,
      "outputs": [
        {
          "output_type": "execute_result",
          "data": {
            "text/html": [
              "<div>\n",
              "<style scoped>\n",
              "    .dataframe tbody tr th:only-of-type {\n",
              "        vertical-align: middle;\n",
              "    }\n",
              "\n",
              "    .dataframe tbody tr th {\n",
              "        vertical-align: top;\n",
              "    }\n",
              "\n",
              "    .dataframe thead th {\n",
              "        text-align: right;\n",
              "    }\n",
              "</style>\n",
              "<table border=\"1\" class=\"dataframe\">\n",
              "  <thead>\n",
              "    <tr style=\"text-align: right;\">\n",
              "      <th></th>\n",
              "      <th>image_name</th>\n",
              "      <th>patient_id</th>\n",
              "      <th>sex</th>\n",
              "      <th>age_approx</th>\n",
              "      <th>anatom_site_general_challenge</th>\n",
              "      <th>diagnosis</th>\n",
              "      <th>benign_malignant</th>\n",
              "      <th>target</th>\n",
              "      <th>tfrecord</th>\n",
              "      <th>width</th>\n",
              "      <th>height</th>\n",
              "    </tr>\n",
              "  </thead>\n",
              "  <tbody>\n",
              "    <tr>\n",
              "      <th>0</th>\n",
              "      <td>ISIC_2637011</td>\n",
              "      <td>IP_7279968</td>\n",
              "      <td>male</td>\n",
              "      <td>45.0</td>\n",
              "      <td>head/neck</td>\n",
              "      <td>unknown</td>\n",
              "      <td>benign</td>\n",
              "      <td>0</td>\n",
              "      <td>0</td>\n",
              "      <td>6000</td>\n",
              "      <td>4000</td>\n",
              "    </tr>\n",
              "    <tr>\n",
              "      <th>1</th>\n",
              "      <td>ISIC_0015719</td>\n",
              "      <td>IP_3075186</td>\n",
              "      <td>female</td>\n",
              "      <td>45.0</td>\n",
              "      <td>upper extremity</td>\n",
              "      <td>unknown</td>\n",
              "      <td>benign</td>\n",
              "      <td>0</td>\n",
              "      <td>0</td>\n",
              "      <td>6000</td>\n",
              "      <td>4000</td>\n",
              "    </tr>\n",
              "    <tr>\n",
              "      <th>2</th>\n",
              "      <td>ISIC_0052212</td>\n",
              "      <td>IP_2842074</td>\n",
              "      <td>female</td>\n",
              "      <td>50.0</td>\n",
              "      <td>lower extremity</td>\n",
              "      <td>nevus</td>\n",
              "      <td>benign</td>\n",
              "      <td>0</td>\n",
              "      <td>6</td>\n",
              "      <td>1872</td>\n",
              "      <td>1053</td>\n",
              "    </tr>\n",
              "    <tr>\n",
              "      <th>3</th>\n",
              "      <td>ISIC_0068279</td>\n",
              "      <td>IP_6890425</td>\n",
              "      <td>female</td>\n",
              "      <td>45.0</td>\n",
              "      <td>head/neck</td>\n",
              "      <td>unknown</td>\n",
              "      <td>benign</td>\n",
              "      <td>0</td>\n",
              "      <td>0</td>\n",
              "      <td>1872</td>\n",
              "      <td>1053</td>\n",
              "    </tr>\n",
              "    <tr>\n",
              "      <th>4</th>\n",
              "      <td>ISIC_0074268</td>\n",
              "      <td>IP_8723313</td>\n",
              "      <td>female</td>\n",
              "      <td>55.0</td>\n",
              "      <td>upper extremity</td>\n",
              "      <td>unknown</td>\n",
              "      <td>benign</td>\n",
              "      <td>0</td>\n",
              "      <td>11</td>\n",
              "      <td>6000</td>\n",
              "      <td>4000</td>\n",
              "    </tr>\n",
              "  </tbody>\n",
              "</table>\n",
              "</div>"
            ],
            "text/plain": [
              "     image_name  patient_id     sex  ...  tfrecord width height\n",
              "0  ISIC_2637011  IP_7279968    male  ...         0  6000   4000\n",
              "1  ISIC_0015719  IP_3075186  female  ...         0  6000   4000\n",
              "2  ISIC_0052212  IP_2842074  female  ...         6  1872   1053\n",
              "3  ISIC_0068279  IP_6890425  female  ...         0  1872   1053\n",
              "4  ISIC_0074268  IP_8723313  female  ...        11  6000   4000\n",
              "\n",
              "[5 rows x 11 columns]"
            ]
          },
          "metadata": {
            "tags": []
          },
          "execution_count": 12
        }
      ]
    },
    {
      "cell_type": "markdown",
      "metadata": {
        "id": "26-Tkox6NPeU",
        "colab_type": "text"
      },
      "source": [
        "# Extra AUG"
      ]
    },
    {
      "cell_type": "code",
      "metadata": {
        "id": "cqhDbY6bNSvd",
        "colab_type": "code",
        "colab": {}
      },
      "source": [
        "class AdvancedHairAugmentation:\n",
        "    \"\"\"\n",
        "    Impose an image of a hair to the target image\n",
        "\n",
        "    Args:\n",
        "        hairs (int): maximum number of hairs to impose\n",
        "        hairs_folder (str): path to the folder with hairs images\n",
        "    \"\"\"\n",
        "\n",
        "    def __init__(self, hairs: int = 5, hairs_folder: str = \"\"):\n",
        "        self.hairs = hairs\n",
        "        self.hairs_folder = hairs_folder\n",
        "\n",
        "    def __call__(self, img):\n",
        "        \"\"\"\n",
        "        Args:\n",
        "            img (PIL Image): Image to draw hairs on.\n",
        "\n",
        "        Returns:\n",
        "            PIL Image: Image with drawn hairs.\n",
        "        \"\"\"\n",
        "        n_hairs = random.randint(0, self.hairs)\n",
        "        \n",
        "        if not n_hairs:\n",
        "            return img\n",
        "        \n",
        "        height, width, _ = img.shape  # target image width and height\n",
        "        hair_images = [im for im in os.listdir(self.hairs_folder) if 'png' in im]\n",
        "        \n",
        "        for _ in range(n_hairs):\n",
        "            hair = cv2.imread(os.path.join(self.hairs_folder, random.choice(hair_images)))\n",
        "            hair = cv2.flip(hair, random.choice([-1, 0, 1]))\n",
        "            hair = cv2.rotate(hair, random.choice([0, 1, 2]))\n",
        "\n",
        "            h_height, h_width, _ = hair.shape  # hair image width and height\n",
        "            roi_ho = random.randint(0, img.shape[0] - hair.shape[0])\n",
        "            roi_wo = random.randint(0, img.shape[1] - hair.shape[1])\n",
        "            roi = img[roi_ho:roi_ho + h_height, roi_wo:roi_wo + h_width]\n",
        "\n",
        "            # Creating a mask and inverse mask\n",
        "            img2gray = cv2.cvtColor(hair, cv2.COLOR_BGR2GRAY)\n",
        "            ret, mask = cv2.threshold(img2gray, 10, 255, cv2.THRESH_BINARY)\n",
        "            mask_inv = cv2.bitwise_not(mask)\n",
        "\n",
        "            # Now black-out the area of hair in ROI\n",
        "            img_bg = cv2.bitwise_and(roi, roi, mask=mask_inv)\n",
        "\n",
        "            # Take only region of hair from hair image.\n",
        "            hair_fg = cv2.bitwise_and(hair, hair, mask=mask)\n",
        "\n",
        "            # Put hair in ROI and modify the target image\n",
        "            dst = cv2.add(img_bg, hair_fg)\n",
        "\n",
        "            img[roi_ho:roi_ho + h_height, roi_wo:roi_wo + h_width] = dst\n",
        "                \n",
        "        return img\n",
        "\n",
        "    def __repr__(self):\n",
        "        return f'{self.__class__.__name__}(hairs={self.hairs}, hairs_folder=\"{self.hairs_folder}\")'"
      ],
      "execution_count": null,
      "outputs": []
    },
    {
      "cell_type": "code",
      "metadata": {
        "id": "Xsy69UCzNUXG",
        "colab_type": "code",
        "colab": {}
      },
      "source": [
        "class Microscope:\n",
        "    \"\"\"\n",
        "    Cutting out the edges around the center circle of the image\n",
        "    Imitating a picture, taken through the microscope\n",
        "\n",
        "    Args:\n",
        "        p (float): probability of applying an augmentation\n",
        "    \"\"\"\n",
        "\n",
        "    def __init__(self, p: float = 0.5):\n",
        "        self.p = p\n",
        "\n",
        "    def __call__(self, img):\n",
        "        \"\"\"\n",
        "        Args:\n",
        "            img (PIL Image): Image to apply transformation to.\n",
        "\n",
        "        Returns:\n",
        "            PIL Image: Image with transformation.\n",
        "        \"\"\"\n",
        "        if random.random() < self.p:\n",
        "            circle = cv2.circle((np.ones(img.shape) * 255).astype(np.uint8), # image placeholder\n",
        "                        (img.shape[0]//2, img.shape[1]//2), # center point of circle\n",
        "                        random.randint(img.shape[0]//2 - 3, img.shape[0]//2 + 15), # radius\n",
        "                        (0, 0, 0), # color\n",
        "                        -1)\n",
        "\n",
        "            mask = circle - 255\n",
        "            img = np.multiply(img, mask)\n",
        "        \n",
        "        return img\n",
        "\n",
        "    def __repr__(self):\n",
        "        return f'{self.__class__.__name__}(p={self.p})'"
      ],
      "execution_count": null,
      "outputs": []
    },
    {
      "cell_type": "markdown",
      "metadata": {
        "id": "y9tmNFakFps2",
        "colab_type": "text"
      },
      "source": [
        "# Building datasets"
      ]
    },
    {
      "cell_type": "code",
      "metadata": {
        "id": "LtqC04lP-Fvi",
        "colab_type": "code",
        "colab": {}
      },
      "source": [
        "class dataset(Dataset):\n",
        "  def __init__(self, csv_file, dir_path, phase):\n",
        "    self.csv_file = csv_file\n",
        "    self.dir_path = dir_path\n",
        "    self.phase = phase\n",
        "    self.transform = get_transforms(self.phase)\n",
        "\n",
        "  def __len__(self):\n",
        "    return len(self.csv_file)\n",
        "\n",
        "  def __getitem__(self,idx):\n",
        "    img_path = os.path.join(self.dir_path, self.csv_file.iloc[idx, 0]+'.jpg')\n",
        "    image = imread(img_path)\n",
        "    label = self.csv_file.target.iloc[idx]\n",
        "    aug_img = self.transform(image=image)\n",
        "    image = aug_img[\"image\"]\n",
        "    return image,label\n",
        "\n",
        "def get_transforms(phase):\n",
        "  t_list=[]\n",
        "  if phase=='train' or phase=='test':\n",
        "    t_list.extend([\n",
        "                   #RandomBrightness(limit=0.3, p=0.5),\n",
        "                   #AdvancedHairAugmentation(hairs_folder='melanoma-hairs'),\n",
        "                   Rotate(limit=90, p=0.5),\n",
        "                   ##RGBShift(r_shift_limit=50, g_shift_limit=30, b_shift_limit=40, p=1),\n",
        "                   #RandomGamma(gamma_limit=(80,165), p=0.5),\n",
        "                   HorizontalFlip(p=0.5),\n",
        "                   VerticalFlip(p=0.5),\n",
        "                   #Flip(p=0.5),\n",
        "                   RandomRotate90(p=0.5),\n",
        "                   ShiftScaleRotate(shift_limit=0.02,scale_limit=(0.95,1.075),p=0.5),\n",
        "                   #JpegCompression(quality_lower=50, quality_upper=100, p=0.5),\n",
        "                   #transforms.ColorJitter(brightness=32. / 255.,saturation=0.5),\n",
        "                   Cutout(num_holes=12, max_h_size=2, max_w_size=2, p=0.5),\n",
        "                   #transforms.Cutout(scale=(0.05, 0.007), value=(0, 0)),\n",
        "                   ##HueSaturationValue(hue_shift_limit=10, sat_shift_limit=30, val_shift_limit=30, p=1),\n",
        "                   #RandomContrast(limit=0.3, p=0.5),\n",
        "                   RandomBrightnessContrast(brightness_limit=0.2, contrast_limit=0.2, p=0.5)\n",
        "                   ])\n",
        "  t_list.extend([#CenterCrop(height=205, width=205, p=1),\n",
        "                 #Resize(224, 224, interpolation=1, p=1),    ## 16x16, 64x64 , 128x100\n",
        "                 Normalize(mean=(0.485, 0.456, 0.406), std=(0.229, 0.224, 0.225), max_pixel_value=255.0, p=1.0),\n",
        "                 ToTensor()])\n",
        "  return  Compose(t_list)"
      ],
      "execution_count": 13,
      "outputs": []
    },
    {
      "cell_type": "code",
      "metadata": {
        "id": "FcnzelbqB_2V",
        "colab_type": "code",
        "colab": {
          "base_uri": "https://localhost:8080/",
          "height": 34
        },
        "outputId": "b83bdb07-028f-4e27-9ba3-b7f956939bb5"
      },
      "source": [
        "### creating train and test datasets\n",
        "train_dataset = dataset(train_csv,'/content/train/','train')\n",
        "test_dataset = dataset(test_csv,'/content/test/','test')\n",
        "dataset_sizes={'train':len(train_dataset),'test':len(test_dataset)}\n",
        "print(dataset_sizes)"
      ],
      "execution_count": 14,
      "outputs": [
        {
          "output_type": "stream",
          "text": [
            "{'train': 33126, 'test': 10982}\n"
          ],
          "name": "stdout"
        }
      ]
    },
    {
      "cell_type": "code",
      "metadata": {
        "id": "DUVSGOI7aNSe",
        "colab_type": "code",
        "colab": {
          "base_uri": "https://localhost:8080/",
          "height": 403
        },
        "outputId": "80505b3e-df10-4703-eea7-19e033b10251"
      },
      "source": [
        "### visualising datasets\n",
        "a=randint(0,20000)\n",
        "print(\"VISUALISING TRAIN DATASET\")\n",
        "for i in range(a,a+10):\n",
        "  image, label = train_dataset[i]\n",
        "  print(i,'\\t', image.shape,'\\t', label)\n",
        "print(\"\\nVISUALISING TEST DATASET\")\n",
        "b=randint(0,10000)\n",
        "for i in range(b,b+10):\n",
        "  image, label = test_dataset[i]\n",
        "  print(i,'\\t', image.shape,'\\t', label)"
      ],
      "execution_count": 15,
      "outputs": [
        {
          "output_type": "stream",
          "text": [
            "VISUALISING TRAIN DATASET\n",
            "5255 \t torch.Size([3, 256, 256]) \t 0\n",
            "5256 \t torch.Size([3, 256, 256]) \t 0\n",
            "5257 \t torch.Size([3, 256, 256]) \t 0\n",
            "5258 \t torch.Size([3, 256, 256]) \t 0\n",
            "5259 \t torch.Size([3, 256, 256]) \t 0\n",
            "5260 \t torch.Size([3, 256, 256]) \t 0\n",
            "5261 \t torch.Size([3, 256, 256]) \t 0\n",
            "5262 \t torch.Size([3, 256, 256]) \t 0\n",
            "5263 \t torch.Size([3, 256, 256]) \t 0\n",
            "5264 \t torch.Size([3, 256, 256]) \t 0\n",
            "\n",
            "VISUALISING TEST DATASET\n",
            "1926 \t torch.Size([3, 256, 256]) \t 0\n",
            "1927 \t torch.Size([3, 256, 256]) \t 0\n",
            "1928 \t torch.Size([3, 256, 256]) \t 0\n",
            "1929 \t torch.Size([3, 256, 256]) \t 0\n",
            "1930 \t torch.Size([3, 256, 256]) \t 0\n",
            "1931 \t torch.Size([3, 256, 256]) \t 0\n",
            "1932 \t torch.Size([3, 256, 256]) \t 0\n",
            "1933 \t torch.Size([3, 256, 256]) \t 0\n",
            "1934 \t torch.Size([3, 256, 256]) \t 0\n",
            "1935 \t torch.Size([3, 256, 256]) \t 0\n"
          ],
          "name": "stdout"
        }
      ]
    },
    {
      "cell_type": "markdown",
      "metadata": {
        "id": "GRA667F6G7NB",
        "colab_type": "text"
      },
      "source": [
        "# Visualising Batch"
      ]
    },
    {
      "cell_type": "code",
      "metadata": {
        "id": "Xxb-q1OsUBML",
        "colab_type": "code",
        "colab": {}
      },
      "source": [
        "visual_loader = DataLoader(train_dataset, batch_size=16, shuffle=True)"
      ],
      "execution_count": null,
      "outputs": []
    },
    {
      "cell_type": "code",
      "metadata": {
        "id": "2djqGSTGbG5d",
        "colab_type": "code",
        "colab": {
          "base_uri": "https://localhost:8080/",
          "height": 237
        },
        "outputId": "70255508-1339-4f1b-80ca-e6b12a9d210e"
      },
      "source": [
        "### visualing batches\n",
        "def show_batch(sample_batch):\n",
        "  img_batch,label_batch = sample_batch\n",
        "  print('batch size--',len(img_batch))\n",
        "  print('img size--',img_batch.size(2))\n",
        "  grid_border_size = 2\n",
        "  grid = torchvision.utils.make_grid(img_batch)\n",
        "  plt.imshow(grid.numpy().transpose((1, 2, 0)))\n",
        "\n",
        "for i, sample_batch in enumerate(visual_loader):\n",
        "  img, label = sample_batch\n",
        "  print(i, img.size(), label.shape)\n",
        "  if i==3:\n",
        "    show_batch(sample_batch)\n",
        "    break\n",
        "\n",
        "del img, label, visual_loader "
      ],
      "execution_count": null,
      "outputs": [
        {
          "output_type": "stream",
          "text": [
            "0 torch.Size([16, 3, 256, 256]) torch.Size([16])\n",
            "1 torch.Size([16, 3, 256, 256]) torch.Size([16])\n",
            "2 torch.Size([16, 3, 256, 256]) torch.Size([16])\n",
            "3 torch.Size([16, 3, 256, 256]) torch.Size([16])\n",
            "batch size-- 16\n",
            "img size-- 256\n"
          ],
          "name": "stdout"
        },
        {
          "output_type": "display_data",
          "data": {
            "image/png": "[encoded data removed]",
            "text/plain": [
              "<Figure size 432x288 with 1 Axes>"
            ]
          },
          "metadata": {
            "tags": [],
            "needs_background": "light"
          }
        }
      ]
    },
    {
      "cell_type": "markdown",
      "metadata": {
        "id": "qfADvrlVQKNm",
        "colab_type": "text"
      },
      "source": [
        "# Training + prediction"
      ]
    },
    {
      "cell_type": "code",
      "metadata": {
        "id": "oZlxMge2rJRc",
        "colab_type": "code",
        "colab": {}
      },
      "source": [
        "class Net(nn.Module):\n",
        "  def __init__(self,arch):\n",
        "    super(Net,self).__init__()\n",
        "    self.arch=arch\n",
        "    num_ftrs = self.arch._fc.in_features\n",
        "    self.arch._fc = nn.Linear(in_features=num_ftrs, out_features=1, bias=True)\n",
        "  \n",
        "  def forward(self,x):\n",
        "    x = self.arch(x)\n",
        "    return x"
      ],
      "execution_count": 16,
      "outputs": []
    },
    {
      "cell_type": "code",
      "metadata": {
        "id": "gcgUldndueVt",
        "colab_type": "code",
        "colab": {
          "base_uri": "https://localhost:8080/",
          "height": 119,
          "referenced_widgets": [
            "775c359e9be945adbb3733693fef388a",
            "ed617632ed9745bebe05837ba0e7386c",
            "b18720c13fa8492f9b1b6cb0c1d20018",
            "2f86084c1d2243cea0174eb8a63969ec",
            "05f36411013041c28590cd44017f2273",
            "ea6024db59e545278b09389bec2303f2",
            "ebafdd885d954e9a85a5b81345fad566",
            "305ac00eb9de479c8e43b67f123b471e"
          ]
        },
        "outputId": "f5474652-beff-45d3-e680-63313f3a0957"
      },
      "source": [
        "arch = EfficientNet.from_pretrained('efficientnet-b5')\n",
        "skf = KFold(n_splits=5,shuffle=True,random_seed=47)"
      ],
      "execution_count": 17,
      "outputs": [
        {
          "output_type": "stream",
          "text": [
            "Downloading: \"https://github.com/lukemelas/EfficientNet-PyTorch/releases/download/1.0/efficientnet-b5-b6417697.pth\" to /root/.cache/torch/checkpoints/efficientnet-b5-b6417697.pth\n"
          ],
          "name": "stderr"
        },
        {
          "output_type": "display_data",
          "data": {
            "application/vnd.jupyter.widget-view+json": {
              "model_id": "775c359e9be945adbb3733693fef388a",
              "version_minor": 0,
              "version_major": 2
            },
            "text/plain": [
              "HBox(children=(FloatProgress(value=0.0, max=122410125.0), HTML(value='')))"
            ]
          },
          "metadata": {
            "tags": []
          }
        },
        {
          "output_type": "stream",
          "text": [
            "\n",
            "Loaded pretrained weights for efficientnet-b5\n"
          ],
          "name": "stdout"
        }
      ]
    },
    {
      "cell_type": "code",
      "metadata": {
        "id": "CqN_l7I5qAHU",
        "colab_type": "code",
        "colab": {
          "base_uri": "https://localhost:8080/",
          "height": 34
        },
        "outputId": "d3b85aa1-2563-43c9-cc66-a8c36f09cbbe"
      },
      "source": [
        "gc.collect()"
      ],
      "execution_count": 18,
      "outputs": [
        {
          "output_type": "execute_result",
          "data": {
            "text/plain": [
              "3"
            ]
          },
          "metadata": {
            "tags": []
          },
          "execution_count": 18
        }
      ]
    },
    {
      "cell_type": "code",
      "metadata": {
        "id": "x7T7iRP5ueYH",
        "colab_type": "code",
        "colab": {
          "base_uri": "https://localhost:8080/",
          "height": 974
        },
        "outputId": "58dfe6e0-49b6-44b5-fe02-ebe80160a26b"
      },
      "source": [
        "#pred_dict = {}\n",
        "epochs = 5#5#12\n",
        "model_path='model.pth'\n",
        "patience = 6#6\n",
        "tta=11\n",
        "device = torch.device(\"cuda\")\n",
        "oof = np.zeros((len(train_csv), 1)) \n",
        "preds=torch.zeros((len(test_dataset),1), dtype=torch.float32, device=device)\n",
        "\n",
        "for fold, (idxT, idxV) in enumerate(skf.split(np.arange(15)), 1):\n",
        "  print(\"=\"*20, 'Fold', fold, '='*20)\n",
        "  \n",
        "  train_idx = train_csv.loc[train_csv['tfrecord'].isin(idxT)].index\n",
        "  val_idx = train_csv.loc[train_csv['tfrecord'].isin(idxV)].index\n",
        "  #best_val = None\n",
        "  best_loss = None\n",
        "  pat = patience\n",
        "  # if fold<3:\n",
        "  #   epochs=10\n",
        "  # else:\n",
        "  #   epochs=15\n",
        "  \n",
        "  model = Net(arch=arch)\n",
        "  # if fold<4:\n",
        "  model = torch.load('/content/drive/My Drive/b5new_1_'+str(fold)+model_path)\n",
        "  # else:\n",
        "  # model = torch.load('/content/drive/My Drive/g8_retryagain_new_'+str(fold)+model_path)\n",
        "  model = model.to(device)\n",
        "  optim = Ranger(model.parameters(),lr=0.00012)#over9000,0.0006#sgd,0.001#adamw,0.0001,0.001####0.00012,1.92e-7\n",
        "  scheduler = ReduceLROnPlateau(optimizer=optim, factor=0.2, mode='max', patience=1,verbose=True)#0.2,2\n",
        "  criterion = nn.BCEWithLogitsLoss()#smoothning\n",
        "\n",
        "  train = dataset(train_csv.iloc[train_idx].reset_index(drop=True),'/content/train/','train')\n",
        "  val = dataset(train_csv.iloc[val_idx].reset_index(drop=True),'/content/train/','val')\n",
        "\n",
        "  train_loader = DataLoader(dataset=train, batch_size=34, shuffle=True, num_workers=4)\n",
        "  val_loader = DataLoader(dataset=val, batch_size=8, shuffle=False, num_workers=4)\n",
        "  test_loader = DataLoader(dataset=test_dataset, batch_size=40, shuffle=False, num_workers=4)\n",
        "\n",
        "  if fold>0:\n",
        "    for epoch in range(epochs):\n",
        "      start_time = time.time()\n",
        "      correct = 0\n",
        "      epoch_loss = 0\n",
        "      val_loss = 0\n",
        "      model.train()\n",
        "        \n",
        "      for x,y in train_loader:\n",
        "        x=torch.tensor(x,device=device, dtype=torch.float32)\n",
        "        y=torch.tensor(y,device=device, dtype=torch.float32)\n",
        "        optim.zero_grad()\n",
        "        z= model(x)\n",
        "        loss = criterion(z, y.unsqueeze(1))\n",
        "        loss.backward()\n",
        "        optim.step()\n",
        "        pred = torch.round(torch.sigmoid(z))\n",
        "        correct += (pred.cpu()==y.cpu().unsqueeze(1)).sum().item()\n",
        "        epoch_loss += loss.item()\n",
        "      train_acc = correct/len(train_idx)\n",
        "      \n",
        "      model.eval()\n",
        "      val_preds = torch.zeros((len(val_idx),1),dtype=torch.float32, device=device)\n",
        "      with torch.no_grad():\n",
        "        for j,(x_val,y_val) in enumerate(val_loader):\n",
        "          x_val=torch.tensor(x_val, device=device, dtype=torch.float32)\n",
        "          y_val=torch.tensor(y_val, device=device, dtype=torch.float32)\n",
        "          z_val = model(x_val)\n",
        "          val_pred = torch.sigmoid(z_val)\n",
        "          val_preds[j*x_val.shape[0]:(j+1)*x_val.shape[0]] = val_pred\n",
        "        val_acc = accuracy_score(train_csv.iloc[val_idx]['target'].values, torch.round(val_preds.cpu()))\n",
        "        val_roc = roc_auc_score(train_csv.iloc[val_idx]['target'].values, val_preds.cpu())\n",
        "\n",
        "        print('Epoch {:03}: | Loss: {:.3f} | Train acc: {:.3f} | Val acc: {:.3f} | Val roc_auc: {:.3f} | Training time: {}'.format(\n",
        "              epoch + 1, \n",
        "              epoch_loss, \n",
        "              train_acc, \n",
        "              val_acc, \n",
        "              val_roc, \n",
        "              str(datetime.timedelta(seconds=time.time() - start_time))))\n",
        "        \n",
        "        scheduler.step(val_roc)\n",
        "        if not best_loss:\n",
        "          best_val = val_roc\n",
        "          best_loss=epoch_loss\n",
        "          torch.save(model, model_path)\n",
        "          continue\n",
        "        if epoch_loss<=best_loss:\n",
        "          best_val=val_roc\n",
        "          best_loss=epoch_loss\n",
        "          pat=patience\n",
        "          torch.save(model, model_path)\n",
        "          print('UPDATED ^')\n",
        "        # elif (best_val-val_roc)<0.001 and epoch_loss<best_loss:\n",
        "        #   best_val=val_roc\n",
        "        #   best_loss=epoch_loss\n",
        "        #   pat=patience\n",
        "        #   torch.save(model, model_path)\n",
        "        #   print('UPDATED ^')\n",
        "        else:\n",
        "          pat-=1\n",
        "          if pat==0:\n",
        "            print('Early stopping. Best Val roc_auc: {:.3f}'.format(best_val))\n",
        "            break\n",
        "    model = torch.load(model_path)\n",
        "    torch.save(model,'/content/drive/My Drive/b5new_2_'+str(fold)+model_path)\n",
        "  model.eval()\n",
        "  val_preds = torch.zeros((len(val_idx),1), dtype=torch.float32, device=device)\n",
        "  with torch.no_grad():\n",
        "    for j, (x_val, y_val) in enumerate(val_loader):\n",
        "      x_val = torch.tensor(x_val, device=device, dtype=torch.float32)\n",
        "      y_val = torch.tensor(y_val, device=device, dtype=torch.float32)\n",
        "      z_val = model(x_val)\n",
        "      val_pred = torch.sigmoid(z_val)\n",
        "      val_preds[j*x_val.shape[0]:j*x_val.shape[0] + x_val.shape[0]] = val_pred\n",
        "    oof[val_idx] = val_preds.cpu().numpy()\n",
        "    if fold>0:\n",
        "      del x,y\n",
        "    del  train, val, train_loader, val_loader, x_val,y_val\n",
        "    gc.collect()\n",
        "    for _ in range(tta):\n",
        "      for i,(x_test,y_test) in enumerate(test_loader):\n",
        "        x_test = torch.tensor(x_test, device=device, dtype=torch.float32)\n",
        "        z_test = model(x_test)\n",
        "        z_test = torch.sigmoid(z_test)\n",
        "        preds[i*x_test.shape[0]:(i+1)*x_test.shape[0]] += z_test\n",
        "    preds/=tta###write code such that for every tta even if we get one true then thats imp\n",
        "    #pred_dict[str(fold)]=preds\n",
        "  del x_test,y_test,test_loader\n",
        "  gc.collect()\n",
        "\n",
        "preds/= skf.n_splits"
      ],
      "execution_count": 19,
      "outputs": [
        {
          "output_type": "stream",
          "text": [
            "==================== Fold 1 ====================\n",
            "Epoch 001: | Loss: 36.281 | Train acc: 0.984 | Val acc: 0.989 | Val roc_auc: 0.955 | Training time: 0:16:53.485925\n",
            "Epoch 002: | Loss: 34.409 | Train acc: 0.985 | Val acc: 0.987 | Val roc_auc: 0.940 | Training time: 0:16:49.880988\n",
            "UPDATED ^\n",
            "Epoch 003: | Loss: 34.168 | Train acc: 0.985 | Val acc: 0.986 | Val roc_auc: 0.942 | Training time: 0:16:51.931898\n",
            "Epoch     3: reducing learning rate of group 0 to 2.4000e-05.\n",
            "UPDATED ^\n",
            "Epoch 004: | Loss: 29.494 | Train acc: 0.987 | Val acc: 0.988 | Val roc_auc: 0.947 | Training time: 0:16:57.595631\n",
            "UPDATED ^\n",
            "Epoch 005: | Loss: 26.938 | Train acc: 0.988 | Val acc: 0.989 | Val roc_auc: 0.949 | Training time: 0:16:49.411131\n",
            "Epoch     5: reducing learning rate of group 0 to 4.8000e-06.\n",
            "UPDATED ^\n",
            "==================== Fold 2 ====================\n",
            "Epoch 001: | Loss: 29.874 | Train acc: 0.988 | Val acc: 0.995 | Val roc_auc: 0.997 | Training time: 0:16:51.445224\n",
            "Epoch 002: | Loss: 31.588 | Train acc: 0.987 | Val acc: 0.995 | Val roc_auc: 0.995 | Training time: 0:16:49.084778\n",
            "Epoch 003: | Loss: 29.796 | Train acc: 0.987 | Val acc: 0.993 | Val roc_auc: 0.994 | Training time: 0:16:51.576518\n",
            "Epoch     3: reducing learning rate of group 0 to 2.4000e-05.\n",
            "UPDATED ^\n",
            "Epoch 004: | Loss: 25.415 | Train acc: 0.989 | Val acc: 0.994 | Val roc_auc: 0.995 | Training time: 0:16:54.104747\n",
            "UPDATED ^\n",
            "Epoch 005: | Loss: 22.581 | Train acc: 0.991 | Val acc: 0.994 | Val roc_auc: 0.995 | Training time: 0:16:56.610579\n",
            "Epoch     5: reducing learning rate of group 0 to 4.8000e-06.\n",
            "UPDATED ^\n",
            "==================== Fold 3 ====================\n",
            "Epoch 001: | Loss: 30.215 | Train acc: 0.988 | Val acc: 0.992 | Val roc_auc: 0.989 | Training time: 0:16:49.059373\n",
            "Epoch 002: | Loss: 27.670 | Train acc: 0.989 | Val acc: 0.992 | Val roc_auc: 0.983 | Training time: 0:16:47.314372\n",
            "UPDATED ^\n",
            "Epoch 003: | Loss: 26.369 | Train acc: 0.989 | Val acc: 0.990 | Val roc_auc: 0.980 | Training time: 0:16:43.073551\n",
            "Epoch     3: reducing learning rate of group 0 to 2.4000e-05.\n",
            "UPDATED ^\n",
            "Epoch 004: | Loss: 21.405 | Train acc: 0.991 | Val acc: 0.991 | Val roc_auc: 0.983 | Training time: 0:16:41.064251\n",
            "UPDATED ^\n",
            "Epoch 005: | Loss: 20.507 | Train acc: 0.991 | Val acc: 0.990 | Val roc_auc: 0.984 | Training time: 0:16:49.596041\n",
            "Epoch     5: reducing learning rate of group 0 to 4.8000e-06.\n",
            "UPDATED ^\n",
            "==================== Fold 4 ====================\n",
            "Epoch 001: | Loss: 47.409 | Train acc: 0.982 | Val acc: 0.982 | Val roc_auc: 0.959 | Training time: 0:16:46.258085\n",
            "Epoch 002: | Loss: 45.979 | Train acc: 0.982 | Val acc: 0.984 | Val roc_auc: 0.963 | Training time: 0:16:50.572644\n",
            "UPDATED ^\n",
            "Epoch 003: | Loss: 43.754 | Train acc: 0.983 | Val acc: 0.984 | Val roc_auc: 0.960 | Training time: 0:16:47.761297\n",
            "UPDATED ^\n",
            "Epoch 004: | Loss: 41.149 | Train acc: 0.983 | Val acc: 0.984 | Val roc_auc: 0.964 | Training time: 0:16:54.941842\n",
            "UPDATED ^\n",
            "Epoch 005: | Loss: 40.724 | Train acc: 0.984 | Val acc: 0.985 | Val roc_auc: 0.941 | Training time: 0:16:55.339375\n",
            "UPDATED ^\n",
            "==================== Fold 5 ====================\n",
            "Epoch 001: | Loss: 43.614 | Train acc: 0.982 | Val acc: 0.983 | Val roc_auc: 0.951 | Training time: 0:16:56.079051\n",
            "Epoch 002: | Loss: 42.143 | Train acc: 0.983 | Val acc: 0.983 | Val roc_auc: 0.946 | Training time: 0:16:58.691493\n",
            "UPDATED ^\n",
            "Epoch 003: | Loss: 40.201 | Train acc: 0.983 | Val acc: 0.984 | Val roc_auc: 0.941 | Training time: 0:16:57.571570\n",
            "Epoch     3: reducing learning rate of group 0 to 2.4000e-05.\n",
            "UPDATED ^\n",
            "Epoch 004: | Loss: 35.967 | Train acc: 0.984 | Val acc: 0.983 | Val roc_auc: 0.945 | Training time: 0:16:58.195413\n",
            "UPDATED ^\n",
            "Epoch 005: | Loss: 33.487 | Train acc: 0.985 | Val acc: 0.984 | Val roc_auc: 0.950 | Training time: 0:16:57.062496\n",
            "Epoch     5: reducing learning rate of group 0 to 4.8000e-06.\n",
            "UPDATED ^\n"
          ],
          "name": "stdout"
        }
      ]
    },
    {
      "cell_type": "markdown",
      "metadata": {
        "id": "IuNlpUDFHI7L",
        "colab_type": "text"
      },
      "source": [
        "# Final validation score"
      ]
    },
    {
      "cell_type": "code",
      "metadata": {
        "id": "0Q65HYB3uebh",
        "colab_type": "code",
        "colab": {
          "base_uri": "https://localhost:8080/",
          "height": 34
        },
        "outputId": "0d759c37-4a8a-406b-c4bf-32dfe84fae65"
      },
      "source": [
        "print('OOF: {:.3f}'.format(roc_auc_score(train_csv['target'], oof)))"
      ],
      "execution_count": 20,
      "outputs": [
        {
          "output_type": "stream",
          "text": [
            "OOF: 0.962\n"
          ],
          "name": "stdout"
        }
      ]
    },
    {
      "cell_type": "code",
      "metadata": {
        "id": "9W5xWd5KMuPf",
        "colab_type": "code",
        "colab": {}
      },
      "source": [
        "oof_csv = pd.read_csv('train.csv')\n",
        "oof_csv['target'] = oof\n",
        "oof_csv.to_csv('/content/drive/My Drive/b5new_2_oof.csv', index=False)"
      ],
      "execution_count": 21,
      "outputs": []
    },
    {
      "cell_type": "markdown",
      "metadata": {
        "id": "H4xZcA6uQzHU",
        "colab_type": "text"
      },
      "source": [
        "# Saving csv"
      ]
    },
    {
      "cell_type": "code",
      "metadata": {
        "id": "5BnulH5dXCfd",
        "colab_type": "code",
        "colab": {}
      },
      "source": [
        "sub_csv = pd.read_csv('sample_submission.csv')\n",
        "sub_csv['target'] = preds.cpu()"
      ],
      "execution_count": 22,
      "outputs": []
    },
    {
      "cell_type": "code",
      "metadata": {
        "id": "_ETLJEb-b6EW",
        "colab_type": "code",
        "colab": {
          "base_uri": "https://localhost:8080/",
          "height": 195
        },
        "outputId": "d9b86e86-f032-4009-e208-43f86df3e584"
      },
      "source": [
        "test_csv.head()"
      ],
      "execution_count": 23,
      "outputs": [
        {
          "output_type": "execute_result",
          "data": {
            "text/html": [
              "<div>\n",
              "<style scoped>\n",
              "    .dataframe tbody tr th:only-of-type {\n",
              "        vertical-align: middle;\n",
              "    }\n",
              "\n",
              "    .dataframe tbody tr th {\n",
              "        vertical-align: top;\n",
              "    }\n",
              "\n",
              "    .dataframe thead th {\n",
              "        text-align: right;\n",
              "    }\n",
              "</style>\n",
              "<table border=\"1\" class=\"dataframe\">\n",
              "  <thead>\n",
              "    <tr style=\"text-align: right;\">\n",
              "      <th></th>\n",
              "      <th>image_name</th>\n",
              "      <th>patient_id</th>\n",
              "      <th>sex</th>\n",
              "      <th>age_approx</th>\n",
              "      <th>anatom_site_general_challenge</th>\n",
              "      <th>width</th>\n",
              "      <th>height</th>\n",
              "      <th>target</th>\n",
              "    </tr>\n",
              "  </thead>\n",
              "  <tbody>\n",
              "    <tr>\n",
              "      <th>0</th>\n",
              "      <td>ISIC_0052060</td>\n",
              "      <td>IP_3579794</td>\n",
              "      <td>male</td>\n",
              "      <td>70.0</td>\n",
              "      <td>NaN</td>\n",
              "      <td>6000</td>\n",
              "      <td>4000</td>\n",
              "      <td>0</td>\n",
              "    </tr>\n",
              "    <tr>\n",
              "      <th>1</th>\n",
              "      <td>ISIC_0052349</td>\n",
              "      <td>IP_7782715</td>\n",
              "      <td>male</td>\n",
              "      <td>40.0</td>\n",
              "      <td>lower extremity</td>\n",
              "      <td>6000</td>\n",
              "      <td>4000</td>\n",
              "      <td>0</td>\n",
              "    </tr>\n",
              "    <tr>\n",
              "      <th>2</th>\n",
              "      <td>ISIC_0058510</td>\n",
              "      <td>IP_7960270</td>\n",
              "      <td>female</td>\n",
              "      <td>55.0</td>\n",
              "      <td>torso</td>\n",
              "      <td>6000</td>\n",
              "      <td>4000</td>\n",
              "      <td>0</td>\n",
              "    </tr>\n",
              "    <tr>\n",
              "      <th>3</th>\n",
              "      <td>ISIC_0073313</td>\n",
              "      <td>IP_6375035</td>\n",
              "      <td>female</td>\n",
              "      <td>50.0</td>\n",
              "      <td>torso</td>\n",
              "      <td>6000</td>\n",
              "      <td>4000</td>\n",
              "      <td>0</td>\n",
              "    </tr>\n",
              "    <tr>\n",
              "      <th>4</th>\n",
              "      <td>ISIC_0073502</td>\n",
              "      <td>IP_0589375</td>\n",
              "      <td>female</td>\n",
              "      <td>45.0</td>\n",
              "      <td>lower extremity</td>\n",
              "      <td>1920</td>\n",
              "      <td>1080</td>\n",
              "      <td>0</td>\n",
              "    </tr>\n",
              "  </tbody>\n",
              "</table>\n",
              "</div>"
            ],
            "text/plain": [
              "     image_name  patient_id     sex  ...  width height  target\n",
              "0  ISIC_0052060  IP_3579794    male  ...   6000   4000       0\n",
              "1  ISIC_0052349  IP_7782715    male  ...   6000   4000       0\n",
              "2  ISIC_0058510  IP_7960270  female  ...   6000   4000       0\n",
              "3  ISIC_0073313  IP_6375035  female  ...   6000   4000       0\n",
              "4  ISIC_0073502  IP_0589375  female  ...   1920   1080       0\n",
              "\n",
              "[5 rows x 8 columns]"
            ]
          },
          "metadata": {
            "tags": []
          },
          "execution_count": 23
        }
      ]
    },
    {
      "cell_type": "code",
      "metadata": {
        "id": "csEnVH0-ut5Y",
        "colab_type": "code",
        "colab": {}
      },
      "source": [
        "sub_csv.target= torch.tensor(sub_csv.target)[:,0]"
      ],
      "execution_count": 24,
      "outputs": []
    },
    {
      "cell_type": "code",
      "metadata": {
        "id": "RJjY6JfGcEAU",
        "colab_type": "code",
        "colab": {
          "base_uri": "https://localhost:8080/",
          "height": 195
        },
        "outputId": "cc221022-d82a-4ba4-d4aa-76f4a5affc56"
      },
      "source": [
        "sub_csv.head()"
      ],
      "execution_count": 25,
      "outputs": [
        {
          "output_type": "execute_result",
          "data": {
            "text/html": [
              "<div>\n",
              "<style scoped>\n",
              "    .dataframe tbody tr th:only-of-type {\n",
              "        vertical-align: middle;\n",
              "    }\n",
              "\n",
              "    .dataframe tbody tr th {\n",
              "        vertical-align: top;\n",
              "    }\n",
              "\n",
              "    .dataframe thead th {\n",
              "        text-align: right;\n",
              "    }\n",
              "</style>\n",
              "<table border=\"1\" class=\"dataframe\">\n",
              "  <thead>\n",
              "    <tr style=\"text-align: right;\">\n",
              "      <th></th>\n",
              "      <th>image_name</th>\n",
              "      <th>target</th>\n",
              "    </tr>\n",
              "  </thead>\n",
              "  <tbody>\n",
              "    <tr>\n",
              "      <th>0</th>\n",
              "      <td>ISIC_0052060</td>\n",
              "      <td>0.000166</td>\n",
              "    </tr>\n",
              "    <tr>\n",
              "      <th>1</th>\n",
              "      <td>ISIC_0052349</td>\n",
              "      <td>0.000068</td>\n",
              "    </tr>\n",
              "    <tr>\n",
              "      <th>2</th>\n",
              "      <td>ISIC_0058510</td>\n",
              "      <td>0.000124</td>\n",
              "    </tr>\n",
              "    <tr>\n",
              "      <th>3</th>\n",
              "      <td>ISIC_0073313</td>\n",
              "      <td>0.000195</td>\n",
              "    </tr>\n",
              "    <tr>\n",
              "      <th>4</th>\n",
              "      <td>ISIC_0073502</td>\n",
              "      <td>0.002020</td>\n",
              "    </tr>\n",
              "  </tbody>\n",
              "</table>\n",
              "</div>"
            ],
            "text/plain": [
              "     image_name    target\n",
              "0  ISIC_0052060  0.000166\n",
              "1  ISIC_0052349  0.000068\n",
              "2  ISIC_0058510  0.000124\n",
              "3  ISIC_0073313  0.000195\n",
              "4  ISIC_0073502  0.002020"
            ]
          },
          "metadata": {
            "tags": []
          },
          "execution_count": 25
        }
      ]
    },
    {
      "cell_type": "code",
      "metadata": {
        "id": "706505Aqdfa2",
        "colab_type": "code",
        "colab": {}
      },
      "source": [
        "sub_csv.to_csv('/content/drive/My Drive/sub_b5new_2_.csv', index=False)"
      ],
      "execution_count": 26,
      "outputs": []
    },
    {
      "cell_type": "code",
      "metadata": {
        "id": "ylBeGNUyJs8x",
        "colab_type": "code",
        "colab": {}
      },
      "source": [
        ""
      ],
      "execution_count": null,
      "outputs": []
    }
  ]
}
