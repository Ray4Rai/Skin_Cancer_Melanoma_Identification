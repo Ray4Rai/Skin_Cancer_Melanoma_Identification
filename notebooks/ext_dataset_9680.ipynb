{
  "nbformat": 4,
  "nbformat_minor": 0,
  "metadata": {
    "colab": {
      "name": "stacking.ipynb",
      "provenance": [],
      "collapsed_sections": [
        "XJcK3RfLXr87",
        "XRjqc8k_Xndt",
        "uV9KEbOvXgxU",
        "z4aW76nUI6jc"
      ],
      "toc_visible": true
    },
    "kernelspec": {
      "name": "python3",
      "display_name": "Python 3"
    }
  },
  "cells": [
    {
      "cell_type": "code",
      "metadata": {
        "id": "aDWMXTsjPNGq",
        "colab_type": "code",
        "colab": {}
      },
      "source": [
        "from sklearn.linear_model import LogisticRegression \n",
        "import pandas as pd\n",
        "from sklearn.model_selection import train_test_split, StratifiedKFold, GroupKFold, KFold\n",
        "import numpy as np"
      ],
      "execution_count": 1,
      "outputs": []
    },
    {
      "cell_type": "code",
      "metadata": {
        "id": "UOGL3OcePxyO",
        "colab_type": "code",
        "colab": {
          "base_uri": "https://localhost:8080/",
          "height": 121
        },
        "outputId": "6513af80-6299-4476-fce5-f7b82f58193a"
      },
      "source": [
        "from google.colab import drive\n",
        "drive.mount('/content/drive')"
      ],
      "execution_count": 2,
      "outputs": [
        {
          "output_type": "stream",
          "text": [
            "Go to this URL in a browser: https://accounts.google.com/o/oauth2/auth?client_id=947318989803-6bn6qk8qdgf4n4g3pfee6491hc0brc4i.apps.googleusercontent.com&redirect_uri=urn%3aietf%3awg%3aoauth%3a2.0%3aoob&scope=email%20https%3a%2f%2fwww.googleapis.com%2fauth%2fdocs.test%20https%3a%2f%2fwww.googleapis.com%2fauth%2fdrive%20https%3a%2f%2fwww.googleapis.com%2fauth%2fdrive.photos.readonly%20https%3a%2f%2fwww.googleapis.com%2fauth%2fpeopleapi.readonly&response_type=code\n",
            "\n",
            "Enter your authorization code:\n",
            "··········\n",
            "Mounted at /content/drive\n"
          ],
          "name": "stdout"
        }
      ]
    },
    {
      "cell_type": "code",
      "metadata": {
        "id": "DOqXgNjpRs4t",
        "colab_type": "code",
        "colab": {
          "base_uri": "https://localhost:8080/",
          "height": 249
        },
        "outputId": "a2e92b14-1379-4f1d-e215-b56ba7979faa"
      },
      "source": [
        "tc = pd.read_csv('tmp_train.csv')\n",
        "print(len(tc))\n",
        "\n",
        "tc.drop(index=np.array(np.where(tc.tfrecord==-1))[0],axis=1,inplace=True)\n",
        "print(len(tc))\n",
        "tc = tc.set_index('image_name')\n",
        "tc = tc.reindex(index=oof2['image_name'])\n",
        "tc = tc.reset_index()\n",
        "tc.head()"
      ],
      "execution_count": 6,
      "outputs": [
        {
          "output_type": "stream",
          "text": [
            "33126\n",
            "32692\n"
          ],
          "name": "stdout"
        },
        {
          "output_type": "execute_result",
          "data": {
            "text/html": [
              "<div>\n",
              "<style scoped>\n",
              "    .dataframe tbody tr th:only-of-type {\n",
              "        vertical-align: middle;\n",
              "    }\n",
              "\n",
              "    .dataframe tbody tr th {\n",
              "        vertical-align: top;\n",
              "    }\n",
              "\n",
              "    .dataframe thead th {\n",
              "        text-align: right;\n",
              "    }\n",
              "</style>\n",
              "<table border=\"1\" class=\"dataframe\">\n",
              "  <thead>\n",
              "    <tr style=\"text-align: right;\">\n",
              "      <th></th>\n",
              "      <th>image_name</th>\n",
              "      <th>patient_id</th>\n",
              "      <th>sex</th>\n",
              "      <th>age_approx</th>\n",
              "      <th>anatom_site_general_challenge</th>\n",
              "      <th>diagnosis</th>\n",
              "      <th>benign_malignant</th>\n",
              "      <th>target</th>\n",
              "      <th>tfrecord</th>\n",
              "      <th>width</th>\n",
              "      <th>height</th>\n",
              "      <th>patient_code</th>\n",
              "    </tr>\n",
              "  </thead>\n",
              "  <tbody>\n",
              "    <tr>\n",
              "      <th>0</th>\n",
              "      <td>ISIC_2637011</td>\n",
              "      <td>IP_7279968</td>\n",
              "      <td>male</td>\n",
              "      <td>45.0</td>\n",
              "      <td>head/neck</td>\n",
              "      <td>unknown</td>\n",
              "      <td>benign</td>\n",
              "      <td>0</td>\n",
              "      <td>0</td>\n",
              "      <td>6000</td>\n",
              "      <td>4000</td>\n",
              "      <td>0</td>\n",
              "    </tr>\n",
              "    <tr>\n",
              "      <th>1</th>\n",
              "      <td>ISIC_0076262</td>\n",
              "      <td>IP_5075533</td>\n",
              "      <td>female</td>\n",
              "      <td>50.0</td>\n",
              "      <td>lower extremity</td>\n",
              "      <td>unknown</td>\n",
              "      <td>benign</td>\n",
              "      <td>0</td>\n",
              "      <td>9</td>\n",
              "      <td>6000</td>\n",
              "      <td>4000</td>\n",
              "      <td>9</td>\n",
              "    </tr>\n",
              "    <tr>\n",
              "      <th>2</th>\n",
              "      <td>ISIC_0074268</td>\n",
              "      <td>IP_8723313</td>\n",
              "      <td>female</td>\n",
              "      <td>55.0</td>\n",
              "      <td>upper extremity</td>\n",
              "      <td>unknown</td>\n",
              "      <td>benign</td>\n",
              "      <td>0</td>\n",
              "      <td>11</td>\n",
              "      <td>6000</td>\n",
              "      <td>4000</td>\n",
              "      <td>4</td>\n",
              "    </tr>\n",
              "    <tr>\n",
              "      <th>3</th>\n",
              "      <td>ISIC_0015719</td>\n",
              "      <td>IP_3075186</td>\n",
              "      <td>female</td>\n",
              "      <td>45.0</td>\n",
              "      <td>upper extremity</td>\n",
              "      <td>unknown</td>\n",
              "      <td>benign</td>\n",
              "      <td>0</td>\n",
              "      <td>0</td>\n",
              "      <td>6000</td>\n",
              "      <td>4000</td>\n",
              "      <td>1</td>\n",
              "    </tr>\n",
              "    <tr>\n",
              "      <th>4</th>\n",
              "      <td>ISIC_0082543</td>\n",
              "      <td>IP_9463965</td>\n",
              "      <td>female</td>\n",
              "      <td>30.0</td>\n",
              "      <td>torso</td>\n",
              "      <td>unknown</td>\n",
              "      <td>benign</td>\n",
              "      <td>0</td>\n",
              "      <td>9</td>\n",
              "      <td>6000</td>\n",
              "      <td>4000</td>\n",
              "      <td>22</td>\n",
              "    </tr>\n",
              "  </tbody>\n",
              "</table>\n",
              "</div>"
            ],
            "text/plain": [
              "     image_name  patient_id     sex  ...  width height patient_code\n",
              "0  ISIC_2637011  IP_7279968    male  ...   6000   4000            0\n",
              "1  ISIC_0076262  IP_5075533  female  ...   6000   4000            9\n",
              "2  ISIC_0074268  IP_8723313  female  ...   6000   4000            4\n",
              "3  ISIC_0015719  IP_3075186  female  ...   6000   4000            1\n",
              "4  ISIC_0082543  IP_9463965  female  ...   6000   4000           22\n",
              "\n",
              "[5 rows x 12 columns]"
            ]
          },
          "metadata": {
            "tags": []
          },
          "execution_count": 6
        }
      ]
    },
    {
      "cell_type": "code",
      "metadata": {
        "id": "BDVKu5faDIQV",
        "colab_type": "code",
        "colab": {
          "base_uri": "https://localhost:8080/",
          "height": 195
        },
        "outputId": "7a20aa01-3785-4a77-a719-d1b9740234ed"
      },
      "source": [
        "oof2.head()"
      ],
      "execution_count": 22,
      "outputs": [
        {
          "output_type": "execute_result",
          "data": {
            "text/html": [
              "<div>\n",
              "<style scoped>\n",
              "    .dataframe tbody tr th:only-of-type {\n",
              "        vertical-align: middle;\n",
              "    }\n",
              "\n",
              "    .dataframe tbody tr th {\n",
              "        vertical-align: top;\n",
              "    }\n",
              "\n",
              "    .dataframe thead th {\n",
              "        text-align: right;\n",
              "    }\n",
              "</style>\n",
              "<table border=\"1\" class=\"dataframe\">\n",
              "  <thead>\n",
              "    <tr style=\"text-align: right;\">\n",
              "      <th></th>\n",
              "      <th>image_name</th>\n",
              "      <th>target</th>\n",
              "      <th>pred</th>\n",
              "      <th>fold</th>\n",
              "    </tr>\n",
              "  </thead>\n",
              "  <tbody>\n",
              "    <tr>\n",
              "      <th>0</th>\n",
              "      <td>ISIC_2637011</td>\n",
              "      <td>0</td>\n",
              "      <td>0.024090</td>\n",
              "      <td>0</td>\n",
              "    </tr>\n",
              "    <tr>\n",
              "      <th>1</th>\n",
              "      <td>ISIC_0076262</td>\n",
              "      <td>0</td>\n",
              "      <td>0.054574</td>\n",
              "      <td>0</td>\n",
              "    </tr>\n",
              "    <tr>\n",
              "      <th>2</th>\n",
              "      <td>ISIC_0074268</td>\n",
              "      <td>0</td>\n",
              "      <td>0.033335</td>\n",
              "      <td>0</td>\n",
              "    </tr>\n",
              "    <tr>\n",
              "      <th>3</th>\n",
              "      <td>ISIC_0015719</td>\n",
              "      <td>0</td>\n",
              "      <td>0.025938</td>\n",
              "      <td>0</td>\n",
              "    </tr>\n",
              "    <tr>\n",
              "      <th>4</th>\n",
              "      <td>ISIC_0082543</td>\n",
              "      <td>0</td>\n",
              "      <td>0.030433</td>\n",
              "      <td>0</td>\n",
              "    </tr>\n",
              "  </tbody>\n",
              "</table>\n",
              "</div>"
            ],
            "text/plain": [
              "     image_name  target      pred  fold\n",
              "0  ISIC_2637011       0  0.024090     0\n",
              "1  ISIC_0076262       0  0.054574     0\n",
              "2  ISIC_0074268       0  0.033335     0\n",
              "3  ISIC_0015719       0  0.025938     0\n",
              "4  ISIC_0082543       0  0.030433     0"
            ]
          },
          "metadata": {
            "tags": []
          },
          "execution_count": 22
        }
      ]
    },
    {
      "cell_type": "code",
      "metadata": {
        "id": "q1DtR1ZjQH1h",
        "colab_type": "code",
        "colab": {
          "base_uri": "https://localhost:8080/",
          "height": 50
        },
        "outputId": "fc30d528-f536-4107-dbaf-d892b4c3d0c5"
      },
      "source": [
        "oof1 = pd.read_csv('b5new_2_oof.csv')\n",
        "oof2 = pd.read_csv('b0new_1up_oof.csv')\n",
        "oof3 = pd.read_csv('b1new_1up_oof.csv')\n",
        "oof4 = pd.read_csv('b4new_1up_oof.csv')\n",
        "oof5 = pd.read_csv('b3new_1upup_oof.csv')\n",
        "oof6 = pd.read_csv('b2new_1_oof.csv')\n",
        "oof7 = pd.read_csv('b6new_1upup_oof.csv')\n",
        "oof8 = pd.read_csv('mmb5_1_oof.csv')\n",
        "\n",
        "sub1 = pd.read_csv('sub_b5new_2_.csv')\n",
        "sub2 = pd.read_csv('sub_b0new_1up_.csv')\n",
        "sub3 = pd.read_csv('sub_b1new_1up_.csv')\n",
        "sub4 = pd.read_csv('sub_b4new_1up_.csv')\n",
        "sub5 = pd.read_csv('sub_b3new_1upup_.csv')\n",
        "sub6 = pd.read_csv('sub_b2new_1_.csv')\n",
        "sub7 = pd.read_csv('sub_b6new_1upup_.csv')\n",
        "sub8 = pd.read_csv('sub_mmb5_1.csv')\n",
        "print(len(oof1),len(oof2),len(sub1),len(sub1))\n",
        "\n",
        "oof9 = pd.read_csv('/content/b0new_192upup_oof.csv')\n",
        "oof10= pd.read_csv('/content/b1new_192upup_oof.csv')\n",
        "oof11= pd.read_csv('/content/b2new_192upup_oof.csv')\n",
        "oof12= pd.read_csv('/content/b3new_192up_oof.csv')\n",
        "oof13= pd.read_csv('/content/b4new_192upup_oof.csv')\n",
        "oof14= pd.read_csv('/content/b5new_192up_oof.csv')\n",
        "\n",
        "sub9 = pd.read_csv('/content/sub_b0new_192upup_.csv')\n",
        "sub10 = pd.read_csv('/content/sub_b1new_192upup_.csv')\n",
        "sub11 = pd.read_csv('/content/sub_b2new_192upup_.csv')\n",
        "sub12 = pd.read_csv('/content/sub_b3new_192up_.csv')\n",
        "sub13 = pd.read_csv('/content/sub_b4new_192upup_.csv')\n",
        "sub14 = pd.read_csv('/content/sub_b5new_192up_.csv')\n",
        "print(len(oof13),len(oof12),len(sub10),len(sub11))"
      ],
      "execution_count": 25,
      "outputs": [
        {
          "output_type": "stream",
          "text": [
            "33126 33126 10982 10982\n",
            "33126 33126 10982 10982\n"
          ],
          "name": "stdout"
        }
      ]
    },
    {
      "cell_type": "code",
      "metadata": {
        "id": "4i2kUAHbRhJd",
        "colab_type": "code",
        "colab": {
          "base_uri": "https://localhost:8080/",
          "height": 229
        },
        "outputId": "26ecf1ec-bf83-46db-ea3f-ed659bf0d65d"
      },
      "source": [
        "traindata = pd.concat([oof1.target,oof2.target,oof3.target,oof4.target,oof5.target,oof6.target,oof7.target,oof8],axis=1)\n",
        "# data['x1']=data.target\n",
        "# data['x2']=oof2\n",
        "# data['x3']=oofnew.predictions\n",
        "\n",
        "# data.drop(columns=['target'],inplace=True)\n",
        "traindata.head()"
      ],
      "execution_count": 16,
      "outputs": [
        {
          "output_type": "error",
          "ename": "NameError",
          "evalue": "ignored",
          "traceback": [
            "\u001b[0;31m---------------------------------------------------------------------------\u001b[0m",
            "\u001b[0;31mNameError\u001b[0m                                 Traceback (most recent call last)",
            "\u001b[0;32m<ipython-input-16-ff41e360f5f0>\u001b[0m in \u001b[0;36m<module>\u001b[0;34m()\u001b[0m\n\u001b[0;32m----> 1\u001b[0;31m \u001b[0mtraindata\u001b[0m \u001b[0;34m=\u001b[0m \u001b[0mpd\u001b[0m\u001b[0;34m.\u001b[0m\u001b[0mconcat\u001b[0m\u001b[0;34m(\u001b[0m\u001b[0;34m[\u001b[0m\u001b[0moof1\u001b[0m\u001b[0;34m.\u001b[0m\u001b[0mtarget\u001b[0m\u001b[0;34m,\u001b[0m\u001b[0moof2\u001b[0m\u001b[0;34m.\u001b[0m\u001b[0mtarget\u001b[0m\u001b[0;34m,\u001b[0m\u001b[0moof3\u001b[0m\u001b[0;34m.\u001b[0m\u001b[0mtarget\u001b[0m\u001b[0;34m,\u001b[0m\u001b[0moof4\u001b[0m\u001b[0;34m.\u001b[0m\u001b[0mtarget\u001b[0m\u001b[0;34m,\u001b[0m\u001b[0moof5\u001b[0m\u001b[0;34m.\u001b[0m\u001b[0mtarget\u001b[0m\u001b[0;34m,\u001b[0m\u001b[0moof6\u001b[0m\u001b[0;34m.\u001b[0m\u001b[0mtarget\u001b[0m\u001b[0;34m,\u001b[0m\u001b[0moof7\u001b[0m\u001b[0;34m.\u001b[0m\u001b[0mtarget\u001b[0m\u001b[0;34m,\u001b[0m\u001b[0moof8\u001b[0m\u001b[0;34m]\u001b[0m\u001b[0;34m,\u001b[0m\u001b[0maxis\u001b[0m\u001b[0;34m=\u001b[0m\u001b[0;36m1\u001b[0m\u001b[0;34m)\u001b[0m\u001b[0;34m\u001b[0m\u001b[0;34m\u001b[0m\u001b[0m\n\u001b[0m\u001b[1;32m      2\u001b[0m \u001b[0;31m# data['x1']=data.target\u001b[0m\u001b[0;34m\u001b[0m\u001b[0;34m\u001b[0m\u001b[0;34m\u001b[0m\u001b[0m\n\u001b[1;32m      3\u001b[0m \u001b[0;31m# data['x2']=oof2\u001b[0m\u001b[0;34m\u001b[0m\u001b[0;34m\u001b[0m\u001b[0;34m\u001b[0m\u001b[0m\n\u001b[1;32m      4\u001b[0m \u001b[0;31m# data['x3']=oofnew.predictions\u001b[0m\u001b[0;34m\u001b[0m\u001b[0;34m\u001b[0m\u001b[0;34m\u001b[0m\u001b[0m\n\u001b[1;32m      5\u001b[0m \u001b[0;34m\u001b[0m\u001b[0m\n",
            "\u001b[0;31mNameError\u001b[0m: name 'oof1' is not defined"
          ]
        }
      ]
    },
    {
      "cell_type": "code",
      "metadata": {
        "id": "L44QQ_ynVDUN",
        "colab_type": "code",
        "colab": {
          "base_uri": "https://localhost:8080/",
          "height": 195
        },
        "outputId": "1528ca99-31dd-4b5c-823f-4a3e9db37ddf"
      },
      "source": [
        "#testdata = pd.concat([sub1.target,sub2.target,sub3.target,sub4.target,sub5.target,sub6.target,sub7.target,sub8.target],axis=1)\n",
        "testdata = pd.concat([sub1.target,sub2.target,sub3.target,sub4.target,sub5.target,sub6.target,sub7.target,sub8.target,sub9.target,sub10.target,sub11.target,sub12.target,sub13.target,sub14.target],axis=1)\n",
        "# sub1['xx1']=sub1.target\n",
        "# sub1['xx2']=sub2.target\n",
        "# sub1['xx3']=subnew.target\n",
        "# sub1.drop(columns=['target','image_name'],inplace=True)\n",
        "testdata.head()"
      ],
      "execution_count": 26,
      "outputs": [
        {
          "output_type": "execute_result",
          "data": {
            "text/html": [
              "<div>\n",
              "<style scoped>\n",
              "    .dataframe tbody tr th:only-of-type {\n",
              "        vertical-align: middle;\n",
              "    }\n",
              "\n",
              "    .dataframe tbody tr th {\n",
              "        vertical-align: top;\n",
              "    }\n",
              "\n",
              "    .dataframe thead th {\n",
              "        text-align: right;\n",
              "    }\n",
              "</style>\n",
              "<table border=\"1\" class=\"dataframe\">\n",
              "  <thead>\n",
              "    <tr style=\"text-align: right;\">\n",
              "      <th></th>\n",
              "      <th>target</th>\n",
              "      <th>target</th>\n",
              "      <th>target</th>\n",
              "      <th>target</th>\n",
              "      <th>target</th>\n",
              "      <th>target</th>\n",
              "      <th>target</th>\n",
              "      <th>target</th>\n",
              "      <th>target</th>\n",
              "      <th>target</th>\n",
              "      <th>target</th>\n",
              "      <th>target</th>\n",
              "      <th>target</th>\n",
              "      <th>target</th>\n",
              "    </tr>\n",
              "  </thead>\n",
              "  <tbody>\n",
              "    <tr>\n",
              "      <th>0</th>\n",
              "      <td>0.000166</td>\n",
              "      <td>0.000135</td>\n",
              "      <td>0.000358</td>\n",
              "      <td>0.000108</td>\n",
              "      <td>0.000491</td>\n",
              "      <td>0.000597</td>\n",
              "      <td>0.000846</td>\n",
              "      <td>0.001561</td>\n",
              "      <td>0.000145</td>\n",
              "      <td>0.001343</td>\n",
              "      <td>0.001062</td>\n",
              "      <td>0.000294</td>\n",
              "      <td>0.000307</td>\n",
              "      <td>0.000133</td>\n",
              "    </tr>\n",
              "    <tr>\n",
              "      <th>1</th>\n",
              "      <td>0.000068</td>\n",
              "      <td>0.000075</td>\n",
              "      <td>0.000141</td>\n",
              "      <td>0.000020</td>\n",
              "      <td>0.000231</td>\n",
              "      <td>0.000417</td>\n",
              "      <td>0.000427</td>\n",
              "      <td>0.000082</td>\n",
              "      <td>0.000147</td>\n",
              "      <td>0.000317</td>\n",
              "      <td>0.000220</td>\n",
              "      <td>0.000090</td>\n",
              "      <td>0.000168</td>\n",
              "      <td>0.000045</td>\n",
              "    </tr>\n",
              "    <tr>\n",
              "      <th>2</th>\n",
              "      <td>0.000124</td>\n",
              "      <td>0.000096</td>\n",
              "      <td>0.000205</td>\n",
              "      <td>0.000133</td>\n",
              "      <td>0.000161</td>\n",
              "      <td>0.000396</td>\n",
              "      <td>0.000575</td>\n",
              "      <td>0.000072</td>\n",
              "      <td>0.000167</td>\n",
              "      <td>0.000098</td>\n",
              "      <td>0.000200</td>\n",
              "      <td>0.000129</td>\n",
              "      <td>0.000253</td>\n",
              "      <td>0.000137</td>\n",
              "    </tr>\n",
              "    <tr>\n",
              "      <th>3</th>\n",
              "      <td>0.000195</td>\n",
              "      <td>0.000077</td>\n",
              "      <td>0.000165</td>\n",
              "      <td>0.000053</td>\n",
              "      <td>0.000196</td>\n",
              "      <td>0.000466</td>\n",
              "      <td>0.000598</td>\n",
              "      <td>0.000126</td>\n",
              "      <td>0.000219</td>\n",
              "      <td>0.000111</td>\n",
              "      <td>0.000222</td>\n",
              "      <td>0.000101</td>\n",
              "      <td>0.000328</td>\n",
              "      <td>0.000163</td>\n",
              "    </tr>\n",
              "    <tr>\n",
              "      <th>4</th>\n",
              "      <td>0.002020</td>\n",
              "      <td>0.000483</td>\n",
              "      <td>0.000410</td>\n",
              "      <td>0.000216</td>\n",
              "      <td>0.000365</td>\n",
              "      <td>0.002193</td>\n",
              "      <td>0.000845</td>\n",
              "      <td>0.000572</td>\n",
              "      <td>0.000358</td>\n",
              "      <td>0.002264</td>\n",
              "      <td>0.000201</td>\n",
              "      <td>0.000556</td>\n",
              "      <td>0.000235</td>\n",
              "      <td>0.000182</td>\n",
              "    </tr>\n",
              "  </tbody>\n",
              "</table>\n",
              "</div>"
            ],
            "text/plain": [
              "     target    target    target  ...    target    target    target\n",
              "0  0.000166  0.000135  0.000358  ...  0.000294  0.000307  0.000133\n",
              "1  0.000068  0.000075  0.000141  ...  0.000090  0.000168  0.000045\n",
              "2  0.000124  0.000096  0.000205  ...  0.000129  0.000253  0.000137\n",
              "3  0.000195  0.000077  0.000165  ...  0.000101  0.000328  0.000163\n",
              "4  0.002020  0.000483  0.000410  ...  0.000556  0.000235  0.000182\n",
              "\n",
              "[5 rows x 14 columns]"
            ]
          },
          "metadata": {
            "tags": []
          },
          "execution_count": 26
        }
      ]
    },
    {
      "cell_type": "code",
      "metadata": {
        "id": "g9GPNIe6xf61",
        "colab_type": "code",
        "colab": {}
      },
      "source": [
        "y_sub=testdata.max(1)"
      ],
      "execution_count": 33,
      "outputs": []
    },
    {
      "cell_type": "markdown",
      "metadata": {
        "id": "veLLaKIbVJC4",
        "colab_type": "text"
      },
      "source": [
        "# minmax"
      ]
    },
    {
      "cell_type": "code",
      "metadata": {
        "id": "bEHk3keqsTLf",
        "colab_type": "code",
        "colab": {
          "base_uri": "https://localhost:8080/",
          "height": 195
        },
        "outputId": "561a286d-769c-478f-fe61-6cf247fb93f1"
      },
      "source": [
        "sub1 = pd.read_csv('sub_384b5_2_2019.csv')\n",
        "sub2 = pd.read_csv('sub_pp11.csv')\n",
        "testdata = pd.concat([sub1.target,sub2.target],axis=1)\n",
        "testdata.head()"
      ],
      "execution_count": 6,
      "outputs": [
        {
          "output_type": "execute_result",
          "data": {
            "text/html": [
              "<div>\n",
              "<style scoped>\n",
              "    .dataframe tbody tr th:only-of-type {\n",
              "        vertical-align: middle;\n",
              "    }\n",
              "\n",
              "    .dataframe tbody tr th {\n",
              "        vertical-align: top;\n",
              "    }\n",
              "\n",
              "    .dataframe thead th {\n",
              "        text-align: right;\n",
              "    }\n",
              "</style>\n",
              "<table border=\"1\" class=\"dataframe\">\n",
              "  <thead>\n",
              "    <tr style=\"text-align: right;\">\n",
              "      <th></th>\n",
              "      <th>target</th>\n",
              "      <th>target</th>\n",
              "    </tr>\n",
              "  </thead>\n",
              "  <tbody>\n",
              "    <tr>\n",
              "      <th>0</th>\n",
              "      <td>0.027971</td>\n",
              "      <td>0.035147</td>\n",
              "    </tr>\n",
              "    <tr>\n",
              "      <th>1</th>\n",
              "      <td>0.031696</td>\n",
              "      <td>0.028525</td>\n",
              "    </tr>\n",
              "    <tr>\n",
              "      <th>2</th>\n",
              "      <td>0.021296</td>\n",
              "      <td>0.032657</td>\n",
              "    </tr>\n",
              "    <tr>\n",
              "      <th>3</th>\n",
              "      <td>0.037582</td>\n",
              "      <td>0.033638</td>\n",
              "    </tr>\n",
              "    <tr>\n",
              "      <th>4</th>\n",
              "      <td>0.019006</td>\n",
              "      <td>0.030019</td>\n",
              "    </tr>\n",
              "  </tbody>\n",
              "</table>\n",
              "</div>"
            ],
            "text/plain": [
              "     target    target\n",
              "0  0.027971  0.035147\n",
              "1  0.031696  0.028525\n",
              "2  0.021296  0.032657\n",
              "3  0.037582  0.033638\n",
              "4  0.019006  0.030019"
            ]
          },
          "metadata": {
            "tags": []
          },
          "execution_count": 6
        }
      ]
    },
    {
      "cell_type": "code",
      "metadata": {
        "id": "2p64jiqJbrXJ",
        "colab_type": "code",
        "colab": {
          "base_uri": "https://localhost:8080/",
          "height": 34
        },
        "outputId": "6032f71e-49a2-4996-b973-56227fe1d3fc"
      },
      "source": [
        "testdata.iloc[:,0].max()"
      ],
      "execution_count": 7,
      "outputs": [
        {
          "output_type": "execute_result",
          "data": {
            "text/plain": [
              "0.9807027578353882"
            ]
          },
          "metadata": {
            "tags": []
          },
          "execution_count": 7
        }
      ]
    },
    {
      "cell_type": "code",
      "metadata": {
        "id": "jua6onIMVL7x",
        "colab_type": "code",
        "colab": {
          "base_uri": "https://localhost:8080/",
          "height": 50
        },
        "outputId": "1883e996-b2e9-4b6c-9f60-b6436fc9b522"
      },
      "source": [
        "lk=0.11\n",
        "hk=0.88\n",
        "numl=0\n",
        "numh=0\n",
        "y_sub=np.zeros(len(testdata))\n",
        "for i in range(len(testdata)):\n",
        "  #sum=0\n",
        "  countlk=0\n",
        "  counthk=0\n",
        "  for j in range(2):\n",
        "    if testdata.iloc[i,j]<lk:\n",
        "      countlk+=1\n",
        "    if testdata.iloc[i,j]>hk:\n",
        "      counthk+=1\n",
        "    #sum+=testdata.iloc[i,j]\n",
        "  if countlk==2:\n",
        "    y_sub[i]=testdata.iloc[i,:].min()\n",
        "    numl+=1\n",
        "  elif counthk==2:\n",
        "    y_sub[i]=testdata.iloc[i,:].max()\n",
        "    numh+=1\n",
        "  else:\n",
        "    # med=testdata.iloc[i,:].median()\n",
        "    # y_sub[i]=(testdata.iloc[i,0]+med)/2\n",
        "    # y_sub[i]=testdata.iloc[i,:].median()\n",
        "    y_sub[i]=testdata.iloc[i,1]\n",
        "y_sub\n",
        "print(numl)\n",
        "print(numh)"
      ],
      "execution_count": 8,
      "outputs": [
        {
          "output_type": "stream",
          "text": [
            "8411\n",
            "0\n"
          ],
          "name": "stdout"
        }
      ]
    },
    {
      "cell_type": "code",
      "metadata": {
        "colab_type": "code",
        "id": "CWgjbMbodBeK",
        "colab": {
          "base_uri": "https://localhost:8080/",
          "height": 195
        },
        "outputId": "410061b1-092c-426d-9d3e-d680e82a1023"
      },
      "source": [
        "subcsv = pd.read_csv('sample_submission.csv')\n",
        "subcsv.target = y_sub\n",
        "subcsv.head()"
      ],
      "execution_count": 57,
      "outputs": [
        {
          "output_type": "execute_result",
          "data": {
            "text/html": [
              "<div>\n",
              "<style scoped>\n",
              "    .dataframe tbody tr th:only-of-type {\n",
              "        vertical-align: middle;\n",
              "    }\n",
              "\n",
              "    .dataframe tbody tr th {\n",
              "        vertical-align: top;\n",
              "    }\n",
              "\n",
              "    .dataframe thead th {\n",
              "        text-align: right;\n",
              "    }\n",
              "</style>\n",
              "<table border=\"1\" class=\"dataframe\">\n",
              "  <thead>\n",
              "    <tr style=\"text-align: right;\">\n",
              "      <th></th>\n",
              "      <th>image_name</th>\n",
              "      <th>target</th>\n",
              "    </tr>\n",
              "  </thead>\n",
              "  <tbody>\n",
              "    <tr>\n",
              "      <th>0</th>\n",
              "      <td>ISIC_0052060</td>\n",
              "      <td>0.036817</td>\n",
              "    </tr>\n",
              "    <tr>\n",
              "      <th>1</th>\n",
              "      <td>ISIC_0052349</td>\n",
              "      <td>0.030272</td>\n",
              "    </tr>\n",
              "    <tr>\n",
              "      <th>2</th>\n",
              "      <td>ISIC_0058510</td>\n",
              "      <td>0.042521</td>\n",
              "    </tr>\n",
              "    <tr>\n",
              "      <th>3</th>\n",
              "      <td>ISIC_0073313</td>\n",
              "      <td>0.042328</td>\n",
              "    </tr>\n",
              "    <tr>\n",
              "      <th>4</th>\n",
              "      <td>ISIC_0073502</td>\n",
              "      <td>0.000044</td>\n",
              "    </tr>\n",
              "  </tbody>\n",
              "</table>\n",
              "</div>"
            ],
            "text/plain": [
              "     image_name    target\n",
              "0  ISIC_0052060  0.036817\n",
              "1  ISIC_0052349  0.030272\n",
              "2  ISIC_0058510  0.042521\n",
              "3  ISIC_0073313  0.042328\n",
              "4  ISIC_0073502  0.000044"
            ]
          },
          "metadata": {
            "tags": []
          },
          "execution_count": 57
        }
      ]
    },
    {
      "cell_type": "code",
      "metadata": {
        "colab_type": "code",
        "id": "bc2saJTqdBeb",
        "colab": {}
      },
      "source": [
        "subcsv.to_csv('idk4.csv',index=False)"
      ],
      "execution_count": 58,
      "outputs": []
    },
    {
      "cell_type": "markdown",
      "metadata": {
        "id": "XJcK3RfLXr87",
        "colab_type": "text"
      },
      "source": [
        "# adv stack"
      ]
    },
    {
      "cell_type": "code",
      "metadata": {
        "id": "OJqQ7zNUYhd5",
        "colab_type": "code",
        "colab": {}
      },
      "source": [
        "\n",
        "# make a prediction with a stacking ensemble\n",
        "from sklearn.datasets import make_classification\n",
        "from sklearn.ensemble import StackingClassifier\n",
        "from sklearn.linear_model import LogisticRegression\n",
        "from sklearn.neighbors import KNeighborsClassifier\n",
        "from sklearn.tree import DecisionTreeClassifier\n",
        "from sklearn.svm import SVC\n",
        "from sklearn.naive_bayes import GaussianNB\n",
        "# define dataset\n",
        "#X, y = make_classification(n_samples=1000, n_features=20, n_informative=15, n_redundant=5, random_state=47)\n",
        "# define the base models\n",
        "level0 = list()\n",
        "level0.append(('lr', LogisticRegression()))\n",
        "level0.append(('knn', KNeighborsClassifier()))\n",
        "level0.append(('cart', DecisionTreeClassifier()))\n",
        "level0.append(('svm', SVC()))\n",
        "level0.append(('bayes', GaussianNB()))\n",
        "# define meta learner model\n",
        "level1 = LogisticRegression()\n",
        "# define the stacking ensemble\n",
        "\n",
        "skf = KFold(n_splits=5)\n",
        "kfpred = np.zeros(len(testdata))\n",
        "for fold, (idxT, idxV) in enumerate(skf.split(np.arange(15)), 1):\n",
        "    train_idx = tc.loc[tc['tfrecord'].isin(idxT)].index\n",
        "    val_idx = tc.loc[tc['tfrecord'].isin(idxV)].index\n",
        "\n",
        "    model = StackingClassifier(estimators=level0, final_estimator=level1, cv=5)\n",
        "    model.fit(traindata.iloc[train_idx], tc.target.iloc[train_idx])\n",
        "    # make a prediction for one example\n",
        "    #data = [[2.47475454,0.40165523,1.68081787,2.88940715,0.91704519,-3.07950644,4.39961206,0.72464273,-4.86563631,-6.06338084,-1.22209949,-0.4699618,1.01222748,-0.6899355,-0.53000581,6.86966784,-3.27211075,-6.59044146,-2.21290585,-3.139579]]\n",
        "    kfpred += model.predict_proba(testdata)[:,-1] \n",
        "kfpred/=skf.n_splits"
      ],
      "execution_count": null,
      "outputs": []
    },
    {
      "cell_type": "code",
      "metadata": {
        "id": "mzMasRq-cntu",
        "colab_type": "code",
        "colab": {
          "base_uri": "https://localhost:8080/",
          "height": 50
        },
        "outputId": "35a0ee2c-e2fa-4db2-e0cd-6c86ca05ff20"
      },
      "source": [
        "y_sub = kfpred\n",
        "y_sub"
      ],
      "execution_count": null,
      "outputs": [
        {
          "output_type": "execute_result",
          "data": {
            "text/plain": [
              "array([0.00169132, 0.00169325, 0.00169315, ..., 0.00169411, 0.00169411,\n",
              "       0.00169411])"
            ]
          },
          "metadata": {
            "tags": []
          },
          "execution_count": 43
        }
      ]
    },
    {
      "cell_type": "code",
      "metadata": {
        "colab_type": "code",
        "id": "znrOg1geZLCh",
        "colab": {
          "base_uri": "https://localhost:8080/",
          "height": 34
        },
        "outputId": "aa567790-8020-488e-c9ff-c93701f17fb8"
      },
      "source": [
        "from sklearn.metrics import accuracy_score, roc_auc_score\n",
        "roc_auc_score(tc.target,yhat)"
      ],
      "execution_count": null,
      "outputs": [
        {
          "output_type": "execute_result",
          "data": {
            "text/plain": [
              "0.9965814199647578"
            ]
          },
          "metadata": {
            "tags": []
          },
          "execution_count": 32
        }
      ]
    },
    {
      "cell_type": "code",
      "metadata": {
        "colab_type": "code",
        "id": "w9KMXhDCZLCl",
        "colab": {}
      },
      "source": [
        "y_sub = model.predict_proba(testdata)[:,-1] "
      ],
      "execution_count": null,
      "outputs": []
    },
    {
      "cell_type": "code",
      "metadata": {
        "colab_type": "code",
        "id": "netponLdZLCm",
        "colab": {
          "base_uri": "https://localhost:8080/",
          "height": 195
        },
        "outputId": "800fd870-d243-400b-c467-af479a5e6fa9"
      },
      "source": [
        "subcsv = pd.read_csv('sample_submission.csv')\n",
        "subcsv.target = y_sub\n",
        "subcsv.head()"
      ],
      "execution_count": null,
      "outputs": [
        {
          "output_type": "execute_result",
          "data": {
            "text/html": [
              "<div>\n",
              "<style scoped>\n",
              "    .dataframe tbody tr th:only-of-type {\n",
              "        vertical-align: middle;\n",
              "    }\n",
              "\n",
              "    .dataframe tbody tr th {\n",
              "        vertical-align: top;\n",
              "    }\n",
              "\n",
              "    .dataframe thead th {\n",
              "        text-align: right;\n",
              "    }\n",
              "</style>\n",
              "<table border=\"1\" class=\"dataframe\">\n",
              "  <thead>\n",
              "    <tr style=\"text-align: right;\">\n",
              "      <th></th>\n",
              "      <th>image_name</th>\n",
              "      <th>target</th>\n",
              "    </tr>\n",
              "  </thead>\n",
              "  <tbody>\n",
              "    <tr>\n",
              "      <th>0</th>\n",
              "      <td>ISIC_0052060</td>\n",
              "      <td>0.001691</td>\n",
              "    </tr>\n",
              "    <tr>\n",
              "      <th>1</th>\n",
              "      <td>ISIC_0052349</td>\n",
              "      <td>0.001693</td>\n",
              "    </tr>\n",
              "    <tr>\n",
              "      <th>2</th>\n",
              "      <td>ISIC_0058510</td>\n",
              "      <td>0.001693</td>\n",
              "    </tr>\n",
              "    <tr>\n",
              "      <th>3</th>\n",
              "      <td>ISIC_0073313</td>\n",
              "      <td>0.001693</td>\n",
              "    </tr>\n",
              "    <tr>\n",
              "      <th>4</th>\n",
              "      <td>ISIC_0073502</td>\n",
              "      <td>0.001691</td>\n",
              "    </tr>\n",
              "  </tbody>\n",
              "</table>\n",
              "</div>"
            ],
            "text/plain": [
              "     image_name    target\n",
              "0  ISIC_0052060  0.001691\n",
              "1  ISIC_0052349  0.001693\n",
              "2  ISIC_0058510  0.001693\n",
              "3  ISIC_0073313  0.001693\n",
              "4  ISIC_0073502  0.001691"
            ]
          },
          "metadata": {
            "tags": []
          },
          "execution_count": 44
        }
      ]
    },
    {
      "cell_type": "code",
      "metadata": {
        "colab_type": "code",
        "id": "3VQYIq2rZLCo",
        "colab": {}
      },
      "source": [
        "subcsv.to_csv('stack5.csv',index=False)"
      ],
      "execution_count": null,
      "outputs": []
    },
    {
      "cell_type": "markdown",
      "metadata": {
        "id": "XRjqc8k_Xndt",
        "colab_type": "text"
      },
      "source": [
        "# simple stack"
      ]
    },
    {
      "cell_type": "code",
      "metadata": {
        "id": "ZLypRUlC_hOs",
        "colab_type": "code",
        "colab": {
          "base_uri": "https://localhost:8080/",
          "height": 50
        },
        "outputId": "f346f0e9-5423-4d74-fb6b-a3aca5d8383b"
      },
      "source": [
        "oof1 = pd.read_csv('/content/nevus1_oof.csv')\n",
        "oof2 = pd.read_csv('/content/512b5_3_oof.csv')\n",
        "print(len(oof1))\n",
        "oof1.drop(index=np.array(np.where(oof1.tfrecord==-1))[0],axis=1,inplace=True)\n",
        "oof1 = oof1.set_index('image_name')\n",
        "oof1 = oof1.reindex(index=oof2['image_name'])\n",
        "oof1 = oof1.reset_index()\n",
        "\n",
        "sub1 = pd.read_csv('/content/sub_nevus1.csv')\n",
        "sub2 = pd.read_csv('/content/sub_512b5_3.csv')\n",
        "print(len(oof1),len(oof2),len(sub1),len(sub2))"
      ],
      "execution_count": 2,
      "outputs": [
        {
          "output_type": "stream",
          "text": [
            "33126\n",
            "32692 32692 10982 10982\n"
          ],
          "name": "stdout"
        }
      ]
    },
    {
      "cell_type": "code",
      "metadata": {
        "id": "7KuB1xMU_p_o",
        "colab_type": "code",
        "colab": {
          "base_uri": "https://localhost:8080/",
          "height": 0
        },
        "outputId": "af552fc4-bb2a-429c-f4c2-6c3fa837deff"
      },
      "source": [
        "traindata = pd.concat([oof1.target,oof2.pred],axis=1)\n",
        "testdata = pd.concat([sub1.target,sub2.target],axis=1)\n",
        "traindata.head()\n",
        "#testdata.head()"
      ],
      "execution_count": 5,
      "outputs": [
        {
          "output_type": "execute_result",
          "data": {
            "text/html": [
              "<div>\n",
              "<style scoped>\n",
              "    .dataframe tbody tr th:only-of-type {\n",
              "        vertical-align: middle;\n",
              "    }\n",
              "\n",
              "    .dataframe tbody tr th {\n",
              "        vertical-align: top;\n",
              "    }\n",
              "\n",
              "    .dataframe thead th {\n",
              "        text-align: right;\n",
              "    }\n",
              "</style>\n",
              "<table border=\"1\" class=\"dataframe\">\n",
              "  <thead>\n",
              "    <tr style=\"text-align: right;\">\n",
              "      <th></th>\n",
              "      <th>target</th>\n",
              "      <th>pred</th>\n",
              "    </tr>\n",
              "  </thead>\n",
              "  <tbody>\n",
              "    <tr>\n",
              "      <th>0</th>\n",
              "      <td>0.115986</td>\n",
              "      <td>0.024090</td>\n",
              "    </tr>\n",
              "    <tr>\n",
              "      <th>1</th>\n",
              "      <td>0.689340</td>\n",
              "      <td>0.054574</td>\n",
              "    </tr>\n",
              "    <tr>\n",
              "      <th>2</th>\n",
              "      <td>0.332936</td>\n",
              "      <td>0.033335</td>\n",
              "    </tr>\n",
              "    <tr>\n",
              "      <th>3</th>\n",
              "      <td>0.721017</td>\n",
              "      <td>0.025938</td>\n",
              "    </tr>\n",
              "    <tr>\n",
              "      <th>4</th>\n",
              "      <td>0.820608</td>\n",
              "      <td>0.030433</td>\n",
              "    </tr>\n",
              "  </tbody>\n",
              "</table>\n",
              "</div>"
            ],
            "text/plain": [
              "     target      pred\n",
              "0  0.115986  0.024090\n",
              "1  0.689340  0.054574\n",
              "2  0.332936  0.033335\n",
              "3  0.721017  0.025938\n",
              "4  0.820608  0.030433"
            ]
          },
          "metadata": {
            "tags": []
          },
          "execution_count": 5
        }
      ]
    },
    {
      "cell_type": "code",
      "metadata": {
        "id": "MggaT4f8SWLy",
        "colab_type": "code",
        "colab": {
          "base_uri": "https://localhost:8080/",
          "height": 101
        },
        "outputId": "89dd8a8b-95dc-4dad-c5ea-752e658ebd00"
      },
      "source": [
        "regr = LogisticRegression() \n",
        "  \n",
        "regr.fit(traindata,tc.target ) "
      ],
      "execution_count": 7,
      "outputs": [
        {
          "output_type": "execute_result",
          "data": {
            "text/plain": [
              "LogisticRegression(C=1.0, class_weight=None, dual=False, fit_intercept=True,\n",
              "                   intercept_scaling=1, l1_ratio=None, max_iter=100,\n",
              "                   multi_class='auto', n_jobs=None, penalty='l2',\n",
              "                   random_state=None, solver='lbfgs', tol=0.0001, verbose=0,\n",
              "                   warm_start=False)"
            ]
          },
          "metadata": {
            "tags": []
          },
          "execution_count": 7
        }
      ]
    },
    {
      "cell_type": "code",
      "metadata": {
        "id": "L27opr9YSeuh",
        "colab_type": "code",
        "colab": {}
      },
      "source": [
        "y_pred = regr.predict_proba(traindata)[:,-1] "
      ],
      "execution_count": 8,
      "outputs": []
    },
    {
      "cell_type": "code",
      "metadata": {
        "id": "hWfPkXVgUjFp",
        "colab_type": "code",
        "colab": {
          "base_uri": "https://localhost:8080/",
          "height": 50
        },
        "outputId": "ea56bcd8-9358-4208-bd48-909113355962"
      },
      "source": [
        "y_pred"
      ],
      "execution_count": 9,
      "outputs": [
        {
          "output_type": "execute_result",
          "data": {
            "text/plain": [
              "array([0.01935088, 0.0132505 , 0.01649588, ..., 0.01011237, 0.00800473,\n",
              "       0.0125813 ])"
            ]
          },
          "metadata": {
            "tags": []
          },
          "execution_count": 9
        }
      ]
    },
    {
      "cell_type": "code",
      "metadata": {
        "id": "7LAaE6QiUkWj",
        "colab_type": "code",
        "colab": {
          "base_uri": "https://localhost:8080/",
          "height": 34
        },
        "outputId": "3c94fc5b-6788-4e75-da62-ba6cd7adef3c"
      },
      "source": [
        "from sklearn.metrics import accuracy_score, roc_auc_score\n",
        "roc_auc_score(tc.target,y_pred)"
      ],
      "execution_count": 10,
      "outputs": [
        {
          "output_type": "execute_result",
          "data": {
            "text/plain": [
              "0.8685788233167748"
            ]
          },
          "metadata": {
            "tags": []
          },
          "execution_count": 10
        }
      ]
    },
    {
      "cell_type": "code",
      "metadata": {
        "id": "a6A-b9xaU2EH",
        "colab_type": "code",
        "colab": {}
      },
      "source": [
        "y_sub = regr.predict_proba(testdata)[:,-1] "
      ],
      "execution_count": 11,
      "outputs": []
    },
    {
      "cell_type": "code",
      "metadata": {
        "id": "bAAtmltQWHge",
        "colab_type": "code",
        "colab": {
          "base_uri": "https://localhost:8080/",
          "height": 0
        },
        "outputId": "8c5ace4d-9e83-44d2-f726-d6a69fcaafd0"
      },
      "source": [
        "subcsv = pd.read_csv('sample_submission.csv')\n",
        "subcsv.target = y_sub\n",
        "subcsv.head()"
      ],
      "execution_count": 45,
      "outputs": [
        {
          "output_type": "execute_result",
          "data": {
            "text/html": [
              "<div>\n",
              "<style scoped>\n",
              "    .dataframe tbody tr th:only-of-type {\n",
              "        vertical-align: middle;\n",
              "    }\n",
              "\n",
              "    .dataframe tbody tr th {\n",
              "        vertical-align: top;\n",
              "    }\n",
              "\n",
              "    .dataframe thead th {\n",
              "        text-align: right;\n",
              "    }\n",
              "</style>\n",
              "<table border=\"1\" class=\"dataframe\">\n",
              "  <thead>\n",
              "    <tr style=\"text-align: right;\">\n",
              "      <th></th>\n",
              "      <th>image_name</th>\n",
              "      <th>target</th>\n",
              "    </tr>\n",
              "  </thead>\n",
              "  <tbody>\n",
              "    <tr>\n",
              "      <th>0</th>\n",
              "      <td>ISIC_0052060</td>\n",
              "      <td>0.019110</td>\n",
              "    </tr>\n",
              "    <tr>\n",
              "      <th>1</th>\n",
              "      <td>ISIC_0052349</td>\n",
              "      <td>0.015293</td>\n",
              "    </tr>\n",
              "    <tr>\n",
              "      <th>2</th>\n",
              "      <td>ISIC_0058510</td>\n",
              "      <td>0.034460</td>\n",
              "    </tr>\n",
              "    <tr>\n",
              "      <th>3</th>\n",
              "      <td>ISIC_0073313</td>\n",
              "      <td>0.022315</td>\n",
              "    </tr>\n",
              "    <tr>\n",
              "      <th>4</th>\n",
              "      <td>ISIC_0073502</td>\n",
              "      <td>0.014125</td>\n",
              "    </tr>\n",
              "  </tbody>\n",
              "</table>\n",
              "</div>"
            ],
            "text/plain": [
              "     image_name    target\n",
              "0  ISIC_0052060  0.019110\n",
              "1  ISIC_0052349  0.015293\n",
              "2  ISIC_0058510  0.034460\n",
              "3  ISIC_0073313  0.022315\n",
              "4  ISIC_0073502  0.014125"
            ]
          },
          "metadata": {
            "tags": []
          },
          "execution_count": 45
        }
      ]
    },
    {
      "cell_type": "code",
      "metadata": {
        "id": "T66bC297WlJS",
        "colab_type": "code",
        "colab": {}
      },
      "source": [
        "subcsv.to_csv('idk1.csv',index=False)"
      ],
      "execution_count": 46,
      "outputs": []
    },
    {
      "cell_type": "markdown",
      "metadata": {
        "id": "uV9KEbOvXgxU",
        "colab_type": "text"
      },
      "source": [
        "# arb"
      ]
    },
    {
      "cell_type": "code",
      "metadata": {
        "id": "dUB23fsxXRjC",
        "colab_type": "code",
        "colab": {
          "base_uri": "https://localhost:8080/",
          "height": 34
        },
        "outputId": "f9383770-fdd6-44ff-8694-5dd08e273875"
      },
      "source": [
        "oofnew = pd.read_csv('/content/oof_maybe_0.925or0.937.csv')\n",
        "len(oofnew)"
      ],
      "execution_count": null,
      "outputs": [
        {
          "output_type": "execute_result",
          "data": {
            "text/plain": [
              "33126"
            ]
          },
          "metadata": {
            "tags": []
          },
          "execution_count": 61
        }
      ]
    },
    {
      "cell_type": "code",
      "metadata": {
        "id": "Ql5BEzYCYO9n",
        "colab_type": "code",
        "colab": {
          "base_uri": "https://localhost:8080/",
          "height": 34
        },
        "outputId": "14a50fe9-c900-427c-e70a-61cae11ea6ad"
      },
      "source": [
        "subnew = pd.read_csv('/content/sub_maybe_0.925or0.937.csv')\n",
        "len(subnew)"
      ],
      "execution_count": null,
      "outputs": [
        {
          "output_type": "execute_result",
          "data": {
            "text/plain": [
              "10982"
            ]
          },
          "metadata": {
            "tags": []
          },
          "execution_count": 62
        }
      ]
    },
    {
      "cell_type": "code",
      "metadata": {
        "id": "zNBj6zREYcy8",
        "colab_type": "code",
        "colab": {
          "base_uri": "https://localhost:8080/",
          "height": 195
        },
        "outputId": "f189985f-e9a3-4096-c164-1cdd309bf94d"
      },
      "source": [
        "oofnew.head()"
      ],
      "execution_count": null,
      "outputs": [
        {
          "output_type": "execute_result",
          "data": {
            "text/html": [
              "<div>\n",
              "<style scoped>\n",
              "    .dataframe tbody tr th:only-of-type {\n",
              "        vertical-align: middle;\n",
              "    }\n",
              "\n",
              "    .dataframe tbody tr th {\n",
              "        vertical-align: top;\n",
              "    }\n",
              "\n",
              "    .dataframe thead th {\n",
              "        text-align: right;\n",
              "    }\n",
              "</style>\n",
              "<table border=\"1\" class=\"dataframe\">\n",
              "  <thead>\n",
              "    <tr style=\"text-align: right;\">\n",
              "      <th></th>\n",
              "      <th>image_name</th>\n",
              "      <th>target</th>\n",
              "      <th>predictions</th>\n",
              "    </tr>\n",
              "  </thead>\n",
              "  <tbody>\n",
              "    <tr>\n",
              "      <th>0</th>\n",
              "      <td>ISIC_0388873</td>\n",
              "      <td>0.0</td>\n",
              "      <td>0.089990</td>\n",
              "    </tr>\n",
              "    <tr>\n",
              "      <th>1</th>\n",
              "      <td>ISIC_1428473</td>\n",
              "      <td>0.0</td>\n",
              "      <td>0.290914</td>\n",
              "    </tr>\n",
              "    <tr>\n",
              "      <th>2</th>\n",
              "      <td>ISIC_5203791</td>\n",
              "      <td>0.0</td>\n",
              "      <td>0.169361</td>\n",
              "    </tr>\n",
              "    <tr>\n",
              "      <th>3</th>\n",
              "      <td>ISIC_7380175</td>\n",
              "      <td>0.0</td>\n",
              "      <td>0.149862</td>\n",
              "    </tr>\n",
              "    <tr>\n",
              "      <th>4</th>\n",
              "      <td>ISIC_7906462</td>\n",
              "      <td>0.0</td>\n",
              "      <td>0.186506</td>\n",
              "    </tr>\n",
              "  </tbody>\n",
              "</table>\n",
              "</div>"
            ],
            "text/plain": [
              "     image_name  target  predictions\n",
              "0  ISIC_0388873     0.0     0.089990\n",
              "1  ISIC_1428473     0.0     0.290914\n",
              "2  ISIC_5203791     0.0     0.169361\n",
              "3  ISIC_7380175     0.0     0.149862\n",
              "4  ISIC_7906462     0.0     0.186506"
            ]
          },
          "metadata": {
            "tags": []
          },
          "execution_count": 63
        }
      ]
    },
    {
      "cell_type": "code",
      "metadata": {
        "id": "xdzMdW0AYlZn",
        "colab_type": "code",
        "colab": {}
      },
      "source": [
        ""
      ],
      "execution_count": null,
      "outputs": []
    },
    {
      "cell_type": "markdown",
      "metadata": {
        "id": "z4aW76nUI6jc",
        "colab_type": "text"
      },
      "source": [
        "# mean"
      ]
    },
    {
      "cell_type": "code",
      "metadata": {
        "id": "elu2cwGBGvSc",
        "colab_type": "code",
        "colab": {}
      },
      "source": [
        "sub1 = pd.read_csv('sub_b5new_2_.csv')\n",
        "sub2 = pd.read_csv('sub_b0new_1up_.csv')\n",
        "sub3 = pd.read_csv('sub_b1new_1up_.csv')\n",
        "sub4 = pd.read_csv('sub_b4new_1up_.csv')\n",
        "sub5 = pd.read_csv('sub_b3new_1upup_.csv')\n",
        "sub6 = pd.read_csv('sub_b2new_1_.csv')\n",
        "sub7 = pd.read_csv('sub_b6new_1up_.csv')\n",
        "subcsv = pd.read_csv('sample_submission.csv')"
      ],
      "execution_count": null,
      "outputs": []
    },
    {
      "cell_type": "code",
      "metadata": {
        "id": "TOzX3JCfHQE1",
        "colab_type": "code",
        "colab": {
          "base_uri": "https://localhost:8080/",
          "height": 195
        },
        "outputId": "31b2723d-40f2-4774-d6fc-bb7416809052"
      },
      "source": [
        "subcsv.target = sub1.target + sub2.target +sub3.target+sub4.target+sub5.target+sub6.target\n",
        "subcsv.target /= 6\n",
        "subcsv.head()"
      ],
      "execution_count": null,
      "outputs": [
        {
          "output_type": "execute_result",
          "data": {
            "text/html": [
              "<div>\n",
              "<style scoped>\n",
              "    .dataframe tbody tr th:only-of-type {\n",
              "        vertical-align: middle;\n",
              "    }\n",
              "\n",
              "    .dataframe tbody tr th {\n",
              "        vertical-align: top;\n",
              "    }\n",
              "\n",
              "    .dataframe thead th {\n",
              "        text-align: right;\n",
              "    }\n",
              "</style>\n",
              "<table border=\"1\" class=\"dataframe\">\n",
              "  <thead>\n",
              "    <tr style=\"text-align: right;\">\n",
              "      <th></th>\n",
              "      <th>image_name</th>\n",
              "      <th>target</th>\n",
              "    </tr>\n",
              "  </thead>\n",
              "  <tbody>\n",
              "    <tr>\n",
              "      <th>0</th>\n",
              "      <td>ISIC_0052060</td>\n",
              "      <td>0.000309</td>\n",
              "    </tr>\n",
              "    <tr>\n",
              "      <th>1</th>\n",
              "      <td>ISIC_0052349</td>\n",
              "      <td>0.000159</td>\n",
              "    </tr>\n",
              "    <tr>\n",
              "      <th>2</th>\n",
              "      <td>ISIC_0058510</td>\n",
              "      <td>0.000186</td>\n",
              "    </tr>\n",
              "    <tr>\n",
              "      <th>3</th>\n",
              "      <td>ISIC_0073313</td>\n",
              "      <td>0.000192</td>\n",
              "    </tr>\n",
              "    <tr>\n",
              "      <th>4</th>\n",
              "      <td>ISIC_0073502</td>\n",
              "      <td>0.000948</td>\n",
              "    </tr>\n",
              "  </tbody>\n",
              "</table>\n",
              "</div>"
            ],
            "text/plain": [
              "     image_name    target\n",
              "0  ISIC_0052060  0.000309\n",
              "1  ISIC_0052349  0.000159\n",
              "2  ISIC_0058510  0.000186\n",
              "3  ISIC_0073313  0.000192\n",
              "4  ISIC_0073502  0.000948"
            ]
          },
          "metadata": {
            "tags": []
          },
          "execution_count": 8
        }
      ]
    },
    {
      "cell_type": "code",
      "metadata": {
        "id": "29RHJI0mHka3",
        "colab_type": "code",
        "colab": {}
      },
      "source": [
        "subcsv.to_csv('mean_ensemble_b0-b5_256.csv',index=False)"
      ],
      "execution_count": null,
      "outputs": []
    },
    {
      "cell_type": "code",
      "metadata": {
        "id": "xlWf1gS0InXR",
        "colab_type": "code",
        "colab": {}
      },
      "source": [
        ""
      ],
      "execution_count": null,
      "outputs": []
    },
    {
      "cell_type": "markdown",
      "metadata": {
        "id": "2PhUFSwCcKnF",
        "colab_type": "text"
      },
      "source": [
        "# normal ratio sum"
      ]
    },
    {
      "cell_type": "code",
      "metadata": {
        "id": "5_PmfTjITlsp",
        "colab_type": "code",
        "colab": {
          "base_uri": "https://localhost:8080/",
          "height": 0
        },
        "outputId": "6f396048-19f1-41e5-ee18-b5967c2a52a5"
      },
      "source": [
        "csv1=pd.read_csv('/content/meta_simplified_img_data.csv')\n",
        "csv1"
      ],
      "execution_count": 2,
      "outputs": [
        {
          "output_type": "execute_result",
          "data": {
            "text/html": [
              "<div>\n",
              "<style scoped>\n",
              "    .dataframe tbody tr th:only-of-type {\n",
              "        vertical-align: middle;\n",
              "    }\n",
              "\n",
              "    .dataframe tbody tr th {\n",
              "        vertical-align: top;\n",
              "    }\n",
              "\n",
              "    .dataframe thead th {\n",
              "        text-align: right;\n",
              "    }\n",
              "</style>\n",
              "<table border=\"1\" class=\"dataframe\">\n",
              "  <thead>\n",
              "    <tr style=\"text-align: right;\">\n",
              "      <th></th>\n",
              "      <th>image_name</th>\n",
              "      <th>target</th>\n",
              "    </tr>\n",
              "  </thead>\n",
              "  <tbody>\n",
              "    <tr>\n",
              "      <th>0</th>\n",
              "      <td>ISIC_0052060</td>\n",
              "      <td>0.029198</td>\n",
              "    </tr>\n",
              "    <tr>\n",
              "      <th>1</th>\n",
              "      <td>ISIC_0052349</td>\n",
              "      <td>0.012573</td>\n",
              "    </tr>\n",
              "    <tr>\n",
              "      <th>2</th>\n",
              "      <td>ISIC_0058510</td>\n",
              "      <td>0.014792</td>\n",
              "    </tr>\n",
              "    <tr>\n",
              "      <th>3</th>\n",
              "      <td>ISIC_0073313</td>\n",
              "      <td>0.011552</td>\n",
              "    </tr>\n",
              "    <tr>\n",
              "      <th>4</th>\n",
              "      <td>ISIC_0073502</td>\n",
              "      <td>0.011552</td>\n",
              "    </tr>\n",
              "    <tr>\n",
              "      <th>...</th>\n",
              "      <td>...</td>\n",
              "      <td>...</td>\n",
              "    </tr>\n",
              "    <tr>\n",
              "      <th>10977</th>\n",
              "      <td>ISIC_9992485</td>\n",
              "      <td>0.011552</td>\n",
              "    </tr>\n",
              "    <tr>\n",
              "      <th>10978</th>\n",
              "      <td>ISIC_9996992</td>\n",
              "      <td>0.011962</td>\n",
              "    </tr>\n",
              "    <tr>\n",
              "      <th>10979</th>\n",
              "      <td>ISIC_9997917</td>\n",
              "      <td>0.016985</td>\n",
              "    </tr>\n",
              "    <tr>\n",
              "      <th>10980</th>\n",
              "      <td>ISIC_9998234</td>\n",
              "      <td>0.029198</td>\n",
              "    </tr>\n",
              "    <tr>\n",
              "      <th>10981</th>\n",
              "      <td>ISIC_9999302</td>\n",
              "      <td>0.011552</td>\n",
              "    </tr>\n",
              "  </tbody>\n",
              "</table>\n",
              "<p>10982 rows × 2 columns</p>\n",
              "</div>"
            ],
            "text/plain": [
              "         image_name    target\n",
              "0      ISIC_0052060  0.029198\n",
              "1      ISIC_0052349  0.012573\n",
              "2      ISIC_0058510  0.014792\n",
              "3      ISIC_0073313  0.011552\n",
              "4      ISIC_0073502  0.011552\n",
              "...             ...       ...\n",
              "10977  ISIC_9992485  0.011552\n",
              "10978  ISIC_9996992  0.011962\n",
              "10979  ISIC_9997917  0.016985\n",
              "10980  ISIC_9998234  0.029198\n",
              "10981  ISIC_9999302  0.011552\n",
              "\n",
              "[10982 rows x 2 columns]"
            ]
          },
          "metadata": {
            "tags": []
          },
          "execution_count": 2
        }
      ]
    },
    {
      "cell_type": "code",
      "metadata": {
        "id": "Z7xCCAFXULm7",
        "colab_type": "code",
        "colab": {
          "base_uri": "https://localhost:8080/",
          "height": 0
        },
        "outputId": "465ca401-c638-4228-f8b4-fc72f9a710e8"
      },
      "source": [
        "csv2=pd.read_csv('/content/sub_512b5_3.csv')\n",
        "csv2"
      ],
      "execution_count": 3,
      "outputs": [
        {
          "output_type": "execute_result",
          "data": {
            "text/html": [
              "<div>\n",
              "<style scoped>\n",
              "    .dataframe tbody tr th:only-of-type {\n",
              "        vertical-align: middle;\n",
              "    }\n",
              "\n",
              "    .dataframe tbody tr th {\n",
              "        vertical-align: top;\n",
              "    }\n",
              "\n",
              "    .dataframe thead th {\n",
              "        text-align: right;\n",
              "    }\n",
              "</style>\n",
              "<table border=\"1\" class=\"dataframe\">\n",
              "  <thead>\n",
              "    <tr style=\"text-align: right;\">\n",
              "      <th></th>\n",
              "      <th>image_name</th>\n",
              "      <th>target</th>\n",
              "    </tr>\n",
              "  </thead>\n",
              "  <tbody>\n",
              "    <tr>\n",
              "      <th>0</th>\n",
              "      <td>ISIC_0052060</td>\n",
              "      <td>0.027062</td>\n",
              "    </tr>\n",
              "    <tr>\n",
              "      <th>1</th>\n",
              "      <td>ISIC_0052349</td>\n",
              "      <td>0.026805</td>\n",
              "    </tr>\n",
              "    <tr>\n",
              "      <th>2</th>\n",
              "      <td>ISIC_0058510</td>\n",
              "      <td>0.026396</td>\n",
              "    </tr>\n",
              "    <tr>\n",
              "      <th>3</th>\n",
              "      <td>ISIC_0073313</td>\n",
              "      <td>0.025922</td>\n",
              "    </tr>\n",
              "    <tr>\n",
              "      <th>4</th>\n",
              "      <td>ISIC_0073502</td>\n",
              "      <td>0.025279</td>\n",
              "    </tr>\n",
              "    <tr>\n",
              "      <th>...</th>\n",
              "      <td>...</td>\n",
              "      <td>...</td>\n",
              "    </tr>\n",
              "    <tr>\n",
              "      <th>10977</th>\n",
              "      <td>ISIC_9992485</td>\n",
              "      <td>0.026942</td>\n",
              "    </tr>\n",
              "    <tr>\n",
              "      <th>10978</th>\n",
              "      <td>ISIC_9996992</td>\n",
              "      <td>0.042657</td>\n",
              "    </tr>\n",
              "    <tr>\n",
              "      <th>10979</th>\n",
              "      <td>ISIC_9997917</td>\n",
              "      <td>0.051825</td>\n",
              "    </tr>\n",
              "    <tr>\n",
              "      <th>10980</th>\n",
              "      <td>ISIC_9998234</td>\n",
              "      <td>0.029713</td>\n",
              "    </tr>\n",
              "    <tr>\n",
              "      <th>10981</th>\n",
              "      <td>ISIC_9999302</td>\n",
              "      <td>0.044619</td>\n",
              "    </tr>\n",
              "  </tbody>\n",
              "</table>\n",
              "<p>10982 rows × 2 columns</p>\n",
              "</div>"
            ],
            "text/plain": [
              "         image_name    target\n",
              "0      ISIC_0052060  0.027062\n",
              "1      ISIC_0052349  0.026805\n",
              "2      ISIC_0058510  0.026396\n",
              "3      ISIC_0073313  0.025922\n",
              "4      ISIC_0073502  0.025279\n",
              "...             ...       ...\n",
              "10977  ISIC_9992485  0.026942\n",
              "10978  ISIC_9996992  0.042657\n",
              "10979  ISIC_9997917  0.051825\n",
              "10980  ISIC_9998234  0.029713\n",
              "10981  ISIC_9999302  0.044619\n",
              "\n",
              "[10982 rows x 2 columns]"
            ]
          },
          "metadata": {
            "tags": []
          },
          "execution_count": 3
        }
      ]
    },
    {
      "cell_type": "code",
      "metadata": {
        "id": "Zg4yvARAUS5V",
        "colab_type": "code",
        "colab": {
          "base_uri": "https://localhost:8080/",
          "height": 0
        },
        "outputId": "6b661429-0670-4e92-c47f-20ac1958a78b"
      },
      "source": [
        "subcsv=pd.read_csv('/content/sample_submission.csv')\n",
        "subcsv['target']=csv1['target']*0.15+csv2['target']*0.85\n",
        "subcsv.head()"
      ],
      "execution_count": 5,
      "outputs": [
        {
          "output_type": "execute_result",
          "data": {
            "text/html": [
              "<div>\n",
              "<style scoped>\n",
              "    .dataframe tbody tr th:only-of-type {\n",
              "        vertical-align: middle;\n",
              "    }\n",
              "\n",
              "    .dataframe tbody tr th {\n",
              "        vertical-align: top;\n",
              "    }\n",
              "\n",
              "    .dataframe thead th {\n",
              "        text-align: right;\n",
              "    }\n",
              "</style>\n",
              "<table border=\"1\" class=\"dataframe\">\n",
              "  <thead>\n",
              "    <tr style=\"text-align: right;\">\n",
              "      <th></th>\n",
              "      <th>image_name</th>\n",
              "      <th>target</th>\n",
              "    </tr>\n",
              "  </thead>\n",
              "  <tbody>\n",
              "    <tr>\n",
              "      <th>0</th>\n",
              "      <td>ISIC_0052060</td>\n",
              "      <td>0.027383</td>\n",
              "    </tr>\n",
              "    <tr>\n",
              "      <th>1</th>\n",
              "      <td>ISIC_0052349</td>\n",
              "      <td>0.024670</td>\n",
              "    </tr>\n",
              "    <tr>\n",
              "      <th>2</th>\n",
              "      <td>ISIC_0058510</td>\n",
              "      <td>0.024656</td>\n",
              "    </tr>\n",
              "    <tr>\n",
              "      <th>3</th>\n",
              "      <td>ISIC_0073313</td>\n",
              "      <td>0.023767</td>\n",
              "    </tr>\n",
              "    <tr>\n",
              "      <th>4</th>\n",
              "      <td>ISIC_0073502</td>\n",
              "      <td>0.023220</td>\n",
              "    </tr>\n",
              "  </tbody>\n",
              "</table>\n",
              "</div>"
            ],
            "text/plain": [
              "     image_name    target\n",
              "0  ISIC_0052060  0.027383\n",
              "1  ISIC_0052349  0.024670\n",
              "2  ISIC_0058510  0.024656\n",
              "3  ISIC_0073313  0.023767\n",
              "4  ISIC_0073502  0.023220"
            ]
          },
          "metadata": {
            "tags": []
          },
          "execution_count": 5
        }
      ]
    },
    {
      "cell_type": "code",
      "metadata": {
        "id": "4DzHmHVzU1wW",
        "colab_type": "code",
        "colab": {}
      },
      "source": [
        "subcsv.to_csv('9557plusmeta.csv',index=False)"
      ],
      "execution_count": 7,
      "outputs": []
    },
    {
      "cell_type": "code",
      "metadata": {
        "id": "DuJyLijNVLxT",
        "colab_type": "code",
        "colab": {}
      },
      "source": [
        ""
      ],
      "execution_count": null,
      "outputs": []
    },
    {
      "cell_type": "markdown",
      "metadata": {
        "id": "0II4-g8E6NKm",
        "colab_type": "text"
      },
      "source": [
        "# NewTEST"
      ]
    },
    {
      "cell_type": "code",
      "metadata": {
        "id": "PZDBTzZX4sa7",
        "colab_type": "code",
        "colab": {
          "base_uri": "https://localhost:8080/",
          "height": 422
        },
        "outputId": "9177e3c8-059b-4f05-c513-f06ab88e8f1a"
      },
      "source": [
        "import os\n",
        "input_folder='/content/drive/My Drive/pp9664files'\n",
        "all_files = os.listdir(input_folder)\n",
        "#Read and concatenate submissions\n",
        "outs = [pd.read_csv(os.path.join(input_folder, f), index_col=0) for f in all_files]\n",
        "concat_sub = pd.concat(outs, axis=1)\n",
        "cols = list(map(lambda x: \"target\" + str(x), range(len(concat_sub.columns))))\n",
        "concat_sub.columns = cols\n",
        "concat_sub.reset_index(inplace=True)\n",
        "concat_sub"
      ],
      "execution_count": 50,
      "outputs": [
        {
          "output_type": "execute_result",
          "data": {
            "text/html": [
              "<div>\n",
              "<style scoped>\n",
              "    .dataframe tbody tr th:only-of-type {\n",
              "        vertical-align: middle;\n",
              "    }\n",
              "\n",
              "    .dataframe tbody tr th {\n",
              "        vertical-align: top;\n",
              "    }\n",
              "\n",
              "    .dataframe thead th {\n",
              "        text-align: right;\n",
              "    }\n",
              "</style>\n",
              "<table border=\"1\" class=\"dataframe\">\n",
              "  <thead>\n",
              "    <tr style=\"text-align: right;\">\n",
              "      <th></th>\n",
              "      <th>image_name</th>\n",
              "      <th>target0</th>\n",
              "      <th>target1</th>\n",
              "      <th>target2</th>\n",
              "      <th>target3</th>\n",
              "      <th>target4</th>\n",
              "      <th>target5</th>\n",
              "      <th>target6</th>\n",
              "      <th>target7</th>\n",
              "      <th>target8</th>\n",
              "      <th>target9</th>\n",
              "      <th>target10</th>\n",
              "      <th>target11</th>\n",
              "      <th>target12</th>\n",
              "      <th>target13</th>\n",
              "      <th>target14</th>\n",
              "      <th>target15</th>\n",
              "      <th>target16</th>\n",
              "      <th>target17</th>\n",
              "      <th>target18</th>\n",
              "      <th>target19</th>\n",
              "      <th>target20</th>\n",
              "      <th>target21</th>\n",
              "      <th>target22</th>\n",
              "      <th>target23</th>\n",
              "      <th>target24</th>\n",
              "      <th>target25</th>\n",
              "      <th>target26</th>\n",
              "      <th>target27</th>\n",
              "      <th>target28</th>\n",
              "      <th>target29</th>\n",
              "      <th>target30</th>\n",
              "      <th>target31</th>\n",
              "      <th>target32</th>\n",
              "      <th>target33</th>\n",
              "      <th>target34</th>\n",
              "      <th>target35</th>\n",
              "      <th>target36</th>\n",
              "      <th>target37</th>\n",
              "      <th>target38</th>\n",
              "      <th>target39</th>\n",
              "      <th>target40</th>\n",
              "      <th>target41</th>\n",
              "      <th>target42</th>\n",
              "    </tr>\n",
              "  </thead>\n",
              "  <tbody>\n",
              "    <tr>\n",
              "      <th>0</th>\n",
              "      <td>ISIC_0052060</td>\n",
              "      <td>0.027383</td>\n",
              "      <td>0.032299</td>\n",
              "      <td>0.027438</td>\n",
              "      <td>0.000309</td>\n",
              "      <td>0.000108</td>\n",
              "      <td>0.000108</td>\n",
              "      <td>0.000296</td>\n",
              "      <td>0.000425</td>\n",
              "      <td>0.001062</td>\n",
              "      <td>0.000166</td>\n",
              "      <td>0.027971</td>\n",
              "      <td>0.008034</td>\n",
              "      <td>0.008002</td>\n",
              "      <td>0.003161</td>\n",
              "      <td>0.008648</td>\n",
              "      <td>0.024640</td>\n",
              "      <td>0.029265</td>\n",
              "      <td>0.028950</td>\n",
              "      <td>0.028757</td>\n",
              "      <td>0.027959</td>\n",
              "      <td>0.465825</td>\n",
              "      <td>0.035619</td>\n",
              "      <td>0.000021</td>\n",
              "      <td>0.035168</td>\n",
              "      <td>0.031921</td>\n",
              "      <td>0.012047</td>\n",
              "      <td>0.022257</td>\n",
              "      <td>0.000358</td>\n",
              "      <td>0.000597</td>\n",
              "      <td>0.000491</td>\n",
              "      <td>0.000108</td>\n",
              "      <td>0.000166</td>\n",
              "      <td>0.000846</td>\n",
              "      <td>0.034647</td>\n",
              "      <td>0.000153</td>\n",
              "      <td>0.022257</td>\n",
              "      <td>0.026612</td>\n",
              "      <td>0.028119</td>\n",
              "      <td>0.046493</td>\n",
              "      <td>0.036817</td>\n",
              "      <td>0.036479</td>\n",
              "      <td>0.033187</td>\n",
              "      <td>0.001561</td>\n",
              "    </tr>\n",
              "    <tr>\n",
              "      <th>1</th>\n",
              "      <td>ISIC_0052349</td>\n",
              "      <td>0.024670</td>\n",
              "      <td>0.028524</td>\n",
              "      <td>0.026074</td>\n",
              "      <td>0.000159</td>\n",
              "      <td>0.000020</td>\n",
              "      <td>0.000020</td>\n",
              "      <td>0.000020</td>\n",
              "      <td>0.000020</td>\n",
              "      <td>0.000045</td>\n",
              "      <td>0.000020</td>\n",
              "      <td>0.028525</td>\n",
              "      <td>0.007987</td>\n",
              "      <td>0.007918</td>\n",
              "      <td>0.003162</td>\n",
              "      <td>0.008760</td>\n",
              "      <td>0.020853</td>\n",
              "      <td>0.027172</td>\n",
              "      <td>0.025464</td>\n",
              "      <td>0.025109</td>\n",
              "      <td>0.025673</td>\n",
              "      <td>0.193438</td>\n",
              "      <td>0.030290</td>\n",
              "      <td>0.000013</td>\n",
              "      <td>0.026585</td>\n",
              "      <td>0.025793</td>\n",
              "      <td>0.009849</td>\n",
              "      <td>0.016384</td>\n",
              "      <td>0.000141</td>\n",
              "      <td>0.000417</td>\n",
              "      <td>0.000231</td>\n",
              "      <td>0.000020</td>\n",
              "      <td>0.000068</td>\n",
              "      <td>0.000427</td>\n",
              "      <td>0.029409</td>\n",
              "      <td>0.000118</td>\n",
              "      <td>0.016384</td>\n",
              "      <td>0.023487</td>\n",
              "      <td>0.023260</td>\n",
              "      <td>0.039026</td>\n",
              "      <td>0.030272</td>\n",
              "      <td>0.023535</td>\n",
              "      <td>0.028081</td>\n",
              "      <td>0.000427</td>\n",
              "    </tr>\n",
              "    <tr>\n",
              "      <th>2</th>\n",
              "      <td>ISIC_0058510</td>\n",
              "      <td>0.024656</td>\n",
              "      <td>0.027188</td>\n",
              "      <td>0.025925</td>\n",
              "      <td>0.000186</td>\n",
              "      <td>0.000072</td>\n",
              "      <td>0.000072</td>\n",
              "      <td>0.000072</td>\n",
              "      <td>0.000072</td>\n",
              "      <td>0.000098</td>\n",
              "      <td>0.000072</td>\n",
              "      <td>0.021296</td>\n",
              "      <td>0.007957</td>\n",
              "      <td>0.007847</td>\n",
              "      <td>0.003165</td>\n",
              "      <td>0.008500</td>\n",
              "      <td>0.027445</td>\n",
              "      <td>0.026199</td>\n",
              "      <td>0.023276</td>\n",
              "      <td>0.029317</td>\n",
              "      <td>0.021880</td>\n",
              "      <td>0.001455</td>\n",
              "      <td>0.020130</td>\n",
              "      <td>0.000281</td>\n",
              "      <td>0.028502</td>\n",
              "      <td>0.027990</td>\n",
              "      <td>0.012835</td>\n",
              "      <td>0.023354</td>\n",
              "      <td>0.000205</td>\n",
              "      <td>0.000396</td>\n",
              "      <td>0.000161</td>\n",
              "      <td>0.000133</td>\n",
              "      <td>0.000124</td>\n",
              "      <td>0.000575</td>\n",
              "      <td>0.023827</td>\n",
              "      <td>0.002049</td>\n",
              "      <td>0.023354</td>\n",
              "      <td>0.023767</td>\n",
              "      <td>0.023901</td>\n",
              "      <td>0.041181</td>\n",
              "      <td>0.042521</td>\n",
              "      <td>0.031711</td>\n",
              "      <td>0.026570</td>\n",
              "      <td>0.000575</td>\n",
              "    </tr>\n",
              "    <tr>\n",
              "      <th>3</th>\n",
              "      <td>ISIC_0073313</td>\n",
              "      <td>0.023767</td>\n",
              "      <td>0.027435</td>\n",
              "      <td>0.026442</td>\n",
              "      <td>0.000192</td>\n",
              "      <td>0.000053</td>\n",
              "      <td>0.000053</td>\n",
              "      <td>0.000053</td>\n",
              "      <td>0.000053</td>\n",
              "      <td>0.000101</td>\n",
              "      <td>0.000053</td>\n",
              "      <td>0.033638</td>\n",
              "      <td>0.007963</td>\n",
              "      <td>0.007866</td>\n",
              "      <td>0.003166</td>\n",
              "      <td>0.009011</td>\n",
              "      <td>0.022915</td>\n",
              "      <td>0.026452</td>\n",
              "      <td>0.025389</td>\n",
              "      <td>0.029134</td>\n",
              "      <td>0.023915</td>\n",
              "      <td>0.000135</td>\n",
              "      <td>0.021280</td>\n",
              "      <td>0.000015</td>\n",
              "      <td>0.030733</td>\n",
              "      <td>0.030547</td>\n",
              "      <td>0.010287</td>\n",
              "      <td>0.017497</td>\n",
              "      <td>0.000165</td>\n",
              "      <td>0.000466</td>\n",
              "      <td>0.000196</td>\n",
              "      <td>0.000053</td>\n",
              "      <td>0.000195</td>\n",
              "      <td>0.000598</td>\n",
              "      <td>0.024287</td>\n",
              "      <td>0.000135</td>\n",
              "      <td>0.017497</td>\n",
              "      <td>0.024287</td>\n",
              "      <td>0.022620</td>\n",
              "      <td>0.044654</td>\n",
              "      <td>0.042328</td>\n",
              "      <td>0.026989</td>\n",
              "      <td>0.029217</td>\n",
              "      <td>0.000598</td>\n",
              "    </tr>\n",
              "    <tr>\n",
              "      <th>4</th>\n",
              "      <td>ISIC_0073502</td>\n",
              "      <td>0.023220</td>\n",
              "      <td>0.031915</td>\n",
              "      <td>0.033966</td>\n",
              "      <td>0.000948</td>\n",
              "      <td>0.000886</td>\n",
              "      <td>0.000527</td>\n",
              "      <td>0.001274</td>\n",
              "      <td>0.000527</td>\n",
              "      <td>0.000201</td>\n",
              "      <td>0.002020</td>\n",
              "      <td>0.019006</td>\n",
              "      <td>0.008137</td>\n",
              "      <td>0.008166</td>\n",
              "      <td>0.003206</td>\n",
              "      <td>0.008412</td>\n",
              "      <td>0.025112</td>\n",
              "      <td>0.029969</td>\n",
              "      <td>0.027554</td>\n",
              "      <td>0.030768</td>\n",
              "      <td>0.031367</td>\n",
              "      <td>0.572050</td>\n",
              "      <td>0.161430</td>\n",
              "      <td>0.000044</td>\n",
              "      <td>0.032410</td>\n",
              "      <td>0.027750</td>\n",
              "      <td>0.011848</td>\n",
              "      <td>0.018092</td>\n",
              "      <td>0.000410</td>\n",
              "      <td>0.002193</td>\n",
              "      <td>0.000365</td>\n",
              "      <td>0.000216</td>\n",
              "      <td>0.002020</td>\n",
              "      <td>0.000845</td>\n",
              "      <td>0.031621</td>\n",
              "      <td>0.000448</td>\n",
              "      <td>0.018092</td>\n",
              "      <td>0.027824</td>\n",
              "      <td>0.029094</td>\n",
              "      <td>0.042267</td>\n",
              "      <td>0.028967</td>\n",
              "      <td>0.024709</td>\n",
              "      <td>0.029364</td>\n",
              "      <td>0.002264</td>\n",
              "    </tr>\n",
              "    <tr>\n",
              "      <th>...</th>\n",
              "      <td>...</td>\n",
              "      <td>...</td>\n",
              "      <td>...</td>\n",
              "      <td>...</td>\n",
              "      <td>...</td>\n",
              "      <td>...</td>\n",
              "      <td>...</td>\n",
              "      <td>...</td>\n",
              "      <td>...</td>\n",
              "      <td>...</td>\n",
              "      <td>...</td>\n",
              "      <td>...</td>\n",
              "      <td>...</td>\n",
              "      <td>...</td>\n",
              "      <td>...</td>\n",
              "      <td>...</td>\n",
              "      <td>...</td>\n",
              "      <td>...</td>\n",
              "      <td>...</td>\n",
              "      <td>...</td>\n",
              "      <td>...</td>\n",
              "      <td>...</td>\n",
              "      <td>...</td>\n",
              "      <td>...</td>\n",
              "      <td>...</td>\n",
              "      <td>...</td>\n",
              "      <td>...</td>\n",
              "      <td>...</td>\n",
              "      <td>...</td>\n",
              "      <td>...</td>\n",
              "      <td>...</td>\n",
              "      <td>...</td>\n",
              "      <td>...</td>\n",
              "      <td>...</td>\n",
              "      <td>...</td>\n",
              "      <td>...</td>\n",
              "      <td>...</td>\n",
              "      <td>...</td>\n",
              "      <td>...</td>\n",
              "      <td>...</td>\n",
              "      <td>...</td>\n",
              "      <td>...</td>\n",
              "      <td>...</td>\n",
              "      <td>...</td>\n",
              "    </tr>\n",
              "    <tr>\n",
              "      <th>10977</th>\n",
              "      <td>ISIC_9992485</td>\n",
              "      <td>0.024633</td>\n",
              "      <td>0.025877</td>\n",
              "      <td>0.024525</td>\n",
              "      <td>0.000000</td>\n",
              "      <td>0.000000</td>\n",
              "      <td>0.000000</td>\n",
              "      <td>0.000000</td>\n",
              "      <td>0.000000</td>\n",
              "      <td>0.000000</td>\n",
              "      <td>0.000000</td>\n",
              "      <td>0.031486</td>\n",
              "      <td>0.007934</td>\n",
              "      <td>0.007915</td>\n",
              "      <td>0.003153</td>\n",
              "      <td>0.017164</td>\n",
              "      <td>0.025706</td>\n",
              "      <td>0.022390</td>\n",
              "      <td>0.025248</td>\n",
              "      <td>0.027149</td>\n",
              "      <td>0.021925</td>\n",
              "      <td>0.261863</td>\n",
              "      <td>0.100003</td>\n",
              "      <td>0.000196</td>\n",
              "      <td>0.030324</td>\n",
              "      <td>0.028329</td>\n",
              "      <td>0.008851</td>\n",
              "      <td>0.012813</td>\n",
              "      <td>0.000000</td>\n",
              "      <td>0.000000</td>\n",
              "      <td>0.000000</td>\n",
              "      <td>0.000000</td>\n",
              "      <td>0.000000</td>\n",
              "      <td>0.000000</td>\n",
              "      <td>0.025057</td>\n",
              "      <td>0.001379</td>\n",
              "      <td>0.012813</td>\n",
              "      <td>0.019685</td>\n",
              "      <td>0.024797</td>\n",
              "      <td>0.042940</td>\n",
              "      <td>0.031113</td>\n",
              "      <td>0.021089</td>\n",
              "      <td>0.030234</td>\n",
              "      <td>0.000509</td>\n",
              "    </tr>\n",
              "    <tr>\n",
              "      <th>10978</th>\n",
              "      <td>ISIC_9996992</td>\n",
              "      <td>0.038053</td>\n",
              "      <td>0.047246</td>\n",
              "      <td>0.036023</td>\n",
              "      <td>0.000000</td>\n",
              "      <td>0.000000</td>\n",
              "      <td>0.000000</td>\n",
              "      <td>0.000000</td>\n",
              "      <td>0.000000</td>\n",
              "      <td>0.000000</td>\n",
              "      <td>0.000000</td>\n",
              "      <td>0.037212</td>\n",
              "      <td>0.007934</td>\n",
              "      <td>0.008000</td>\n",
              "      <td>0.003153</td>\n",
              "      <td>0.010107</td>\n",
              "      <td>0.034853</td>\n",
              "      <td>0.057408</td>\n",
              "      <td>0.041893</td>\n",
              "      <td>0.052913</td>\n",
              "      <td>0.044362</td>\n",
              "      <td>0.820396</td>\n",
              "      <td>0.192456</td>\n",
              "      <td>0.005125</td>\n",
              "      <td>0.033815</td>\n",
              "      <td>0.026742</td>\n",
              "      <td>0.027116</td>\n",
              "      <td>0.020065</td>\n",
              "      <td>0.000000</td>\n",
              "      <td>0.000000</td>\n",
              "      <td>0.000000</td>\n",
              "      <td>0.000000</td>\n",
              "      <td>0.000000</td>\n",
              "      <td>0.000000</td>\n",
              "      <td>0.057846</td>\n",
              "      <td>0.041296</td>\n",
              "      <td>0.020065</td>\n",
              "      <td>0.035447</td>\n",
              "      <td>0.045770</td>\n",
              "      <td>0.042913</td>\n",
              "      <td>0.035227</td>\n",
              "      <td>0.037000</td>\n",
              "      <td>0.060442</td>\n",
              "      <td>0.001670</td>\n",
              "    </tr>\n",
              "    <tr>\n",
              "      <th>10979</th>\n",
              "      <td>ISIC_9997917</td>\n",
              "      <td>0.046599</td>\n",
              "      <td>0.054479</td>\n",
              "      <td>0.079424</td>\n",
              "      <td>0.000000</td>\n",
              "      <td>0.000000</td>\n",
              "      <td>0.000000</td>\n",
              "      <td>0.000000</td>\n",
              "      <td>0.000000</td>\n",
              "      <td>0.000000</td>\n",
              "      <td>0.000000</td>\n",
              "      <td>0.150505</td>\n",
              "      <td>0.007934</td>\n",
              "      <td>0.008154</td>\n",
              "      <td>0.003153</td>\n",
              "      <td>0.010534</td>\n",
              "      <td>0.035833</td>\n",
              "      <td>0.066204</td>\n",
              "      <td>0.064525</td>\n",
              "      <td>0.056116</td>\n",
              "      <td>0.071491</td>\n",
              "      <td>0.949183</td>\n",
              "      <td>0.364964</td>\n",
              "      <td>0.026278</td>\n",
              "      <td>0.046218</td>\n",
              "      <td>0.033062</td>\n",
              "      <td>0.054770</td>\n",
              "      <td>0.040276</td>\n",
              "      <td>0.000000</td>\n",
              "      <td>0.000000</td>\n",
              "      <td>0.000000</td>\n",
              "      <td>0.000000</td>\n",
              "      <td>0.000000</td>\n",
              "      <td>0.000000</td>\n",
              "      <td>0.068751</td>\n",
              "      <td>0.216661</td>\n",
              "      <td>0.062400</td>\n",
              "      <td>0.049058</td>\n",
              "      <td>0.044585</td>\n",
              "      <td>0.031787</td>\n",
              "      <td>0.136553</td>\n",
              "      <td>0.085236</td>\n",
              "      <td>0.046936</td>\n",
              "      <td>0.000630</td>\n",
              "    </tr>\n",
              "    <tr>\n",
              "      <th>10980</th>\n",
              "      <td>ISIC_9998234</td>\n",
              "      <td>0.029636</td>\n",
              "      <td>0.033376</td>\n",
              "      <td>0.028275</td>\n",
              "      <td>0.000000</td>\n",
              "      <td>0.000000</td>\n",
              "      <td>0.000000</td>\n",
              "      <td>0.000000</td>\n",
              "      <td>0.000000</td>\n",
              "      <td>0.000000</td>\n",
              "      <td>0.000000</td>\n",
              "      <td>0.030675</td>\n",
              "      <td>0.007934</td>\n",
              "      <td>0.007888</td>\n",
              "      <td>0.003153</td>\n",
              "      <td>0.009293</td>\n",
              "      <td>0.025762</td>\n",
              "      <td>0.029445</td>\n",
              "      <td>0.030599</td>\n",
              "      <td>0.029206</td>\n",
              "      <td>0.028777</td>\n",
              "      <td>0.516243</td>\n",
              "      <td>0.065362</td>\n",
              "      <td>0.000121</td>\n",
              "      <td>0.031104</td>\n",
              "      <td>0.027635</td>\n",
              "      <td>0.013760</td>\n",
              "      <td>0.026082</td>\n",
              "      <td>0.000000</td>\n",
              "      <td>0.000000</td>\n",
              "      <td>0.000000</td>\n",
              "      <td>0.000000</td>\n",
              "      <td>0.000000</td>\n",
              "      <td>0.000000</td>\n",
              "      <td>0.038088</td>\n",
              "      <td>0.000999</td>\n",
              "      <td>0.026082</td>\n",
              "      <td>0.029427</td>\n",
              "      <td>0.028967</td>\n",
              "      <td>0.042555</td>\n",
              "      <td>0.029952</td>\n",
              "      <td>0.034621</td>\n",
              "      <td>0.029588</td>\n",
              "      <td>0.000000</td>\n",
              "    </tr>\n",
              "    <tr>\n",
              "      <th>10981</th>\n",
              "      <td>ISIC_9999302</td>\n",
              "      <td>0.039659</td>\n",
              "      <td>0.042029</td>\n",
              "      <td>0.065810</td>\n",
              "      <td>0.000000</td>\n",
              "      <td>0.000000</td>\n",
              "      <td>0.000000</td>\n",
              "      <td>0.000000</td>\n",
              "      <td>0.000000</td>\n",
              "      <td>0.000000</td>\n",
              "      <td>0.000000</td>\n",
              "      <td>0.128527</td>\n",
              "      <td>0.007934</td>\n",
              "      <td>0.008030</td>\n",
              "      <td>0.003153</td>\n",
              "      <td>0.012227</td>\n",
              "      <td>0.050655</td>\n",
              "      <td>0.095062</td>\n",
              "      <td>0.125127</td>\n",
              "      <td>0.079956</td>\n",
              "      <td>0.096951</td>\n",
              "      <td>0.786032</td>\n",
              "      <td>0.230828</td>\n",
              "      <td>0.016900</td>\n",
              "      <td>0.067789</td>\n",
              "      <td>0.055457</td>\n",
              "      <td>0.056559</td>\n",
              "      <td>0.047329</td>\n",
              "      <td>0.000000</td>\n",
              "      <td>0.000000</td>\n",
              "      <td>0.000000</td>\n",
              "      <td>0.000000</td>\n",
              "      <td>0.000000</td>\n",
              "      <td>0.000000</td>\n",
              "      <td>0.076779</td>\n",
              "      <td>0.128529</td>\n",
              "      <td>0.080993</td>\n",
              "      <td>0.047329</td>\n",
              "      <td>0.040121</td>\n",
              "      <td>0.054079</td>\n",
              "      <td>0.118677</td>\n",
              "      <td>0.050570</td>\n",
              "      <td>0.082443</td>\n",
              "      <td>0.000000</td>\n",
              "    </tr>\n",
              "  </tbody>\n",
              "</table>\n",
              "<p>10982 rows × 44 columns</p>\n",
              "</div>"
            ],
            "text/plain": [
              "         image_name   target0   target1  ...  target40  target41  target42\n",
              "0      ISIC_0052060  0.027383  0.032299  ...  0.036479  0.033187  0.001561\n",
              "1      ISIC_0052349  0.024670  0.028524  ...  0.023535  0.028081  0.000427\n",
              "2      ISIC_0058510  0.024656  0.027188  ...  0.031711  0.026570  0.000575\n",
              "3      ISIC_0073313  0.023767  0.027435  ...  0.026989  0.029217  0.000598\n",
              "4      ISIC_0073502  0.023220  0.031915  ...  0.024709  0.029364  0.002264\n",
              "...             ...       ...       ...  ...       ...       ...       ...\n",
              "10977  ISIC_9992485  0.024633  0.025877  ...  0.021089  0.030234  0.000509\n",
              "10978  ISIC_9996992  0.038053  0.047246  ...  0.037000  0.060442  0.001670\n",
              "10979  ISIC_9997917  0.046599  0.054479  ...  0.085236  0.046936  0.000630\n",
              "10980  ISIC_9998234  0.029636  0.033376  ...  0.034621  0.029588  0.000000\n",
              "10981  ISIC_9999302  0.039659  0.042029  ...  0.050570  0.082443  0.000000\n",
              "\n",
              "[10982 rows x 44 columns]"
            ]
          },
          "metadata": {
            "tags": []
          },
          "execution_count": 50
        }
      ]
    },
    {
      "cell_type": "code",
      "metadata": {
        "id": "v9teSZlz6cqn",
        "colab_type": "code",
        "colab": {
          "base_uri": "https://localhost:8080/",
          "height": 34
        },
        "outputId": "e667a0ba-8af0-43fa-9003-ac4956861ba1"
      },
      "source": [
        "nevus=pd.read_csv('sub_nevus1.csv')\n",
        "nevus.target[nevus.target>=0.22].count()"
      ],
      "execution_count": 51,
      "outputs": [
        {
          "output_type": "execute_result",
          "data": {
            "text/plain": [
              "2"
            ]
          },
          "metadata": {
            "tags": []
          },
          "execution_count": 51
        }
      ]
    },
    {
      "cell_type": "code",
      "metadata": {
        "id": "z0LFxOTK7PTa",
        "colab_type": "code",
        "colab": {
          "base_uri": "https://localhost:8080/",
          "height": 218
        },
        "outputId": "6dbd6482-9eeb-4a7f-9c2a-8b87ca5873ef"
      },
      "source": [
        "new=nevus.target/nevus.target.max()\n",
        "new"
      ],
      "execution_count": 52,
      "outputs": [
        {
          "output_type": "execute_result",
          "data": {
            "text/plain": [
              "0        0.480954\n",
              "1        0.494796\n",
              "2        0.189568\n",
              "3        0.472819\n",
              "4        0.512398\n",
              "           ...   \n",
              "10977    0.480615\n",
              "10978    0.430861\n",
              "10979    0.447671\n",
              "10980    0.000000\n",
              "10981    0.000000\n",
              "Name: target, Length: 10982, dtype: float64"
            ]
          },
          "metadata": {
            "tags": []
          },
          "execution_count": 52
        }
      ]
    },
    {
      "cell_type": "code",
      "metadata": {
        "id": "bqM6rysZ8EER",
        "colab_type": "code",
        "colab": {
          "base_uri": "https://localhost:8080/",
          "height": 34
        },
        "outputId": "4bbc12f9-a109-46c3-fd59-f676b0233c7d"
      },
      "source": [
        "new[new>=0.508].count()"
      ],
      "execution_count": 53,
      "outputs": [
        {
          "output_type": "execute_result",
          "data": {
            "text/plain": [
              "1638"
            ]
          },
          "metadata": {
            "tags": []
          },
          "execution_count": 53
        }
      ]
    },
    {
      "cell_type": "code",
      "metadata": {
        "id": "d0Xn6nOhVJOk",
        "colab_type": "code",
        "colab": {
          "base_uri": "https://localhost:8080/",
          "height": 218
        },
        "outputId": "5e0aa4b8-8bd5-45fc-d3f4-474ff3b4aedc"
      },
      "source": [
        "new"
      ],
      "execution_count": 54,
      "outputs": [
        {
          "output_type": "execute_result",
          "data": {
            "text/plain": [
              "0        0.480954\n",
              "1        0.494796\n",
              "2        0.189568\n",
              "3        0.472819\n",
              "4        0.512398\n",
              "           ...   \n",
              "10977    0.480615\n",
              "10978    0.430861\n",
              "10979    0.447671\n",
              "10980    0.000000\n",
              "10981    0.000000\n",
              "Name: target, Length: 10982, dtype: float64"
            ]
          },
          "metadata": {
            "tags": []
          },
          "execution_count": 54
        }
      ]
    },
    {
      "cell_type": "code",
      "metadata": {
        "id": "3M7D414r9yQC",
        "colab_type": "code",
        "colab": {}
      },
      "source": [
        "y_sub=np.zeros(len(new))\n",
        "th=0.508\n",
        "\n",
        "for i in range(len(new)):\n",
        "  if new.iloc[i]>=th:\n",
        "    y_sub[i]=concat_sub.iloc[i,1:].min()\n",
        "  else:\n",
        "    y_sub[i]=concat_sub.iloc[i,-4]"
      ],
      "execution_count": 55,
      "outputs": []
    },
    {
      "cell_type": "code",
      "metadata": {
        "id": "_zMTCgaK-VGs",
        "colab_type": "code",
        "colab": {
          "base_uri": "https://localhost:8080/",
          "height": 50
        },
        "outputId": "6d0f005d-3006-4ed7-b0bc-fa437246da95"
      },
      "source": [
        "y_sub"
      ],
      "execution_count": 56,
      "outputs": [
        {
          "output_type": "execute_result",
          "data": {
            "text/plain": [
              "array([0.03681725, 0.03027158, 0.04252094, ..., 0.13655282, 0.02995213,\n",
              "       0.11867653])"
            ]
          },
          "metadata": {
            "tags": []
          },
          "execution_count": 56
        }
      ]
    },
    {
      "cell_type": "code",
      "metadata": {
        "id": "IUqHxP-U-emR",
        "colab_type": "code",
        "colab": {}
      },
      "source": [
        ""
      ],
      "execution_count": null,
      "outputs": []
    }
  ]
}