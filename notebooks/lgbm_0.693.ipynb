{
  "nbformat": 4,
  "nbformat_minor": 0,
  "metadata": {
    "colab": {
      "name": "lgbm.ipynb",
      "provenance": [],
      "toc_visible": true
    },
    "kernelspec": {
      "name": "python3",
      "display_name": "Python 3"
    }
  },
  "cells": [
    {
      "cell_type": "markdown",
      "metadata": {
        "id": "Y0kLqagDH21u",
        "colab_type": "text"
      },
      "source": [
        "# Importing packages"
      ]
    },
    {
      "cell_type": "code",
      "metadata": {
        "id": "q7WjL1QqDdQV",
        "colab_type": "code",
        "colab": {
          "base_uri": "https://localhost:8080/",
          "height": 235
        },
        "outputId": "30b8eab6-71c5-48e1-cbe4-82140f31070d"
      },
      "source": [
        "!pip install efficientnet_pytorch torchtoolbox\n",
        "import os\n",
        "import seaborn as sns\n",
        "from efficientnet_pytorch import EfficientNet\n",
        "import gc\n",
        "import datetime\n",
        "import warnings\n",
        "import numpy as np\n",
        "import pandas as pd\n",
        "from random import randint\n",
        "import torch\n",
        "import torch.nn as nn\n",
        "import torch.nn.functional as F\n",
        "import torchvision\n",
        "import torchtoolbox.transform as transforms\n",
        "from torch.optim.optimizer import Optimizer\n",
        "from sklearn.model_selection import train_test_split, KFold, StratifiedKFold, GroupKFold\n",
        "from sklearn.utils import shuffle\n",
        "from torch.utils.data import DataLoader, Dataset\n",
        "from sklearn.metrics import accuracy_score, roc_auc_score\n",
        "from matplotlib.pyplot import imread\n",
        "from pylab import *\n",
        "from albumentations import (Cutout,JpegCompression,ShiftScaleRotate,CenterCrop,RandomRotate90,Flip,VerticalFlip,Blur,RandomContrast,HueSaturationValue,RandomGamma,Rotate,RandomBrightness,HorizontalFlip, Normalize, Resize, Compose, GaussNoise,Transpose,RandomBrightnessContrast,RandomCrop)\n",
        "from albumentations.pytorch import ToTensor\n",
        "import torch.optim as optim\n",
        "from torch.optim.lr_scheduler import ReduceLROnPlateau\n",
        "from torchvision import datasets, models, transforms\n",
        "import time\n",
        "import copy\n",
        "# !pip install timm\n",
        "# import timm\n",
        "# import rangelars_lookahead_ralamb\n",
        "# from rangelars_lookahead_ralamb import *\n",
        "import lightgbm as lgb"
      ],
      "execution_count": 27,
      "outputs": [
        {
          "output_type": "stream",
          "text": [
            "Requirement already satisfied: efficientnet_pytorch in /usr/local/lib/python3.6/dist-packages (0.6.3)\n",
            "Requirement already satisfied: torchtoolbox in /usr/local/lib/python3.6/dist-packages (0.1.4.1)\n",
            "Requirement already satisfied: torch in /usr/local/lib/python3.6/dist-packages (from efficientnet_pytorch) (1.5.1+cu101)\n",
            "Requirement already satisfied: six in /usr/local/lib/python3.6/dist-packages (from torchtoolbox) (1.12.0)\n",
            "Requirement already satisfied: numpy in /usr/local/lib/python3.6/dist-packages (from torchtoolbox) (1.18.5)\n",
            "Requirement already satisfied: scikit-learn in /usr/local/lib/python3.6/dist-packages (from torchtoolbox) (0.22.2.post1)\n",
            "Requirement already satisfied: pyarrow in /usr/local/lib/python3.6/dist-packages (from torchtoolbox) (0.14.1)\n",
            "Requirement already satisfied: opencv-python in /usr/local/lib/python3.6/dist-packages (from torchtoolbox) (4.1.2.30)\n",
            "Requirement already satisfied: scipy in /usr/local/lib/python3.6/dist-packages (from torchtoolbox) (1.4.1)\n",
            "Requirement already satisfied: lmdb in /usr/local/lib/python3.6/dist-packages (from torchtoolbox) (0.98)\n",
            "Requirement already satisfied: tqdm in /usr/local/lib/python3.6/dist-packages (from torchtoolbox) (4.41.1)\n",
            "Requirement already satisfied: future in /usr/local/lib/python3.6/dist-packages (from torch->efficientnet_pytorch) (0.16.0)\n",
            "Requirement already satisfied: joblib>=0.11 in /usr/local/lib/python3.6/dist-packages (from scikit-learn->torchtoolbox) (0.16.0)\n"
          ],
          "name": "stdout"
        }
      ]
    },
    {
      "cell_type": "code",
      "metadata": {
        "id": "n5S5K-iv1-Qs",
        "colab_type": "code",
        "colab": {}
      },
      "source": [
        "def seed_all(seed=8):\n",
        "  torch.manual_seed(seed)\n",
        "  torch.cuda.manual_seed(seed)\n",
        "  torch.cuda.manual_seed_all(seed)\n",
        "  os.environ['PYTHONHASHSEED'] = str(seed)\n",
        "  np.random.seed(seed)\n",
        "  #random.seed(seed)\n",
        "  torch.backends.cudnn.enabled=False\n",
        "  torch.backends.cudnn.deterministic=True\n",
        "\n",
        "seed_all(8)"
      ],
      "execution_count": 2,
      "outputs": []
    },
    {
      "cell_type": "code",
      "metadata": {
        "id": "kJ0jLJguJpHv",
        "colab_type": "code",
        "colab": {}
      },
      "source": [
        "warnings.simplefilter('ignore')\n",
        "torch.manual_seed(8)\n",
        "np.random.seed(8)"
      ],
      "execution_count": 3,
      "outputs": []
    },
    {
      "cell_type": "markdown",
      "metadata": {
        "id": "1ocPEo9vWnSc",
        "colab_type": "text"
      },
      "source": [
        "# Csv file"
      ]
    },
    {
      "cell_type": "code",
      "metadata": {
        "id": "74taFO98wHYT",
        "colab_type": "code",
        "colab": {}
      },
      "source": [
        "tc = pd.read_csv('/content/new_train.csv')\n",
        "tt = pd.read_csv('/content/test.csv')\n",
        "# test_csv['target']=\"\"\n",
        "# test_csv.target=0"
      ],
      "execution_count": 13,
      "outputs": []
    },
    {
      "cell_type": "code",
      "metadata": {
        "id": "hF72YOEyw9fl",
        "colab_type": "code",
        "colab": {
          "base_uri": "https://localhost:8080/",
          "height": 84
        },
        "outputId": "3cc0f603-ccd4-4002-f57d-9a529f3a4dac"
      },
      "source": [
        "print('train image count--',len(tc),'\\t test image count--',len(tt))\n",
        "tc.target.value_counts(normalize=True)"
      ],
      "execution_count": 14,
      "outputs": [
        {
          "output_type": "stream",
          "text": [
            "train image count-- 33126 \t test image count-- 10982\n"
          ],
          "name": "stdout"
        },
        {
          "output_type": "execute_result",
          "data": {
            "text/plain": [
              "0    0.98237\n",
              "1    0.01763\n",
              "Name: target, dtype: float64"
            ]
          },
          "metadata": {
            "tags": []
          },
          "execution_count": 14
        }
      ]
    },
    {
      "cell_type": "markdown",
      "metadata": {
        "id": "uNNTdyRV9CVE",
        "colab_type": "text"
      },
      "source": [
        "# Feature Eng\n"
      ]
    },
    {
      "cell_type": "code",
      "metadata": {
        "id": "b48Ghjc69BUA",
        "colab_type": "code",
        "colab": {
          "base_uri": "https://localhost:8080/",
          "height": 249
        },
        "outputId": "e02ab92d-7cfe-4deb-d696-152b58972b51"
      },
      "source": [
        "# tc.age_approx.loc[np.where(tc.age_approx==10.0)]= 0\n",
        "# tc.age_approx.loc[np.where(tc.age_approx==15.0)]= 0\n",
        "# tc.age_approx.loc[np.where(tc.age_approx==20.0)]= 0\n",
        "# tc.age_approx.loc[np.where(tc.age_approx==90.0)]= 0\n",
        "# tc.age_approx.loc[np.where(tc.age_approx==80.0)]= 0\n",
        "# tc.age_approx.loc[np.where(tc.age_approx==85.0)]= 0\n",
        "# tc.age_approx.loc[np.where(tc.age_approx==25.0)]= 1\n",
        "# tc.age_approx.loc[np.where(tc.age_approx==30.0)]= 2\n",
        "# tc.age_approx.loc[np.where(tc.age_approx==35.0)]= 3\n",
        "# tc.age_approx.loc[np.where(tc.age_approx==40.0)]= 4\n",
        "# tc.age_approx.loc[np.where(tc.age_approx==45.0)]= 5\n",
        "# tc.age_approx.loc[np.where(tc.age_approx==50.0)]= 6\n",
        "# tc.age_approx.loc[np.where(tc.age_approx==55.0)]= 7\n",
        "# tc.age_approx.loc[np.where(tc.age_approx==60.0)]= 8\n",
        "# tc.age_approx.loc[np.where(tc.age_approx==65.0)]= 9\n",
        "# tc.age_approx.loc[np.where(tc.age_approx==70.0)]= 10\n",
        "# tc.age_approx.loc[np.where(tc.age_approx==75.0)]= 11\n",
        "tc.drop(index=[9647,22645],inplace=True)\n",
        "\n",
        "tc.drop(columns=['image_name','diagnosis','benign_malignant','width','height','patient_code'], inplace=True)\n",
        "tc.drop(index=tc.loc[tc.anatom_site_general_challenge.isna()].index,inplace=True)\n",
        "tc.drop(index=tc.loc[tc.sex.isna()].index,inplace=True)\n",
        "tc.drop(index=tc.loc[tc.age_approx.isna()].index,inplace=True)\n",
        "#tc.anatom_site_general_challenge.fillna(value='unknown', inplace=True)\n",
        "tc = pd.get_dummies(tc, columns=['sex', 'anatom_site_general_challenge'], drop_first=True)# SPLITTING DATASET INTO TRAINING AND VALIDATION SET\n",
        "print('train image count--',len(tc))\n",
        "tc.head()"
      ],
      "execution_count": 15,
      "outputs": [
        {
          "output_type": "stream",
          "text": [
            "train image count-- 32529\n"
          ],
          "name": "stdout"
        },
        {
          "output_type": "execute_result",
          "data": {
            "text/html": [
              "<div>\n",
              "<style scoped>\n",
              "    .dataframe tbody tr th:only-of-type {\n",
              "        vertical-align: middle;\n",
              "    }\n",
              "\n",
              "    .dataframe tbody tr th {\n",
              "        vertical-align: top;\n",
              "    }\n",
              "\n",
              "    .dataframe thead th {\n",
              "        text-align: right;\n",
              "    }\n",
              "</style>\n",
              "<table border=\"1\" class=\"dataframe\">\n",
              "  <thead>\n",
              "    <tr style=\"text-align: right;\">\n",
              "      <th></th>\n",
              "      <th>patient_id</th>\n",
              "      <th>age_approx</th>\n",
              "      <th>target</th>\n",
              "      <th>tfrecord</th>\n",
              "      <th>sex_male</th>\n",
              "      <th>anatom_site_general_challenge_lower extremity</th>\n",
              "      <th>anatom_site_general_challenge_oral/genital</th>\n",
              "      <th>anatom_site_general_challenge_palms/soles</th>\n",
              "      <th>anatom_site_general_challenge_torso</th>\n",
              "      <th>anatom_site_general_challenge_upper extremity</th>\n",
              "    </tr>\n",
              "  </thead>\n",
              "  <tbody>\n",
              "    <tr>\n",
              "      <th>0</th>\n",
              "      <td>IP_7279968</td>\n",
              "      <td>45.0</td>\n",
              "      <td>0</td>\n",
              "      <td>0</td>\n",
              "      <td>1</td>\n",
              "      <td>0</td>\n",
              "      <td>0</td>\n",
              "      <td>0</td>\n",
              "      <td>0</td>\n",
              "      <td>0</td>\n",
              "    </tr>\n",
              "    <tr>\n",
              "      <th>1</th>\n",
              "      <td>IP_3075186</td>\n",
              "      <td>45.0</td>\n",
              "      <td>0</td>\n",
              "      <td>0</td>\n",
              "      <td>0</td>\n",
              "      <td>0</td>\n",
              "      <td>0</td>\n",
              "      <td>0</td>\n",
              "      <td>0</td>\n",
              "      <td>1</td>\n",
              "    </tr>\n",
              "    <tr>\n",
              "      <th>2</th>\n",
              "      <td>IP_2842074</td>\n",
              "      <td>50.0</td>\n",
              "      <td>0</td>\n",
              "      <td>6</td>\n",
              "      <td>0</td>\n",
              "      <td>1</td>\n",
              "      <td>0</td>\n",
              "      <td>0</td>\n",
              "      <td>0</td>\n",
              "      <td>0</td>\n",
              "    </tr>\n",
              "    <tr>\n",
              "      <th>3</th>\n",
              "      <td>IP_6890425</td>\n",
              "      <td>45.0</td>\n",
              "      <td>0</td>\n",
              "      <td>0</td>\n",
              "      <td>0</td>\n",
              "      <td>0</td>\n",
              "      <td>0</td>\n",
              "      <td>0</td>\n",
              "      <td>0</td>\n",
              "      <td>0</td>\n",
              "    </tr>\n",
              "    <tr>\n",
              "      <th>4</th>\n",
              "      <td>IP_8723313</td>\n",
              "      <td>55.0</td>\n",
              "      <td>0</td>\n",
              "      <td>11</td>\n",
              "      <td>0</td>\n",
              "      <td>0</td>\n",
              "      <td>0</td>\n",
              "      <td>0</td>\n",
              "      <td>0</td>\n",
              "      <td>1</td>\n",
              "    </tr>\n",
              "  </tbody>\n",
              "</table>\n",
              "</div>"
            ],
            "text/plain": [
              "   patient_id  ...  anatom_site_general_challenge_upper extremity\n",
              "0  IP_7279968  ...                                              0\n",
              "1  IP_3075186  ...                                              1\n",
              "2  IP_2842074  ...                                              0\n",
              "3  IP_6890425  ...                                              0\n",
              "4  IP_8723313  ...                                              1\n",
              "\n",
              "[5 rows x 10 columns]"
            ]
          },
          "metadata": {
            "tags": []
          },
          "execution_count": 15
        }
      ]
    },
    {
      "cell_type": "code",
      "metadata": {
        "id": "xl7Pa_USR7ft",
        "colab_type": "code",
        "colab": {
          "base_uri": "https://localhost:8080/",
          "height": 34
        },
        "outputId": "f9e5ebe9-e552-40d5-b7cc-4d66c4b0bd09"
      },
      "source": [
        "len(tc)"
      ],
      "execution_count": 16,
      "outputs": [
        {
          "output_type": "execute_result",
          "data": {
            "text/plain": [
              "32529"
            ]
          },
          "metadata": {
            "tags": []
          },
          "execution_count": 16
        }
      ]
    },
    {
      "cell_type": "code",
      "metadata": {
        "id": "lBbPj-Z-QXO6",
        "colab_type": "code",
        "colab": {
          "base_uri": "https://localhost:8080/",
          "height": 319
        },
        "outputId": "1e1715c4-b894-4d7f-bd7e-4ed3ed79c9de"
      },
      "source": [
        "tc.age_approx.value_counts()"
      ],
      "execution_count": 17,
      "outputs": [
        {
          "output_type": "execute_result",
          "data": {
            "text/plain": [
              "45.0    4286\n",
              "50.0    4224\n",
              "55.0    3785\n",
              "40.0    3531\n",
              "60.0    3201\n",
              "35.0    2802\n",
              "65.0    2500\n",
              "30.0    2318\n",
              "70.0    1949\n",
              "25.0    1523\n",
              "75.0     974\n",
              "20.0     642\n",
              "80.0     416\n",
              "85.0     149\n",
              "15.0     132\n",
              "90.0      80\n",
              "10.0      17\n",
              "Name: age_approx, dtype: int64"
            ]
          },
          "metadata": {
            "tags": []
          },
          "execution_count": 17
        }
      ]
    },
    {
      "cell_type": "code",
      "metadata": {
        "id": "uh75UulE9faS",
        "colab_type": "code",
        "colab": {
          "base_uri": "https://localhost:8080/",
          "height": 232
        },
        "outputId": "0f55e16f-2570-4a17-c5c6-3d979582ef8c"
      },
      "source": [
        "# tt.age_approx.loc[np.where(tt.age_approx==10.0)]= 0\n",
        "# tt.age_approx.loc[np.where(tt.age_approx==15.0)]= 0\n",
        "# tt.age_approx.loc[np.where(tt.age_approx==20.0)]= 0\n",
        "# tt.age_approx.loc[np.where(tt.age_approx==90.0)]= 0\n",
        "# tt.age_approx.loc[np.where(tt.age_approx==80.0)]= 0\n",
        "# tt.age_approx.loc[np.where(tt.age_approx==85.0)]= 0\n",
        "# tt.age_approx.loc[np.where(tt.age_approx==25.0)]= 1\n",
        "# tt.age_approx.loc[np.where(tt.age_approx==30.0)]= 2\n",
        "# tt.age_approx.loc[np.where(tt.age_approx==35.0)]= 3\n",
        "# tt.age_approx.loc[np.where(tt.age_approx==40.0)]= 4\n",
        "# tt.age_approx.loc[np.where(tt.age_approx==45.0)]= 5\n",
        "# tt.age_approx.loc[np.where(tt.age_approx==50.0)]= 6\n",
        "# tt.age_approx.loc[np.where(tt.age_approx==55.0)]= 7\n",
        "# tt.age_approx.loc[np.where(tt.age_approx==60.0)]= 8\n",
        "# tt.age_approx.loc[np.where(tt.age_approx==65.0)]= 9\n",
        "# tt.age_approx.loc[np.where(tt.age_approx==70.0)]= 10\n",
        "# tt.age_approx.loc[np.where(tt.age_approx==75.0)]= 11\n",
        "tt.drop(columns=['image_name','patient_id'], inplace=True)\n",
        "tt.anatom_site_general_challenge.fillna(value='torso', inplace=True)\n",
        "tt = pd.get_dummies(tt, columns=['sex', 'anatom_site_general_challenge'], drop_first=True)\n",
        "tt.head() "
      ],
      "execution_count": 18,
      "outputs": [
        {
          "output_type": "execute_result",
          "data": {
            "text/html": [
              "<div>\n",
              "<style scoped>\n",
              "    .dataframe tbody tr th:only-of-type {\n",
              "        vertical-align: middle;\n",
              "    }\n",
              "\n",
              "    .dataframe tbody tr th {\n",
              "        vertical-align: top;\n",
              "    }\n",
              "\n",
              "    .dataframe thead th {\n",
              "        text-align: right;\n",
              "    }\n",
              "</style>\n",
              "<table border=\"1\" class=\"dataframe\">\n",
              "  <thead>\n",
              "    <tr style=\"text-align: right;\">\n",
              "      <th></th>\n",
              "      <th>age_approx</th>\n",
              "      <th>sex_male</th>\n",
              "      <th>anatom_site_general_challenge_lower extremity</th>\n",
              "      <th>anatom_site_general_challenge_oral/genital</th>\n",
              "      <th>anatom_site_general_challenge_palms/soles</th>\n",
              "      <th>anatom_site_general_challenge_torso</th>\n",
              "      <th>anatom_site_general_challenge_upper extremity</th>\n",
              "    </tr>\n",
              "  </thead>\n",
              "  <tbody>\n",
              "    <tr>\n",
              "      <th>0</th>\n",
              "      <td>70.0</td>\n",
              "      <td>1</td>\n",
              "      <td>0</td>\n",
              "      <td>0</td>\n",
              "      <td>0</td>\n",
              "      <td>1</td>\n",
              "      <td>0</td>\n",
              "    </tr>\n",
              "    <tr>\n",
              "      <th>1</th>\n",
              "      <td>40.0</td>\n",
              "      <td>1</td>\n",
              "      <td>1</td>\n",
              "      <td>0</td>\n",
              "      <td>0</td>\n",
              "      <td>0</td>\n",
              "      <td>0</td>\n",
              "    </tr>\n",
              "    <tr>\n",
              "      <th>2</th>\n",
              "      <td>55.0</td>\n",
              "      <td>0</td>\n",
              "      <td>0</td>\n",
              "      <td>0</td>\n",
              "      <td>0</td>\n",
              "      <td>1</td>\n",
              "      <td>0</td>\n",
              "    </tr>\n",
              "    <tr>\n",
              "      <th>3</th>\n",
              "      <td>50.0</td>\n",
              "      <td>0</td>\n",
              "      <td>0</td>\n",
              "      <td>0</td>\n",
              "      <td>0</td>\n",
              "      <td>1</td>\n",
              "      <td>0</td>\n",
              "    </tr>\n",
              "    <tr>\n",
              "      <th>4</th>\n",
              "      <td>45.0</td>\n",
              "      <td>0</td>\n",
              "      <td>1</td>\n",
              "      <td>0</td>\n",
              "      <td>0</td>\n",
              "      <td>0</td>\n",
              "      <td>0</td>\n",
              "    </tr>\n",
              "  </tbody>\n",
              "</table>\n",
              "</div>"
            ],
            "text/plain": [
              "   age_approx  ...  anatom_site_general_challenge_upper extremity\n",
              "0        70.0  ...                                              0\n",
              "1        40.0  ...                                              0\n",
              "2        55.0  ...                                              0\n",
              "3        50.0  ...                                              0\n",
              "4        45.0  ...                                              0\n",
              "\n",
              "[5 rows x 7 columns]"
            ]
          },
          "metadata": {
            "tags": []
          },
          "execution_count": 18
        }
      ]
    },
    {
      "cell_type": "code",
      "metadata": {
        "id": "Kli90svqLdRJ",
        "colab_type": "code",
        "colab": {
          "base_uri": "https://localhost:8080/",
          "height": 34
        },
        "outputId": "06061fd0-3176-4b11-9ff2-0c291c24dab9"
      },
      "source": [
        "len(tt)"
      ],
      "execution_count": 19,
      "outputs": [
        {
          "output_type": "execute_result",
          "data": {
            "text/plain": [
              "10982"
            ]
          },
          "metadata": {
            "tags": []
          },
          "execution_count": 19
        }
      ]
    },
    {
      "cell_type": "code",
      "metadata": {
        "id": "mGGI1iFqcOFl",
        "colab_type": "code",
        "colab": {
          "base_uri": "https://localhost:8080/",
          "height": 319
        },
        "outputId": "b3e26245-f821-4039-b786-eddd8f915f78"
      },
      "source": [
        "tt.age_approx.value_counts()"
      ],
      "execution_count": 20,
      "outputs": [
        {
          "output_type": "execute_result",
          "data": {
            "text/plain": [
              "45.0    1587\n",
              "40.0    1452\n",
              "55.0    1265\n",
              "50.0    1230\n",
              "35.0    1032\n",
              "60.0    1032\n",
              "70.0     815\n",
              "65.0     756\n",
              "30.0     702\n",
              "25.0     298\n",
              "80.0     207\n",
              "75.0     201\n",
              "20.0     187\n",
              "85.0     156\n",
              "15.0      41\n",
              "90.0      14\n",
              "10.0       7\n",
              "Name: age_approx, dtype: int64"
            ]
          },
          "metadata": {
            "tags": []
          },
          "execution_count": 20
        }
      ]
    },
    {
      "cell_type": "markdown",
      "metadata": {
        "id": "lohct1eK10XE",
        "colab_type": "text"
      },
      "source": [
        "# LGBM"
      ]
    },
    {
      "cell_type": "code",
      "metadata": {
        "id": "55LnGXOKJPs5",
        "colab_type": "code",
        "colab": {}
      },
      "source": [
        "from scipy.misc import derivative\n",
        "\n",
        "def focal_loss_lgb(y_pred, dtrain, alpha, gamma):\n",
        "  a,g = alpha, gamma\n",
        "  y_true = dtrain.label\n",
        "  def fl(x,t):\n",
        "  \tp = 1/(1+np.exp(-x))\n",
        "  \treturn -( a*t + (1-a)*(1-t) ) * (( 1 - ( t*p + (1-t)*(1-p)) )**g) * ( t*np.log(p)+(1-t)*np.log(1-p) )\n",
        "  partial_fl = lambda x: fl(x, y_true)\n",
        "  grad = derivative(partial_fl, y_pred, n=1, dx=1e-6)\n",
        "  hess = derivative(partial_fl, y_pred, n=2, dx=1e-6)\n",
        "  return grad, hess\n",
        "\n",
        "\n",
        "def focal_loss_lgb_eval_error(y_pred, dtrain, alpha, gamma):\n",
        "  a,g = alpha, gamma\n",
        "  y_true = dtrain.label\n",
        "  p = 1/(1+np.exp(-y_pred))\n",
        "  loss = -( a*y_true + (1-a)*(1-y_true) ) * (( 1 - ( y_true*p + (1-y_true)*(1-p)) )**g) * ( y_true*np.log(p)+(1-y_true)*np.log(1-p) )\n",
        "  # (eval_name, eval_result, is_higher_better)\n",
        "  return 'focal_loss', np.mean(loss), False\n",
        "\n",
        "\n",
        "def focal_loss_lgb_roc_score(preds, lgbDataset):\n",
        "  preds = sigmoid(preds)\n",
        "  #preds = [int(p>0.5) for p in preds]\n",
        "  y_true = lgbDataset.get_label()\n",
        "  return 'roc_auc', roc_auc_score(y_true, preds), True"
      ],
      "execution_count": null,
      "outputs": []
    },
    {
      "cell_type": "code",
      "metadata": {
        "id": "giN2p8DhcQ-V",
        "colab_type": "code",
        "colab": {}
      },
      "source": [
        "d_train = lgb.Dataset(tc.drop(columns=['target','patient_id']), label=tc.target)\n",
        "params = {}\n",
        "#params['learning_rate'] = 1e-1\n",
        "params['boosting_type'] = 'gbdt'\n",
        "params['objective'] = 'binary'\n",
        "params['metric'] = 'roc_auc'\n",
        "#params['sub_feature'] = 0.5\n",
        "params['num_leaves'] = 256\n",
        "#params['min_data'] = 50\n",
        "params['max_depth'] = -1\n",
        "params['feature_fraction']= 1.0\n",
        "params['bagging_fraction']= 0.75\n",
        "params['random_state'] = 8\n",
        "params['categorical_features'] = 0,1,2,3,4,5,6\n",
        "params['min_child_weight']= 0.03454472573214212\n",
        "#params['device']='gpu'\n",
        "#params['verbose']=True\n",
        "#params['num_boost_round']=50\n",
        "\n",
        "clf = lgb.train(params, d_train, 5000)"
      ],
      "execution_count": null,
      "outputs": []
    },
    {
      "cell_type": "code",
      "metadata": {
        "id": "ZnP-Y8bXJns2",
        "colab_type": "code",
        "colab": {}
      },
      "source": [
        "# focal_loss = lambda x,y: focal_loss_lgb(x, y, alpha=1, gamma=2.)\n",
        "# #focal_loss_eval = lambda x,y: focal_loss_lgb_eval_error(x, y, alpha=0.25, gamma=1.)\n",
        "# clf = lgb.train(params, d_train, 5000, fobj=focal_loss, feval=focal_loss_lgb_roc_score)"
      ],
      "execution_count": null,
      "outputs": []
    },
    {
      "cell_type": "code",
      "metadata": {
        "id": "ibI_6r11DBw1",
        "colab_type": "code",
        "colab": {}
      },
      "source": [
        "pred=clf.predict(tc.drop(columns=['target','patient_id']))"
      ],
      "execution_count": null,
      "outputs": []
    },
    {
      "cell_type": "code",
      "metadata": {
        "id": "t3zSm0wMEJbG",
        "colab_type": "code",
        "colab": {
          "base_uri": "https://localhost:8080/",
          "height": 34
        },
        "outputId": "5b25a4c8-207f-4c3a-a940-98552823f20f"
      },
      "source": [
        "pred"
      ],
      "execution_count": null,
      "outputs": [
        {
          "output_type": "execute_result",
          "data": {
            "text/plain": [
              "array([0., 0., 0., ..., 0., 0., 0.])"
            ]
          },
          "metadata": {
            "tags": []
          },
          "execution_count": 35
        }
      ]
    },
    {
      "cell_type": "code",
      "metadata": {
        "id": "o_2t4LV6HaZy",
        "colab_type": "code",
        "colab": {
          "base_uri": "https://localhost:8080/",
          "height": 34
        },
        "outputId": "3c6578ee-ed86-4e47-ccd2-e172a4bb1452"
      },
      "source": [
        "roc_auc_score(tc['target'].values, pred)"
      ],
      "execution_count": null,
      "outputs": [
        {
          "output_type": "execute_result",
          "data": {
            "text/plain": [
              "0.7296022271145206"
            ]
          },
          "metadata": {
            "tags": []
          },
          "execution_count": 26
        }
      ]
    },
    {
      "cell_type": "code",
      "metadata": {
        "id": "9Nxo649UEKou",
        "colab_type": "code",
        "colab": {
          "base_uri": "https://localhost:8080/",
          "height": 34
        },
        "outputId": "8b0cc580-2626-4685-942a-ef7ebc4ef172"
      },
      "source": [
        "accuracy_score(tc['target'].values, np.zeros(len(tc)))#np.round(pred))"
      ],
      "execution_count": null,
      "outputs": [
        {
          "output_type": "execute_result",
          "data": {
            "text/plain": [
              "0.9823234652156537"
            ]
          },
          "metadata": {
            "tags": []
          },
          "execution_count": 236
        }
      ]
    },
    {
      "cell_type": "code",
      "metadata": {
        "id": "_0fELZmXGDzf",
        "colab_type": "code",
        "colab": {
          "base_uri": "https://localhost:8080/",
          "height": 34
        },
        "outputId": "0fb03cd6-e08b-4bb9-a95d-d91dee4f06a1"
      },
      "source": [
        "accuracy_score(tc['target'].values, np.round(pred))"
      ],
      "execution_count": null,
      "outputs": [
        {
          "output_type": "execute_result",
          "data": {
            "text/plain": [
              "0.9823234652156537"
            ]
          },
          "metadata": {
            "tags": []
          },
          "execution_count": 237
        }
      ]
    },
    {
      "cell_type": "markdown",
      "metadata": {
        "id": "tf2MgUm63hjB",
        "colab_type": "text"
      },
      "source": [
        "# CROSS VAL"
      ]
    },
    {
      "cell_type": "code",
      "metadata": {
        "id": "C-sOVGuJ0wlv",
        "colab_type": "code",
        "colab": {
          "base_uri": "https://localhost:8080/",
          "height": 1000
        },
        "outputId": "a76ef6fa-2cd3-4314-f26e-affbb761e940"
      },
      "source": [
        "lr_list = [3e-2,1e-2,9e-3,8e-3,7e-3,6e-3,5e-3]\n",
        "nl_list = [2,4,8]\n",
        "md_list = [1,2,4,8,16,32,64]\n",
        "kf_pred = np.zeros(len(tt))\n",
        "count=0\n",
        "for lr in lr_list:\n",
        "  print('~^'*20)\n",
        "  for md in md_list:\n",
        "    print('^^'*20)\n",
        "    for nl in nl_list:\n",
        "      print(\"LR = \",lr,\"\\tmin_depth = \",md,\"\\tnum_leaves = \",nl)\n",
        "      count+=1\n",
        "      skf = StratifiedKFold(n_splits=3)\n",
        "      params = {}\n",
        "      params['learning_rate'] = lr\n",
        "      params['boosting_type'] = 'gbdt'\n",
        "      params['objective'] = 'binary'\n",
        "      params['metric'] = 'roc_auc'\n",
        "      #params['sub_feature'] = 0.5\n",
        "      params['num_leaves'] = nl\n",
        "      #params['min_data'] = 50\n",
        "      params['max_depth'] = md\n",
        "      params['feature_fraction']= 0.75\n",
        "      params['bagging_fraction']= 0.8\n",
        "      params[\"bagging_freq\"] = 1\n",
        "      params['random_state'] = 8\n",
        "      params[\"bagging_seed\"]= 8\n",
        "      params['min_child_weight']= 0.03454472573214212\n",
        "      val_check = np.zeros(len(tc))\n",
        "      #kf_prediction = np.zeros(len(tt))\n",
        "      for fold, (train_idx, val_idx) in enumerate(skf.split(X=np.zeros(len(tc)), y=tc['target']), 1):\n",
        "        #print(\"=\"*20, 'Fold', fold, '='*20)\n",
        "        _tr = lgb.Dataset(tc.drop(columns=['target','patient_id']).iloc[train_idx], tc['target'].iloc[train_idx])\n",
        "        _val = lgb.Dataset(tc.drop(columns=['target','patient_id']).iloc[val_idx], tc['target'].iloc[val_idx])\n",
        "        clf = lgb.train(params, _tr, 3000, valid_sets=[_val])\n",
        "        val_check[val_idx] = clf.predict(tc.drop(columns=['target','patient_id']).iloc[val_idx])\n",
        "        #print(roc_auc_score(tc.iloc[val_idx]['target'].values, val_check[val_idx]))\n",
        "        kf_pred += clf.predict(tt) / skf.n_splits\n",
        "      rocval=roc_auc_score(tc['target'].values, val_check)\n",
        "      print(rocval)\n",
        "kf_pred/=count"
      ],
      "execution_count": null,
      "outputs": [
        {
          "output_type": "stream",
          "text": [
            "~^~^~^~^~^~^~^~^~^~^~^~^~^~^~^~^~^~^~^~^\n",
            "^^^^^^^^^^^^^^^^^^^^^^^^^^^^^^^^^^^^^^^^\n",
            "LR =  0.03 \tmin_depth =  1 \tnum_leaves =  2\n",
            "0.6690047922148958\n",
            "LR =  0.03 \tmin_depth =  1 \tnum_leaves =  4\n",
            "0.6690047922148958\n",
            "LR =  0.03 \tmin_depth =  1 \tnum_leaves =  8\n",
            "0.6690047922148958\n",
            "^^^^^^^^^^^^^^^^^^^^^^^^^^^^^^^^^^^^^^^^\n",
            "LR =  0.03 \tmin_depth =  2 \tnum_leaves =  2\n",
            "0.6690047922148958\n",
            "LR =  0.03 \tmin_depth =  2 \tnum_leaves =  4\n",
            "0.6771112278247806\n",
            "LR =  0.03 \tmin_depth =  2 \tnum_leaves =  8\n",
            "0.6771112278247806\n",
            "^^^^^^^^^^^^^^^^^^^^^^^^^^^^^^^^^^^^^^^^\n",
            "LR =  0.03 \tmin_depth =  4 \tnum_leaves =  2\n",
            "0.6690047922148958\n",
            "LR =  0.03 \tmin_depth =  4 \tnum_leaves =  4\n",
            "0.6754003989430457\n",
            "LR =  0.03 \tmin_depth =  4 \tnum_leaves =  8\n",
            "0.6675448674861417\n",
            "^^^^^^^^^^^^^^^^^^^^^^^^^^^^^^^^^^^^^^^^\n",
            "LR =  0.03 \tmin_depth =  8 \tnum_leaves =  2\n",
            "0.6690047922148958\n",
            "LR =  0.03 \tmin_depth =  8 \tnum_leaves =  4\n",
            "0.6754003989430457\n",
            "LR =  0.03 \tmin_depth =  8 \tnum_leaves =  8\n",
            "0.6672363261318581\n",
            "^^^^^^^^^^^^^^^^^^^^^^^^^^^^^^^^^^^^^^^^\n",
            "LR =  0.03 \tmin_depth =  16 \tnum_leaves =  2\n",
            "0.6690047922148958\n",
            "LR =  0.03 \tmin_depth =  16 \tnum_leaves =  4\n",
            "0.6754003989430457\n",
            "LR =  0.03 \tmin_depth =  16 \tnum_leaves =  8\n",
            "0.6672363261318581\n",
            "^^^^^^^^^^^^^^^^^^^^^^^^^^^^^^^^^^^^^^^^\n",
            "LR =  0.03 \tmin_depth =  32 \tnum_leaves =  2\n",
            "0.6690047922148958\n",
            "LR =  0.03 \tmin_depth =  32 \tnum_leaves =  4\n",
            "0.6754003989430457\n",
            "LR =  0.03 \tmin_depth =  32 \tnum_leaves =  8\n",
            "0.6672363261318581\n",
            "^^^^^^^^^^^^^^^^^^^^^^^^^^^^^^^^^^^^^^^^\n",
            "LR =  0.03 \tmin_depth =  64 \tnum_leaves =  2\n",
            "0.6690047922148958\n",
            "LR =  0.03 \tmin_depth =  64 \tnum_leaves =  4\n",
            "0.6754003989430457\n",
            "LR =  0.03 \tmin_depth =  64 \tnum_leaves =  8\n",
            "0.6672363261318581\n",
            "~^~^~^~^~^~^~^~^~^~^~^~^~^~^~^~^~^~^~^~^\n",
            "^^^^^^^^^^^^^^^^^^^^^^^^^^^^^^^^^^^^^^^^\n",
            "LR =  0.01 \tmin_depth =  1 \tnum_leaves =  2\n",
            "0.6704753300260429\n",
            "LR =  0.01 \tmin_depth =  1 \tnum_leaves =  4\n",
            "0.6704753300260429\n",
            "LR =  0.01 \tmin_depth =  1 \tnum_leaves =  8\n",
            "0.6704753300260429\n",
            "^^^^^^^^^^^^^^^^^^^^^^^^^^^^^^^^^^^^^^^^\n",
            "LR =  0.01 \tmin_depth =  2 \tnum_leaves =  2\n",
            "0.6704753300260429\n",
            "LR =  0.01 \tmin_depth =  2 \tnum_leaves =  4\n",
            "0.6783966081677193\n",
            "LR =  0.01 \tmin_depth =  2 \tnum_leaves =  8\n",
            "0.6783966081677193\n",
            "^^^^^^^^^^^^^^^^^^^^^^^^^^^^^^^^^^^^^^^^\n",
            "LR =  0.01 \tmin_depth =  4 \tnum_leaves =  2\n",
            "0.6704753300260429\n",
            "LR =  0.01 \tmin_depth =  4 \tnum_leaves =  4\n",
            "0.6793660452117309\n",
            "LR =  0.01 \tmin_depth =  4 \tnum_leaves =  8\n",
            "0.6739494000887144\n",
            "^^^^^^^^^^^^^^^^^^^^^^^^^^^^^^^^^^^^^^^^\n",
            "LR =  0.01 \tmin_depth =  8 \tnum_leaves =  2\n",
            "0.6704753300260429\n",
            "LR =  0.01 \tmin_depth =  8 \tnum_leaves =  4\n",
            "0.6793660452117309\n",
            "LR =  0.01 \tmin_depth =  8 \tnum_leaves =  8\n",
            "0.6724088159337744\n",
            "^^^^^^^^^^^^^^^^^^^^^^^^^^^^^^^^^^^^^^^^\n",
            "LR =  0.01 \tmin_depth =  16 \tnum_leaves =  2\n",
            "0.6704753300260429\n",
            "LR =  0.01 \tmin_depth =  16 \tnum_leaves =  4\n",
            "0.6793660452117309\n",
            "LR =  0.01 \tmin_depth =  16 \tnum_leaves =  8\n",
            "0.6724088159337744\n",
            "^^^^^^^^^^^^^^^^^^^^^^^^^^^^^^^^^^^^^^^^\n",
            "LR =  0.01 \tmin_depth =  32 \tnum_leaves =  2\n",
            "0.6704753300260429\n",
            "LR =  0.01 \tmin_depth =  32 \tnum_leaves =  4\n",
            "0.6793660452117309\n",
            "LR =  0.01 \tmin_depth =  32 \tnum_leaves =  8\n",
            "0.6724088159337744\n",
            "^^^^^^^^^^^^^^^^^^^^^^^^^^^^^^^^^^^^^^^^\n",
            "LR =  0.01 \tmin_depth =  64 \tnum_leaves =  2\n",
            "0.6704753300260429\n",
            "LR =  0.01 \tmin_depth =  64 \tnum_leaves =  4\n",
            "0.6793660452117309\n",
            "LR =  0.01 \tmin_depth =  64 \tnum_leaves =  8\n",
            "0.6724088159337744\n",
            "~^~^~^~^~^~^~^~^~^~^~^~^~^~^~^~^~^~^~^~^\n",
            "^^^^^^^^^^^^^^^^^^^^^^^^^^^^^^^^^^^^^^^^\n",
            "LR =  0.009 \tmin_depth =  1 \tnum_leaves =  2\n",
            "0.6704710847930857\n",
            "LR =  0.009 \tmin_depth =  1 \tnum_leaves =  4\n",
            "0.6704710847930857\n",
            "LR =  0.009 \tmin_depth =  1 \tnum_leaves =  8\n",
            "0.6704710847930857\n",
            "^^^^^^^^^^^^^^^^^^^^^^^^^^^^^^^^^^^^^^^^\n",
            "LR =  0.009 \tmin_depth =  2 \tnum_leaves =  2\n",
            "0.6704710847930857\n",
            "LR =  0.009 \tmin_depth =  2 \tnum_leaves =  4\n",
            "0.6784660013987498\n",
            "LR =  0.009 \tmin_depth =  2 \tnum_leaves =  8\n",
            "0.6784660013987498\n",
            "^^^^^^^^^^^^^^^^^^^^^^^^^^^^^^^^^^^^^^^^\n",
            "LR =  0.009 \tmin_depth =  4 \tnum_leaves =  2\n",
            "0.6704710847930857\n",
            "LR =  0.009 \tmin_depth =  4 \tnum_leaves =  4\n",
            "0.6795564275820405\n",
            "LR =  0.009 \tmin_depth =  4 \tnum_leaves =  8\n",
            "0.6747095144923001\n",
            "^^^^^^^^^^^^^^^^^^^^^^^^^^^^^^^^^^^^^^^^\n",
            "LR =  0.009 \tmin_depth =  8 \tnum_leaves =  2\n",
            "0.6704710847930857\n",
            "LR =  0.009 \tmin_depth =  8 \tnum_leaves =  4\n",
            "0.6795564275820405\n",
            "LR =  0.009 \tmin_depth =  8 \tnum_leaves =  8\n",
            "0.6731942384569122\n",
            "^^^^^^^^^^^^^^^^^^^^^^^^^^^^^^^^^^^^^^^^\n",
            "LR =  0.009 \tmin_depth =  16 \tnum_leaves =  2\n",
            "0.6704710847930857\n",
            "LR =  0.009 \tmin_depth =  16 \tnum_leaves =  4\n",
            "0.6795564275820405\n",
            "LR =  0.009 \tmin_depth =  16 \tnum_leaves =  8\n",
            "0.6731942384569122\n",
            "^^^^^^^^^^^^^^^^^^^^^^^^^^^^^^^^^^^^^^^^\n",
            "LR =  0.009 \tmin_depth =  32 \tnum_leaves =  2\n",
            "0.6704710847930857\n",
            "LR =  0.009 \tmin_depth =  32 \tnum_leaves =  4\n",
            "0.6795564275820405\n",
            "LR =  0.009 \tmin_depth =  32 \tnum_leaves =  8\n",
            "0.6731942384569122\n",
            "^^^^^^^^^^^^^^^^^^^^^^^^^^^^^^^^^^^^^^^^\n",
            "LR =  0.009 \tmin_depth =  64 \tnum_leaves =  2\n",
            "0.6704710847930857\n",
            "LR =  0.009 \tmin_depth =  64 \tnum_leaves =  4\n",
            "0.6795564275820405\n",
            "LR =  0.009 \tmin_depth =  64 \tnum_leaves =  8\n",
            "0.6731942384569122\n",
            "~^~^~^~^~^~^~^~^~^~^~^~^~^~^~^~^~^~^~^~^\n",
            "^^^^^^^^^^^^^^^^^^^^^^^^^^^^^^^^^^^^^^^^\n",
            "LR =  0.008 \tmin_depth =  1 \tnum_leaves =  2\n",
            "0.670592890323318\n",
            "LR =  0.008 \tmin_depth =  1 \tnum_leaves =  4\n",
            "0.670592890323318\n",
            "LR =  0.008 \tmin_depth =  1 \tnum_leaves =  8\n",
            "0.670592890323318\n",
            "^^^^^^^^^^^^^^^^^^^^^^^^^^^^^^^^^^^^^^^^\n",
            "LR =  0.008 \tmin_depth =  2 \tnum_leaves =  2\n",
            "0.670592890323318\n",
            "LR =  0.008 \tmin_depth =  2 \tnum_leaves =  4\n",
            "0.6781766180188369\n",
            "LR =  0.008 \tmin_depth =  2 \tnum_leaves =  8\n",
            "0.6781766180188369\n",
            "^^^^^^^^^^^^^^^^^^^^^^^^^^^^^^^^^^^^^^^^\n",
            "LR =  0.008 \tmin_depth =  4 \tnum_leaves =  2\n",
            "0.670592890323318\n",
            "LR =  0.008 \tmin_depth =  4 \tnum_leaves =  4\n",
            "0.6800423434774445\n",
            "LR =  0.008 \tmin_depth =  4 \tnum_leaves =  8\n",
            "0.675253666275706\n",
            "^^^^^^^^^^^^^^^^^^^^^^^^^^^^^^^^^^^^^^^^\n",
            "LR =  0.008 \tmin_depth =  8 \tnum_leaves =  2\n",
            "0.670592890323318\n",
            "LR =  0.008 \tmin_depth =  8 \tnum_leaves =  4\n",
            "0.6800423434774445\n",
            "LR =  0.008 \tmin_depth =  8 \tnum_leaves =  8\n",
            "0.6738856127422301\n",
            "^^^^^^^^^^^^^^^^^^^^^^^^^^^^^^^^^^^^^^^^\n",
            "LR =  0.008 \tmin_depth =  16 \tnum_leaves =  2\n",
            "0.670592890323318\n",
            "LR =  0.008 \tmin_depth =  16 \tnum_leaves =  4\n",
            "0.6800423434774445\n",
            "LR =  0.008 \tmin_depth =  16 \tnum_leaves =  8\n",
            "0.6738856127422301\n",
            "^^^^^^^^^^^^^^^^^^^^^^^^^^^^^^^^^^^^^^^^\n",
            "LR =  0.008 \tmin_depth =  32 \tnum_leaves =  2\n",
            "0.670592890323318\n",
            "LR =  0.008 \tmin_depth =  32 \tnum_leaves =  4\n",
            "0.6800423434774445\n",
            "LR =  0.008 \tmin_depth =  32 \tnum_leaves =  8\n",
            "0.6738856127422301\n",
            "^^^^^^^^^^^^^^^^^^^^^^^^^^^^^^^^^^^^^^^^\n",
            "LR =  0.008 \tmin_depth =  64 \tnum_leaves =  2\n",
            "0.670592890323318\n",
            "LR =  0.008 \tmin_depth =  64 \tnum_leaves =  4\n",
            "0.6800423434774445\n",
            "LR =  0.008 \tmin_depth =  64 \tnum_leaves =  8\n",
            "0.6738856127422301\n",
            "~^~^~^~^~^~^~^~^~^~^~^~^~^~^~^~^~^~^~^~^\n",
            "^^^^^^^^^^^^^^^^^^^^^^^^^^^^^^^^^^^^^^^^\n",
            "LR =  0.007 \tmin_depth =  1 \tnum_leaves =  2\n",
            "0.6703882483243576\n",
            "LR =  0.007 \tmin_depth =  1 \tnum_leaves =  4\n",
            "0.6703882483243576\n",
            "LR =  0.007 \tmin_depth =  1 \tnum_leaves =  8\n",
            "0.6703882483243576\n",
            "^^^^^^^^^^^^^^^^^^^^^^^^^^^^^^^^^^^^^^^^\n",
            "LR =  0.007 \tmin_depth =  2 \tnum_leaves =  2\n",
            "0.6703882483243576\n",
            "LR =  0.007 \tmin_depth =  2 \tnum_leaves =  4\n",
            "0.6780238440584427\n",
            "LR =  0.007 \tmin_depth =  2 \tnum_leaves =  8\n",
            "0.6780238440584427\n",
            "^^^^^^^^^^^^^^^^^^^^^^^^^^^^^^^^^^^^^^^^\n",
            "LR =  0.007 \tmin_depth =  4 \tnum_leaves =  2\n",
            "0.6703882483243576\n",
            "LR =  0.007 \tmin_depth =  4 \tnum_leaves =  4\n",
            "0.6806067417564924\n",
            "LR =  0.007 \tmin_depth =  4 \tnum_leaves =  8\n",
            "0.6762536907674348\n",
            "^^^^^^^^^^^^^^^^^^^^^^^^^^^^^^^^^^^^^^^^\n",
            "LR =  0.007 \tmin_depth =  8 \tnum_leaves =  2\n",
            "0.6703882483243576\n",
            "LR =  0.007 \tmin_depth =  8 \tnum_leaves =  4\n",
            "0.6806067417564924\n",
            "LR =  0.007 \tmin_depth =  8 \tnum_leaves =  8\n",
            "0.674882534948336\n",
            "^^^^^^^^^^^^^^^^^^^^^^^^^^^^^^^^^^^^^^^^\n",
            "LR =  0.007 \tmin_depth =  16 \tnum_leaves =  2\n",
            "0.6703882483243576\n",
            "LR =  0.007 \tmin_depth =  16 \tnum_leaves =  4\n",
            "0.6806067417564924\n",
            "LR =  0.007 \tmin_depth =  16 \tnum_leaves =  8\n",
            "0.674882534948336\n",
            "^^^^^^^^^^^^^^^^^^^^^^^^^^^^^^^^^^^^^^^^\n",
            "LR =  0.007 \tmin_depth =  32 \tnum_leaves =  2\n",
            "0.6703882483243576\n",
            "LR =  0.007 \tmin_depth =  32 \tnum_leaves =  4\n",
            "0.6806067417564924\n",
            "LR =  0.007 \tmin_depth =  32 \tnum_leaves =  8\n",
            "0.674882534948336\n",
            "^^^^^^^^^^^^^^^^^^^^^^^^^^^^^^^^^^^^^^^^\n",
            "LR =  0.007 \tmin_depth =  64 \tnum_leaves =  2\n",
            "0.6703882483243576\n",
            "LR =  0.007 \tmin_depth =  64 \tnum_leaves =  4\n",
            "0.6806067417564924\n",
            "LR =  0.007 \tmin_depth =  64 \tnum_leaves =  8\n",
            "0.674882534948336\n",
            "~^~^~^~^~^~^~^~^~^~^~^~^~^~^~^~^~^~^~^~^\n",
            "^^^^^^^^^^^^^^^^^^^^^^^^^^^^^^^^^^^^^^^^\n",
            "LR =  0.006 \tmin_depth =  1 \tnum_leaves =  2\n",
            "0.6698153595793954\n",
            "LR =  0.006 \tmin_depth =  1 \tnum_leaves =  4\n",
            "0.6698153595793954\n",
            "LR =  0.006 \tmin_depth =  1 \tnum_leaves =  8\n",
            "0.6698153595793954\n",
            "^^^^^^^^^^^^^^^^^^^^^^^^^^^^^^^^^^^^^^^^\n",
            "LR =  0.006 \tmin_depth =  2 \tnum_leaves =  2\n",
            "0.6698153595793954\n",
            "LR =  0.006 \tmin_depth =  2 \tnum_leaves =  4\n",
            "0.6781220831031565\n",
            "LR =  0.006 \tmin_depth =  2 \tnum_leaves =  8\n",
            "0.6781220831031565\n",
            "^^^^^^^^^^^^^^^^^^^^^^^^^^^^^^^^^^^^^^^^\n",
            "LR =  0.006 \tmin_depth =  4 \tnum_leaves =  2\n",
            "0.6698153595793954\n",
            "LR =  0.006 \tmin_depth =  4 \tnum_leaves =  4\n",
            "0.6806973611523086\n",
            "LR =  0.006 \tmin_depth =  4 \tnum_leaves =  8\n",
            "0.6771728381287231\n",
            "^^^^^^^^^^^^^^^^^^^^^^^^^^^^^^^^^^^^^^^^\n",
            "LR =  0.006 \tmin_depth =  8 \tnum_leaves =  2\n",
            "0.6698153595793954\n",
            "LR =  0.006 \tmin_depth =  8 \tnum_leaves =  4\n",
            "0.6806973611523086\n",
            "LR =  0.006 \tmin_depth =  8 \tnum_leaves =  8\n",
            "0.6766339112474181\n",
            "^^^^^^^^^^^^^^^^^^^^^^^^^^^^^^^^^^^^^^^^\n",
            "LR =  0.006 \tmin_depth =  16 \tnum_leaves =  2\n",
            "0.6698153595793954\n",
            "LR =  0.006 \tmin_depth =  16 \tnum_leaves =  4\n",
            "0.6806973611523086\n",
            "LR =  0.006 \tmin_depth =  16 \tnum_leaves =  8\n",
            "0.6766339112474181\n",
            "^^^^^^^^^^^^^^^^^^^^^^^^^^^^^^^^^^^^^^^^\n",
            "LR =  0.006 \tmin_depth =  32 \tnum_leaves =  2\n",
            "0.6698153595793954\n",
            "LR =  0.006 \tmin_depth =  32 \tnum_leaves =  4\n",
            "0.6806973611523086\n",
            "LR =  0.006 \tmin_depth =  32 \tnum_leaves =  8\n",
            "0.6766339112474181\n",
            "^^^^^^^^^^^^^^^^^^^^^^^^^^^^^^^^^^^^^^^^\n",
            "LR =  0.006 \tmin_depth =  64 \tnum_leaves =  2\n",
            "0.6698153595793954\n",
            "LR =  0.006 \tmin_depth =  64 \tnum_leaves =  4\n",
            "0.6806973611523086\n",
            "LR =  0.006 \tmin_depth =  64 \tnum_leaves =  8\n",
            "0.6766339112474181\n",
            "~^~^~^~^~^~^~^~^~^~^~^~^~^~^~^~^~^~^~^~^\n",
            "^^^^^^^^^^^^^^^^^^^^^^^^^^^^^^^^^^^^^^^^\n",
            "LR =  0.005 \tmin_depth =  1 \tnum_leaves =  2\n",
            "0.6694910346666813\n",
            "LR =  0.005 \tmin_depth =  1 \tnum_leaves =  4\n",
            "0.6694910346666813\n",
            "LR =  0.005 \tmin_depth =  1 \tnum_leaves =  8\n",
            "0.6694910346666813\n",
            "^^^^^^^^^^^^^^^^^^^^^^^^^^^^^^^^^^^^^^^^\n",
            "LR =  0.005 \tmin_depth =  2 \tnum_leaves =  2\n",
            "0.6694910346666813\n",
            "LR =  0.005 \tmin_depth =  2 \tnum_leaves =  4\n",
            "0.6781335125765027\n",
            "LR =  0.005 \tmin_depth =  2 \tnum_leaves =  8\n",
            "0.6781335125765027\n",
            "^^^^^^^^^^^^^^^^^^^^^^^^^^^^^^^^^^^^^^^^\n",
            "LR =  0.005 \tmin_depth =  4 \tnum_leaves =  2\n",
            "0.6694910346666813\n",
            "LR =  0.005 \tmin_depth =  4 \tnum_leaves =  4\n",
            "0.6806809244811156\n",
            "LR =  0.005 \tmin_depth =  4 \tnum_leaves =  8\n",
            "0.6786515942754665\n",
            "^^^^^^^^^^^^^^^^^^^^^^^^^^^^^^^^^^^^^^^^\n",
            "LR =  0.005 \tmin_depth =  8 \tnum_leaves =  2\n",
            "0.6694910346666813\n",
            "LR =  0.005 \tmin_depth =  8 \tnum_leaves =  4\n",
            "0.6806809244811156\n",
            "LR =  0.005 \tmin_depth =  8 \tnum_leaves =  8\n",
            "0.6773655063937019\n",
            "^^^^^^^^^^^^^^^^^^^^^^^^^^^^^^^^^^^^^^^^\n",
            "LR =  0.005 \tmin_depth =  16 \tnum_leaves =  2\n",
            "0.6694910346666813\n",
            "LR =  0.005 \tmin_depth =  16 \tnum_leaves =  4\n",
            "0.6806809244811156\n",
            "LR =  0.005 \tmin_depth =  16 \tnum_leaves =  8\n",
            "0.6773655063937019\n",
            "^^^^^^^^^^^^^^^^^^^^^^^^^^^^^^^^^^^^^^^^\n",
            "LR =  0.005 \tmin_depth =  32 \tnum_leaves =  2\n",
            "0.6694910346666813\n",
            "LR =  0.005 \tmin_depth =  32 \tnum_leaves =  4\n",
            "0.6806809244811156\n",
            "LR =  0.005 \tmin_depth =  32 \tnum_leaves =  8\n",
            "0.6773655063937019\n",
            "^^^^^^^^^^^^^^^^^^^^^^^^^^^^^^^^^^^^^^^^\n",
            "LR =  0.005 \tmin_depth =  64 \tnum_leaves =  2\n",
            "0.6694910346666813\n",
            "LR =  0.005 \tmin_depth =  64 \tnum_leaves =  4\n",
            "0.6806809244811156\n",
            "LR =  0.005 \tmin_depth =  64 \tnum_leaves =  8\n",
            "0.6773655063937019\n"
          ],
          "name": "stdout"
        }
      ]
    },
    {
      "cell_type": "markdown",
      "metadata": {
        "id": "uyimp7DMqR7u",
        "colab_type": "text"
      },
      "source": [
        "# group k fold"
      ]
    },
    {
      "cell_type": "code",
      "metadata": {
        "id": "XTWnNsAQHP8y",
        "colab_type": "code",
        "colab": {}
      },
      "source": [
        "skf = KFold(n_splits=5)#GroupKFold(n_splits=5)\n",
        "params = {}\n",
        "params['learning_rate'] = 0.007\n",
        "params['boosting_type'] = 'gbdt'\n",
        "params['objective'] = 'binary'\n",
        "params['metric'] = 'roc_auc'\n",
        "#params['sub_feature'] = 0.5\n",
        "params['num_leaves'] = 4\n",
        "#params['min_data'] = 50\n",
        "params['max_depth'] = 4\n",
        "# params['feature_fraction']= 0.75\n",
        "# params['bagging_fraction']= 0.8\n",
        "params[\"bagging_freq\"] = 1\n",
        "params['random_state'] = 8\n",
        "params[\"bagging_seed\"]= 8\n",
        "params['min_child_weight']= 0.03454472573214212"
      ],
      "execution_count": 44,
      "outputs": []
    },
    {
      "cell_type": "code",
      "metadata": {
        "id": "dA1OxZoqqLYx",
        "colab_type": "code",
        "colab": {
          "base_uri": "https://localhost:8080/",
          "height": 118
        },
        "outputId": "e44de624-df01-40d1-98d3-0e13e27b2c50"
      },
      "source": [
        "#val_check = np.zeros(len(tc))\n",
        "###now###\n",
        "val_check = tc.copy()\n",
        "kf_pred = np.zeros(len(tt))\n",
        "for fold, (train_idx, val_idx) in enumerate(skf.split(np.arange(15)), 1): #, groups=tc['patient_id'].tolist()), 1):\n",
        "  print(\"=\"*20, 'Fold', fold, '='*20)\n",
        "  _tr = lgb.Dataset(tc.drop(columns=['target','patient_id','tfrecord']).loc[tc.tfrecord.isin(train_idx)], tc['target'].loc[tc.tfrecord.isin(train_idx)])\n",
        "  _val = lgb.Dataset(tc.drop(columns=['target','patient_id','tfrecord']).loc[tc.tfrecord.isin(val_idx)], tc['target'].loc[tc.tfrecord.isin(val_idx)])\n",
        "  clf = lgb.train(params, _tr, 3000, valid_sets=[_val])\n",
        "  val_check.target.loc[tc.tfrecord.isin(val_idx)] = clf.predict(tc.drop(columns=['target','patient_id','tfrecord']).loc[tc.tfrecord.isin(val_idx)])\n",
        "  print(roc_auc_score(tc.loc[tc.tfrecord.isin(val_idx)]['target'].values, val_check.target.loc[tc.tfrecord.isin(val_idx)]))\n",
        "  kf_pred += clf.predict(tt) / skf.n_splits"
      ],
      "execution_count": 45,
      "outputs": [
        {
          "output_type": "stream",
          "text": [
            "==================== Fold 1 ====================\n",
            "0.6984045427256352\n",
            "==================== Fold 2 ====================\n",
            "0.6707803474055865\n",
            "==================== Fold 3 ====================\n",
            "0.6536089494926516\n"
          ],
          "name": "stdout"
        }
      ]
    },
    {
      "cell_type": "code",
      "metadata": {
        "id": "Cj21hAkhtKLF",
        "colab_type": "code",
        "colab": {}
      },
      "source": [
        "#val_check1=val_check\n",
        "#val_check=(val_check1 + val_check2)/2"
      ],
      "execution_count": 46,
      "outputs": []
    },
    {
      "cell_type": "code",
      "metadata": {
        "id": "DU8L777-suP2",
        "colab_type": "code",
        "colab": {
          "base_uri": "https://localhost:8080/",
          "height": 34
        },
        "outputId": "2b9c25f3-493c-4e5d-d389-38d45f697d56"
      },
      "source": [
        "roc_auc_score(tc['target'].values, val_check.target)"
      ],
      "execution_count": 47,
      "outputs": [
        {
          "output_type": "execute_result",
          "data": {
            "text/plain": [
              "0.6785921610140664"
            ]
          },
          "metadata": {
            "tags": []
          },
          "execution_count": 47
        }
      ]
    },
    {
      "cell_type": "code",
      "metadata": {
        "id": "aLq8ESa6ugJx",
        "colab_type": "code",
        "colab": {
          "base_uri": "https://localhost:8080/",
          "height": 50
        },
        "outputId": "211d04af-25d4-4319-cedb-99d40866aa72"
      },
      "source": [
        "print(accuracy_score(tc['target'].values, np.zeros(len(tc))))\n",
        "print(accuracy_score(tc['target'].values, np.round(val_check)))"
      ],
      "execution_count": 24,
      "outputs": [
        {
          "output_type": "stream",
          "text": [
            "0.9823234652156537\n",
            "0.9823234652156537\n"
          ],
          "name": "stdout"
        }
      ]
    },
    {
      "cell_type": "markdown",
      "metadata": {
        "id": "1Sn7djQ3qZcx",
        "colab_type": "text"
      },
      "source": [
        "# prediction\n"
      ]
    },
    {
      "cell_type": "code",
      "metadata": {
        "id": "sPIdkigEEy8X",
        "colab_type": "code",
        "colab": {
          "base_uri": "https://localhost:8080/",
          "height": 50
        },
        "outputId": "2bf26d91-c514-4112-e7b7-a7ddb25cd92b"
      },
      "source": [
        "#preds=clf.predict(tt)\n",
        "preds=kf_pred\n",
        "preds"
      ],
      "execution_count": 36,
      "outputs": [
        {
          "output_type": "execute_result",
          "data": {
            "text/plain": [
              "array([0.03242851, 0.00887102, 0.01210292, ..., 0.01707794, 0.02531386,\n",
              "       0.01416438])"
            ]
          },
          "metadata": {
            "tags": []
          },
          "execution_count": 36
        }
      ]
    },
    {
      "cell_type": "code",
      "metadata": {
        "id": "1M1p7YDDF9wE",
        "colab_type": "code",
        "colab": {}
      },
      "source": [
        "sub_csv = pd.read_csv('sample_submission.csv')\n",
        "sub_csv['target'] = preds"
      ],
      "execution_count": 37,
      "outputs": []
    },
    {
      "cell_type": "code",
      "metadata": {
        "id": "Pc7e7XFHGUEn",
        "colab_type": "code",
        "colab": {
          "base_uri": "https://localhost:8080/",
          "height": 195
        },
        "outputId": "779010f5-1c8c-457f-a77d-8596c96ee1d4"
      },
      "source": [
        "sub_csv.head()"
      ],
      "execution_count": 38,
      "outputs": [
        {
          "output_type": "execute_result",
          "data": {
            "text/html": [
              "<div>\n",
              "<style scoped>\n",
              "    .dataframe tbody tr th:only-of-type {\n",
              "        vertical-align: middle;\n",
              "    }\n",
              "\n",
              "    .dataframe tbody tr th {\n",
              "        vertical-align: top;\n",
              "    }\n",
              "\n",
              "    .dataframe thead th {\n",
              "        text-align: right;\n",
              "    }\n",
              "</style>\n",
              "<table border=\"1\" class=\"dataframe\">\n",
              "  <thead>\n",
              "    <tr style=\"text-align: right;\">\n",
              "      <th></th>\n",
              "      <th>image_name</th>\n",
              "      <th>target</th>\n",
              "    </tr>\n",
              "  </thead>\n",
              "  <tbody>\n",
              "    <tr>\n",
              "      <th>0</th>\n",
              "      <td>ISIC_0052060</td>\n",
              "      <td>0.032429</td>\n",
              "    </tr>\n",
              "    <tr>\n",
              "      <th>1</th>\n",
              "      <td>ISIC_0052349</td>\n",
              "      <td>0.008871</td>\n",
              "    </tr>\n",
              "    <tr>\n",
              "      <th>2</th>\n",
              "      <td>ISIC_0058510</td>\n",
              "      <td>0.012103</td>\n",
              "    </tr>\n",
              "    <tr>\n",
              "      <th>3</th>\n",
              "      <td>ISIC_0073313</td>\n",
              "      <td>0.009465</td>\n",
              "    </tr>\n",
              "    <tr>\n",
              "      <th>4</th>\n",
              "      <td>ISIC_0073502</td>\n",
              "      <td>0.009402</td>\n",
              "    </tr>\n",
              "  </tbody>\n",
              "</table>\n",
              "</div>"
            ],
            "text/plain": [
              "     image_name    target\n",
              "0  ISIC_0052060  0.032429\n",
              "1  ISIC_0052349  0.008871\n",
              "2  ISIC_0058510  0.012103\n",
              "3  ISIC_0073313  0.009465\n",
              "4  ISIC_0073502  0.009402"
            ]
          },
          "metadata": {
            "tags": []
          },
          "execution_count": 38
        }
      ]
    },
    {
      "cell_type": "code",
      "metadata": {
        "id": "037APnEyGaX4",
        "colab_type": "code",
        "colab": {}
      },
      "source": [
        "sub_csv.to_csv('/content/sub_lgb_14.csv', index=False)"
      ],
      "execution_count": 39,
      "outputs": []
    },
    {
      "cell_type": "code",
      "metadata": {
        "id": "BWdhJzLfgL-l",
        "colab_type": "code",
        "colab": {}
      },
      "source": [
        ""
      ],
      "execution_count": null,
      "outputs": []
    }
  ]
}