{
 "cells": [
  {
   "cell_type": "markdown",
   "execution_count": null,
   "metadata": {},
   "source": [
    "# Foreword & Remarks\n",
    "\n",
    "- This work was adapted from the 1st place solution of the Jigsaw 2020 competition: https://www.kaggle.com/rafiko1/1st-place-jigsaw-post-processing-example\n",
    "- First place post-processing details can be found at: https://www.kaggle.com/c/jigsaw-multilingual-toxic-comment-classification/discussion/160862. Main idea was to track the delta of predictions for each sample using successful submissions, then averaging them and 'pushing' the predictions in the same direction.\n",
    "- I only configured it a little bit so that it can be used in this competition\n",
    "- This notebook uses **only public notebook submission files**!! For me, using my ensemble as the \"best sub\" with minor tweaks to give a small boost in LB\n",
    "- Since we are allowed to make 3 final submissions, if you are willing to risk it, feel free to have a submission that uses this pipeline"
   ]
  },
  {
   "cell_type": "markdown",
   "execution_count": null,
   "metadata": {},
   "source": [
    "# Update Log\n",
    "\n",
    "- **Version 6**: As per Chris' feedback, submisison dataframes are now sorted before their predictions are concatenated to the test dataframe. Also changed a public sub to another one as the submission could no longer be extracted. "
   ]
  },
  {
   "cell_type": "markdown",
   "execution_count": null,
   "metadata": {},
   "source": [
    "# Imports"
   ]
  },
  {
   "cell_type": "code",
   "execution_count": 1,
   "metadata": {
    "_cell_guid": "b1076dfc-b9ad-4769-8c92-a6c4dae69d19",
    "_uuid": "8f2839f25d086af736a60e9eeb907d3b93b6e0e5"
   },
   "outputs": [],
   "source": [
    "# General imports\n",
    "import numpy as np\n",
    "import pandas as pd\n",
    "import os\n",
    "from matplotlib import pyplot as plt"
   ]
  },
  {
   "cell_type": "code",
   "execution_count": 2,
   "metadata": {},
   "outputs": [],
   "source": [
    "WEIGHT = 1 # best to keep between 1 and 2 from the orignal authors"
   ]
  },
  {
   "cell_type": "code",
   "execution_count": 3,
   "metadata": {},
   "outputs": [],
   "source": [
    "submission = pd.read_csv('../input/siim-isic-melanoma-classification/sample_submission.csv')\n",
    "test = pd.read_csv('../input/siim-isic-melanoma-classification/test.csv')\n",
    "sub_best = pd.read_csv('../input/eda-modelling-of-the-external-data-inc-ensemble/external_meta_ensembled.csv')"
   ]
  },
  {
   "cell_type": "code",
   "execution_count": 4,
   "metadata": {},
   "outputs": [
    {
     "name": "stdout",
     "output_type": "stream",
     "text": [
      "11\n"
     ]
    },
    {
     "data": {
      "text/plain": [
       "['../input/analysis-of-melanoma-metadata-and-effnet-ensemble/ensembled.csv',\n",
       " '../input/eda-modelling-of-the-external-data-inc-ensemble/external_meta_ensembled.csv',\n",
       " '../input/minmax-ensemble-0-9526-lb/submission.csv',\n",
       " '../input/new-basline-np-log2-ensemble-top-10/submission.csv',\n",
       " '../input/rank-then-blend/blend_sub.csv',\n",
       " '../input/rc-fork-siim-isic-melanoma-384x384/sub_EfficientNetB2_384.csv',\n",
       " '../input/siim-isic-melanoma-classification-ensemble/submission.csv',\n",
       " '../input/stacking-ensemble-on-my-submissions/submission_mean.csv',\n",
       " '../input/submission-exploration/submission.csv',\n",
       " '../input/train-cv/submission.csv',\n",
       " '../input/triple-stratified-kfold-with-tfrecords/submission.csv']"
      ]
     },
     "execution_count": 4,
     "metadata": {},
     "output_type": "execute_result"
    }
   ],
   "source": [
    "files_sub = [\n",
    "    '../input/minmax-ensemble-0-9526-lb/submission.csv',\n",
    "    '../input/new-basline-np-log2-ensemble-top-10/submission.csv',\n",
    "    '../input/stacking-ensemble-on-my-submissions/submission_mean.csv',\n",
    "    '../input/analysis-of-melanoma-metadata-and-effnet-ensemble/ensembled.csv',\n",
    "    '../input/eda-modelling-of-the-external-data-inc-ensemble/external_meta_ensembled.csv',\n",
    "    '../input/submission-exploration/submission.csv',\n",
    "    '../input/rc-fork-siim-isic-melanoma-384x384/sub_EfficientNetB2_384.csv',\n",
    "    '../input/train-cv/submission.csv',\n",
    "    '../input/triple-stratified-kfold-with-tfrecords/submission.csv',\n",
    "    '../input/rank-then-blend/blend_sub.csv',\n",
    "    '../input/siim-isic-melanoma-classification-ensemble/submission.csv'\n",
    "]\n",
    "files_sub = sorted(files_sub)\n",
    "print(len(files_sub))\n",
    "files_sub"
   ]
  },
  {
   "cell_type": "code",
   "execution_count": 5,
   "metadata": {},
   "outputs": [],
   "source": [
    "for file in files_sub:\n",
    "    test[file.replace(\".csv\", \"\")] = pd.read_csv(file).sort_values('image_name')[\"target\"]\n",
    "test['id'] = test.index"
   ]
  },
  {
   "cell_type": "code",
   "execution_count": 6,
   "metadata": {},
   "outputs": [
    {
     "data": {
      "text/html": [
       "<div>\n",
       "<style scoped>\n",
       "    .dataframe tbody tr th:only-of-type {\n",
       "        vertical-align: middle;\n",
       "    }\n",
       "\n",
       "    .dataframe tbody tr th {\n",
       "        vertical-align: top;\n",
       "    }\n",
       "\n",
       "    .dataframe thead th {\n",
       "        text-align: right;\n",
       "    }\n",
       "</style>\n",
       "<table border=\"1\" class=\"dataframe\">\n",
       "  <thead>\n",
       "    <tr style=\"text-align: right;\">\n",
       "      <th></th>\n",
       "      <th>image_name</th>\n",
       "      <th>patient_id</th>\n",
       "      <th>sex</th>\n",
       "      <th>age_approx</th>\n",
       "      <th>anatom_site_general_challenge</th>\n",
       "      <th>../input/analysis-of-melanoma-metadata-and-effnet-ensemble/ensembled</th>\n",
       "      <th>../input/eda-modelling-of-the-external-data-inc-ensemble/external_meta_ensembled</th>\n",
       "      <th>../input/minmax-ensemble-0-9526-lb/submission</th>\n",
       "      <th>../input/new-basline-np-log2-ensemble-top-10/submission</th>\n",
       "      <th>../input/rank-then-blend/blend_sub</th>\n",
       "      <th>../input/rc-fork-siim-isic-melanoma-384x384/sub_EfficientNetB2_384</th>\n",
       "      <th>../input/siim-isic-melanoma-classification-ensemble/submission</th>\n",
       "      <th>../input/stacking-ensemble-on-my-submissions/submission_mean</th>\n",
       "      <th>../input/submission-exploration/submission</th>\n",
       "      <th>../input/train-cv/submission</th>\n",
       "      <th>../input/triple-stratified-kfold-with-tfrecords/submission</th>\n",
       "      <th>id</th>\n",
       "    </tr>\n",
       "  </thead>\n",
       "  <tbody>\n",
       "    <tr>\n",
       "      <th>0</th>\n",
       "      <td>ISIC_0052060</td>\n",
       "      <td>IP_3579794</td>\n",
       "      <td>male</td>\n",
       "      <td>70.0</td>\n",
       "      <td>NaN</td>\n",
       "      <td>0.028636</td>\n",
       "      <td>0.035168</td>\n",
       "      <td>0.000153</td>\n",
       "      <td>0.000021</td>\n",
       "      <td>0.452031</td>\n",
       "      <td>0.035619</td>\n",
       "      <td>0.442216</td>\n",
       "      <td>0.022257</td>\n",
       "      <td>0.022904</td>\n",
       "      <td>0.019561</td>\n",
       "      <td>0.027359</td>\n",
       "      <td>0</td>\n",
       "    </tr>\n",
       "    <tr>\n",
       "      <th>1</th>\n",
       "      <td>ISIC_0052349</td>\n",
       "      <td>IP_7782715</td>\n",
       "      <td>male</td>\n",
       "      <td>40.0</td>\n",
       "      <td>lower extremity</td>\n",
       "      <td>0.025085</td>\n",
       "      <td>0.026585</td>\n",
       "      <td>0.000118</td>\n",
       "      <td>0.000013</td>\n",
       "      <td>0.200596</td>\n",
       "      <td>0.030290</td>\n",
       "      <td>0.198324</td>\n",
       "      <td>0.016384</td>\n",
       "      <td>0.018993</td>\n",
       "      <td>0.028645</td>\n",
       "      <td>0.025799</td>\n",
       "      <td>1</td>\n",
       "    </tr>\n",
       "    <tr>\n",
       "      <th>2</th>\n",
       "      <td>ISIC_0058510</td>\n",
       "      <td>IP_7960270</td>\n",
       "      <td>female</td>\n",
       "      <td>55.0</td>\n",
       "      <td>torso</td>\n",
       "      <td>0.024785</td>\n",
       "      <td>0.028502</td>\n",
       "      <td>0.002049</td>\n",
       "      <td>0.000281</td>\n",
       "      <td>0.165812</td>\n",
       "      <td>0.020130</td>\n",
       "      <td>0.164583</td>\n",
       "      <td>0.023354</td>\n",
       "      <td>0.018233</td>\n",
       "      <td>0.022637</td>\n",
       "      <td>0.025983</td>\n",
       "      <td>2</td>\n",
       "    </tr>\n",
       "    <tr>\n",
       "      <th>3</th>\n",
       "      <td>ISIC_0073313</td>\n",
       "      <td>IP_6375035</td>\n",
       "      <td>female</td>\n",
       "      <td>50.0</td>\n",
       "      <td>torso</td>\n",
       "      <td>0.025986</td>\n",
       "      <td>0.030733</td>\n",
       "      <td>0.000135</td>\n",
       "      <td>0.000015</td>\n",
       "      <td>0.110636</td>\n",
       "      <td>0.021280</td>\n",
       "      <td>0.111062</td>\n",
       "      <td>0.017497</td>\n",
       "      <td>0.016989</td>\n",
       "      <td>0.021303</td>\n",
       "      <td>0.024942</td>\n",
       "      <td>3</td>\n",
       "    </tr>\n",
       "    <tr>\n",
       "      <th>4</th>\n",
       "      <td>ISIC_0073502</td>\n",
       "      <td>IP_0589375</td>\n",
       "      <td>female</td>\n",
       "      <td>45.0</td>\n",
       "      <td>lower extremity</td>\n",
       "      <td>0.032871</td>\n",
       "      <td>0.032410</td>\n",
       "      <td>0.000448</td>\n",
       "      <td>0.000044</td>\n",
       "      <td>0.531879</td>\n",
       "      <td>0.161430</td>\n",
       "      <td>0.519997</td>\n",
       "      <td>0.018092</td>\n",
       "      <td>0.022621</td>\n",
       "      <td>0.018570</td>\n",
       "      <td>0.032569</td>\n",
       "      <td>4</td>\n",
       "    </tr>\n",
       "  </tbody>\n",
       "</table>\n",
       "</div>"
      ],
      "text/plain": [
       "     image_name  patient_id     sex  age_approx anatom_site_general_challenge  \\\n",
       "0  ISIC_0052060  IP_3579794    male        70.0                           NaN   \n",
       "1  ISIC_0052349  IP_7782715    male        40.0               lower extremity   \n",
       "2  ISIC_0058510  IP_7960270  female        55.0                         torso   \n",
       "3  ISIC_0073313  IP_6375035  female        50.0                         torso   \n",
       "4  ISIC_0073502  IP_0589375  female        45.0               lower extremity   \n",
       "\n",
       "   ../input/analysis-of-melanoma-metadata-and-effnet-ensemble/ensembled  \\\n",
       "0                                           0.028636                      \n",
       "1                                           0.025085                      \n",
       "2                                           0.024785                      \n",
       "3                                           0.025986                      \n",
       "4                                           0.032871                      \n",
       "\n",
       "   ../input/eda-modelling-of-the-external-data-inc-ensemble/external_meta_ensembled  \\\n",
       "0                                           0.035168                                  \n",
       "1                                           0.026585                                  \n",
       "2                                           0.028502                                  \n",
       "3                                           0.030733                                  \n",
       "4                                           0.032410                                  \n",
       "\n",
       "   ../input/minmax-ensemble-0-9526-lb/submission  \\\n",
       "0                                       0.000153   \n",
       "1                                       0.000118   \n",
       "2                                       0.002049   \n",
       "3                                       0.000135   \n",
       "4                                       0.000448   \n",
       "\n",
       "   ../input/new-basline-np-log2-ensemble-top-10/submission  \\\n",
       "0                                           0.000021         \n",
       "1                                           0.000013         \n",
       "2                                           0.000281         \n",
       "3                                           0.000015         \n",
       "4                                           0.000044         \n",
       "\n",
       "   ../input/rank-then-blend/blend_sub  \\\n",
       "0                            0.452031   \n",
       "1                            0.200596   \n",
       "2                            0.165812   \n",
       "3                            0.110636   \n",
       "4                            0.531879   \n",
       "\n",
       "   ../input/rc-fork-siim-isic-melanoma-384x384/sub_EfficientNetB2_384  \\\n",
       "0                                           0.035619                    \n",
       "1                                           0.030290                    \n",
       "2                                           0.020130                    \n",
       "3                                           0.021280                    \n",
       "4                                           0.161430                    \n",
       "\n",
       "   ../input/siim-isic-melanoma-classification-ensemble/submission  \\\n",
       "0                                           0.442216                \n",
       "1                                           0.198324                \n",
       "2                                           0.164583                \n",
       "3                                           0.111062                \n",
       "4                                           0.519997                \n",
       "\n",
       "   ../input/stacking-ensemble-on-my-submissions/submission_mean  \\\n",
       "0                                           0.022257              \n",
       "1                                           0.016384              \n",
       "2                                           0.023354              \n",
       "3                                           0.017497              \n",
       "4                                           0.018092              \n",
       "\n",
       "   ../input/submission-exploration/submission  ../input/train-cv/submission  \\\n",
       "0                                    0.022904                      0.019561   \n",
       "1                                    0.018993                      0.028645   \n",
       "2                                    0.018233                      0.022637   \n",
       "3                                    0.016989                      0.021303   \n",
       "4                                    0.022621                      0.018570   \n",
       "\n",
       "   ../input/triple-stratified-kfold-with-tfrecords/submission  id  \n",
       "0                                           0.027359            0  \n",
       "1                                           0.025799            1  \n",
       "2                                           0.025983            2  \n",
       "3                                           0.024942            3  \n",
       "4                                           0.032569            4  "
      ]
     },
     "execution_count": 6,
     "metadata": {},
     "output_type": "execute_result"
    }
   ],
   "source": [
    "test.head()"
   ]
  },
  {
   "cell_type": "code",
   "execution_count": 7,
   "metadata": {},
   "outputs": [
    {
     "data": {
      "text/plain": [
       "Index(['image_name', 'patient_id', 'sex', 'age_approx',\n",
       "       'anatom_site_general_challenge',\n",
       "       '../input/analysis-of-melanoma-metadata-and-effnet-ensemble/ensembled',\n",
       "       '../input/eda-modelling-of-the-external-data-inc-ensemble/external_meta_ensembled',\n",
       "       '../input/minmax-ensemble-0-9526-lb/submission',\n",
       "       '../input/new-basline-np-log2-ensemble-top-10/submission',\n",
       "       '../input/rank-then-blend/blend_sub',\n",
       "       '../input/rc-fork-siim-isic-melanoma-384x384/sub_EfficientNetB2_384',\n",
       "       '../input/siim-isic-melanoma-classification-ensemble/submission',\n",
       "       '../input/stacking-ensemble-on-my-submissions/submission_mean',\n",
       "       '../input/submission-exploration/submission',\n",
       "       '../input/train-cv/submission',\n",
       "       '../input/triple-stratified-kfold-with-tfrecords/submission', 'id'],\n",
       "      dtype='object')"
      ]
     },
     "execution_count": 7,
     "metadata": {},
     "output_type": "execute_result"
    }
   ],
   "source": [
    "test.columns"
   ]
  },
  {
   "cell_type": "code",
   "execution_count": 8,
   "metadata": {},
   "outputs": [],
   "source": [
    "# Derive the given sub increases or decreases in score\n",
    "test[\"diff_good1\"] =  test['../input/rank-then-blend/blend_sub'] - test['../input/triple-stratified-kfold-with-tfrecords/submission']\n",
    "test[\"diff_good1\"] =  test['../input/train-cv/submission'] - test['../input/siim-isic-melanoma-classification-ensemble/submission']\n",
    "test[\"diff_good2\"] = test['../input/rc-fork-siim-isic-melanoma-384x384/sub_EfficientNetB2_384'] - test['../input/submission-exploration/submission']\n",
    "test[\"diff_good3\"] = test['../input/analysis-of-melanoma-metadata-and-effnet-ensemble/ensembled'] - test['../input/new-basline-np-log2-ensemble-top-10/submission']\n",
    "\n",
    "test[\"diff_bad1\"] = test['../input/stacking-ensemble-on-my-submissions/submission_mean'] - test['../input/minmax-ensemble-0-9526-lb/submission']"
   ]
  },
  {
   "cell_type": "code",
   "execution_count": 9,
   "metadata": {},
   "outputs": [],
   "source": [
    "test[\"sub_best\"] = test['../input/eda-modelling-of-the-external-data-inc-ensemble/external_meta_ensembled']\n",
    "col_comment = [\"id\", \"image_name\", \"patient_id\", \"sub_best\"]\n",
    "col_diff = [column for column in test.columns if \"diff\" in column]\n",
    "test_diff = test[col_comment + col_diff].reset_index(drop=True)\n",
    "\n",
    "test_diff[\"diff_avg\"] = test_diff[col_diff].mean(axis=1) # the mean trend"
   ]
  },
  {
   "cell_type": "code",
   "execution_count": 10,
   "metadata": {},
   "outputs": [],
   "source": [
    "# Apply the post-processing technique in one line (as explained in the pseudo-code of my post.\n",
    "test_diff[\"sub_new\"] = test_diff.apply(lambda x: (1+WEIGHT*x[\"diff_avg\"])*x[\"sub_best\"] if x[\"diff_avg\"]<0 else (1-WEIGHT*x[\"diff_avg\"])*x[\"sub_best\"] + WEIGHT*x[\"diff_avg\"] , axis=1)"
   ]
  },
  {
   "cell_type": "code",
   "execution_count": 11,
   "metadata": {},
   "outputs": [
    {
     "data": {
      "text/html": [
       "<div>\n",
       "<style scoped>\n",
       "    .dataframe tbody tr th:only-of-type {\n",
       "        vertical-align: middle;\n",
       "    }\n",
       "\n",
       "    .dataframe tbody tr th {\n",
       "        vertical-align: top;\n",
       "    }\n",
       "\n",
       "    .dataframe thead th {\n",
       "        text-align: right;\n",
       "    }\n",
       "</style>\n",
       "<table border=\"1\" class=\"dataframe\">\n",
       "  <thead>\n",
       "    <tr style=\"text-align: right;\">\n",
       "      <th></th>\n",
       "      <th>image_name</th>\n",
       "      <th>target</th>\n",
       "    </tr>\n",
       "  </thead>\n",
       "  <tbody>\n",
       "    <tr>\n",
       "      <th>0</th>\n",
       "      <td>ISIC_0052060</td>\n",
       "      <td>0.035168</td>\n",
       "    </tr>\n",
       "    <tr>\n",
       "      <th>1</th>\n",
       "      <td>ISIC_0052349</td>\n",
       "      <td>0.026585</td>\n",
       "    </tr>\n",
       "    <tr>\n",
       "      <th>2</th>\n",
       "      <td>ISIC_0058510</td>\n",
       "      <td>0.028502</td>\n",
       "    </tr>\n",
       "    <tr>\n",
       "      <th>3</th>\n",
       "      <td>ISIC_0073313</td>\n",
       "      <td>0.030733</td>\n",
       "    </tr>\n",
       "    <tr>\n",
       "      <th>4</th>\n",
       "      <td>ISIC_0073502</td>\n",
       "      <td>0.032410</td>\n",
       "    </tr>\n",
       "  </tbody>\n",
       "</table>\n",
       "</div>"
      ],
      "text/plain": [
       "     image_name    target\n",
       "0  ISIC_0052060  0.035168\n",
       "1  ISIC_0052349  0.026585\n",
       "2  ISIC_0058510  0.028502\n",
       "3  ISIC_0073313  0.030733\n",
       "4  ISIC_0073502  0.032410"
      ]
     },
     "execution_count": 11,
     "metadata": {},
     "output_type": "execute_result"
    }
   ],
   "source": [
    "submission[\"target\"] = sub_best[\"target\"]\n",
    "submission.head()"
   ]
  },
  {
   "cell_type": "code",
   "execution_count": 12,
   "metadata": {},
   "outputs": [
    {
     "data": {
      "text/html": [
       "<div>\n",
       "<style scoped>\n",
       "    .dataframe tbody tr th:only-of-type {\n",
       "        vertical-align: middle;\n",
       "    }\n",
       "\n",
       "    .dataframe tbody tr th {\n",
       "        vertical-align: top;\n",
       "    }\n",
       "\n",
       "    .dataframe thead th {\n",
       "        text-align: right;\n",
       "    }\n",
       "</style>\n",
       "<table border=\"1\" class=\"dataframe\">\n",
       "  <thead>\n",
       "    <tr style=\"text-align: right;\">\n",
       "      <th></th>\n",
       "      <th>id</th>\n",
       "      <th>image_name</th>\n",
       "      <th>patient_id</th>\n",
       "      <th>sub_best</th>\n",
       "      <th>diff_good1</th>\n",
       "      <th>diff_good2</th>\n",
       "      <th>diff_good3</th>\n",
       "      <th>diff_bad1</th>\n",
       "      <th>diff_avg</th>\n",
       "      <th>sub_new</th>\n",
       "    </tr>\n",
       "  </thead>\n",
       "  <tbody>\n",
       "    <tr>\n",
       "      <th>0</th>\n",
       "      <td>0</td>\n",
       "      <td>ISIC_0052060</td>\n",
       "      <td>IP_3579794</td>\n",
       "      <td>0.035168</td>\n",
       "      <td>-0.422655</td>\n",
       "      <td>0.012715</td>\n",
       "      <td>0.028615</td>\n",
       "      <td>0.022104</td>\n",
       "      <td>-0.089805</td>\n",
       "      <td>0.032010</td>\n",
       "    </tr>\n",
       "    <tr>\n",
       "      <th>1</th>\n",
       "      <td>1</td>\n",
       "      <td>ISIC_0052349</td>\n",
       "      <td>IP_7782715</td>\n",
       "      <td>0.026585</td>\n",
       "      <td>-0.169679</td>\n",
       "      <td>0.011297</td>\n",
       "      <td>0.025072</td>\n",
       "      <td>0.016266</td>\n",
       "      <td>-0.029261</td>\n",
       "      <td>0.025807</td>\n",
       "    </tr>\n",
       "    <tr>\n",
       "      <th>2</th>\n",
       "      <td>2</td>\n",
       "      <td>ISIC_0058510</td>\n",
       "      <td>IP_7960270</td>\n",
       "      <td>0.028502</td>\n",
       "      <td>-0.141946</td>\n",
       "      <td>0.001897</td>\n",
       "      <td>0.024504</td>\n",
       "      <td>0.021305</td>\n",
       "      <td>-0.023560</td>\n",
       "      <td>0.027831</td>\n",
       "    </tr>\n",
       "    <tr>\n",
       "      <th>3</th>\n",
       "      <td>3</td>\n",
       "      <td>ISIC_0073313</td>\n",
       "      <td>IP_6375035</td>\n",
       "      <td>0.030733</td>\n",
       "      <td>-0.089759</td>\n",
       "      <td>0.004291</td>\n",
       "      <td>0.025971</td>\n",
       "      <td>0.017362</td>\n",
       "      <td>-0.010534</td>\n",
       "      <td>0.030409</td>\n",
       "    </tr>\n",
       "    <tr>\n",
       "      <th>4</th>\n",
       "      <td>4</td>\n",
       "      <td>ISIC_0073502</td>\n",
       "      <td>IP_0589375</td>\n",
       "      <td>0.032410</td>\n",
       "      <td>-0.501427</td>\n",
       "      <td>0.138808</td>\n",
       "      <td>0.032827</td>\n",
       "      <td>0.017644</td>\n",
       "      <td>-0.078037</td>\n",
       "      <td>0.029881</td>\n",
       "    </tr>\n",
       "  </tbody>\n",
       "</table>\n",
       "</div>"
      ],
      "text/plain": [
       "   id    image_name  patient_id  sub_best  diff_good1  diff_good2  diff_good3  \\\n",
       "0   0  ISIC_0052060  IP_3579794  0.035168   -0.422655    0.012715    0.028615   \n",
       "1   1  ISIC_0052349  IP_7782715  0.026585   -0.169679    0.011297    0.025072   \n",
       "2   2  ISIC_0058510  IP_7960270  0.028502   -0.141946    0.001897    0.024504   \n",
       "3   3  ISIC_0073313  IP_6375035  0.030733   -0.089759    0.004291    0.025971   \n",
       "4   4  ISIC_0073502  IP_0589375  0.032410   -0.501427    0.138808    0.032827   \n",
       "\n",
       "   diff_bad1  diff_avg   sub_new  \n",
       "0   0.022104 -0.089805  0.032010  \n",
       "1   0.016266 -0.029261  0.025807  \n",
       "2   0.021305 -0.023560  0.027831  \n",
       "3   0.017362 -0.010534  0.030409  \n",
       "4   0.017644 -0.078037  0.029881  "
      ]
     },
     "execution_count": 12,
     "metadata": {},
     "output_type": "execute_result"
    }
   ],
   "source": [
    "test_diff.head()"
   ]
  },
  {
   "cell_type": "code",
   "execution_count": 13,
   "metadata": {},
   "outputs": [],
   "source": [
    "submission.loc[test[\"id\"], \"target\"] = test_diff[\"sub_new\"].values"
   ]
  },
  {
   "cell_type": "code",
   "execution_count": 14,
   "metadata": {},
   "outputs": [
    {
     "data": {
      "text/html": [
       "<div>\n",
       "<style scoped>\n",
       "    .dataframe tbody tr th:only-of-type {\n",
       "        vertical-align: middle;\n",
       "    }\n",
       "\n",
       "    .dataframe tbody tr th {\n",
       "        vertical-align: top;\n",
       "    }\n",
       "\n",
       "    .dataframe thead th {\n",
       "        text-align: right;\n",
       "    }\n",
       "</style>\n",
       "<table border=\"1\" class=\"dataframe\">\n",
       "  <thead>\n",
       "    <tr style=\"text-align: right;\">\n",
       "      <th></th>\n",
       "      <th>image_name</th>\n",
       "      <th>target</th>\n",
       "    </tr>\n",
       "  </thead>\n",
       "  <tbody>\n",
       "    <tr>\n",
       "      <th>0</th>\n",
       "      <td>ISIC_0052060</td>\n",
       "      <td>0.032010</td>\n",
       "    </tr>\n",
       "    <tr>\n",
       "      <th>1</th>\n",
       "      <td>ISIC_0052349</td>\n",
       "      <td>0.025807</td>\n",
       "    </tr>\n",
       "    <tr>\n",
       "      <th>2</th>\n",
       "      <td>ISIC_0058510</td>\n",
       "      <td>0.027831</td>\n",
       "    </tr>\n",
       "    <tr>\n",
       "      <th>3</th>\n",
       "      <td>ISIC_0073313</td>\n",
       "      <td>0.030409</td>\n",
       "    </tr>\n",
       "    <tr>\n",
       "      <th>4</th>\n",
       "      <td>ISIC_0073502</td>\n",
       "      <td>0.029881</td>\n",
       "    </tr>\n",
       "  </tbody>\n",
       "</table>\n",
       "</div>"
      ],
      "text/plain": [
       "     image_name    target\n",
       "0  ISIC_0052060  0.032010\n",
       "1  ISIC_0052349  0.025807\n",
       "2  ISIC_0058510  0.027831\n",
       "3  ISIC_0073313  0.030409\n",
       "4  ISIC_0073502  0.029881"
      ]
     },
     "execution_count": 14,
     "metadata": {},
     "output_type": "execute_result"
    }
   ],
   "source": [
    "submission.to_csv(\"submission.csv\", index=False)\n",
    "submission.head()"
   ]
  },
  {
   "cell_type": "code",
   "execution_count": 15,
   "metadata": {},
   "outputs": [
    {
     "data": {
      "image/png": "[encoded data removed]",
      "text/plain": [
       "<Figure size 432x288 with 1 Axes>"
      ]
     },
     "metadata": {
      "needs_background": "light"
     },
     "output_type": "display_data"
    }
   ],
   "source": [
    "plt.hist(submission.target,bins=100)\n",
    "plt.show()"
   ]
  }
 ],
 "metadata": {
  "kernelspec": {
   "display_name": "Python 3",
   "language": "python",
   "name": "python3"
  },
  "language_info": {
   "codemirror_mode": {
    "name": "ipython",
    "version": 3
   },
   "file_extension": ".py",
   "mimetype": "text/x-python",
   "name": "python",
   "nbconvert_exporter": "python",
   "pygments_lexer": "ipython3",
   "version": "3.7.6"
  }
 },
 "nbformat": 4,
 "nbformat_minor": 4
}
