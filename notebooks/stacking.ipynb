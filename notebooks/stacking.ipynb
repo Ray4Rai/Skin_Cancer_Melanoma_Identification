{
  "nbformat": 4,
  "nbformat_minor": 0,
  "metadata": {
    "colab": {
      "name": "stacking.ipynb",
      "provenance": [],
      "toc_visible": true
    },
    "kernelspec": {
      "name": "python3",
      "display_name": "Python 3"
    }
  },
  "cells": [
    {
      "cell_type": "code",
      "metadata": {
        "id": "aDWMXTsjPNGq",
        "colab_type": "code",
        "colab": {}
      },
      "source": [
        "from sklearn.linear_model import LogisticRegression \n",
        "import pandas as pd\n",
        "from sklearn.model_selection import train_test_split, StratifiedKFold, GroupKFold, KFold\n",
        "import numpy as np"
      ],
      "execution_count": 1,
      "outputs": []
    },
    {
      "cell_type": "code",
      "metadata": {
        "id": "UOGL3OcePxyO",
        "colab_type": "code",
        "colab": {}
      },
      "source": [
        "from google.colab import drive\n",
        "drive.mount('/content/drive')"
      ],
      "execution_count": null,
      "outputs": []
    },
    {
      "cell_type": "code",
      "metadata": {
        "id": "DOqXgNjpRs4t",
        "colab_type": "code",
        "colab": {
          "base_uri": "https://localhost:8080/",
          "height": 34
        },
        "outputId": "87a09f53-a375-4759-cf3d-ba8b9036d4f9"
      },
      "source": [
        "tc = pd.read_csv('tmp_train.csv')\n",
        "len(tc)\n"
      ],
      "execution_count": 2,
      "outputs": [
        {
          "output_type": "execute_result",
          "data": {
            "text/plain": [
              "33126"
            ]
          },
          "metadata": {
            "tags": []
          },
          "execution_count": 2
        }
      ]
    },
    {
      "cell_type": "code",
      "metadata": {
        "id": "q1DtR1ZjQH1h",
        "colab_type": "code",
        "colab": {
          "base_uri": "https://localhost:8080/",
          "height": 34
        },
        "outputId": "3586ba6f-9fdd-4938-dae2-878c3339bc43"
      },
      "source": [
        "oof1 = pd.read_csv('b5new_2_oof.csv')\n",
        "oof2 = pd.read_csv('b0new_1up_oof.csv')\n",
        "oof3 = pd.read_csv('b1new_1up_oof.csv')\n",
        "oof4 = pd.read_csv('b4new_1up_oof.csv')\n",
        "oof5 = pd.read_csv('b3new_1upup_oof.csv')\n",
        "oof6 = pd.read_csv('b2new_1_oof.csv')\n",
        "oof7 = pd.read_csv('b6new_1up_oof.csv')\n",
        "oof8 = pd.read_csv('mmb5_1_oof.csv')\n",
        "\n",
        "sub1 = pd.read_csv('sub_b5new_2_.csv')\n",
        "sub2 = pd.read_csv('sub_b0new_1up_.csv')\n",
        "sub3 = pd.read_csv('sub_b1new_1up_.csv')\n",
        "sub4 = pd.read_csv('sub_b4new_1up_.csv')\n",
        "sub5 = pd.read_csv('sub_b3new_1upup_.csv')\n",
        "sub6 = pd.read_csv('sub_b2new_1_.csv')\n",
        "sub7 = pd.read_csv('sub_b6new_1up_.csv')\n",
        "sub8 = pd.read_csv('sub_mmb5_1.csv')\n",
        "print(len(oof1),len(oof2),len(sub1),len(sub1))"
      ],
      "execution_count": 3,
      "outputs": [
        {
          "output_type": "stream",
          "text": [
            "33126 33126 10982 10982\n"
          ],
          "name": "stdout"
        }
      ]
    },
    {
      "cell_type": "code",
      "metadata": {
        "id": "4i2kUAHbRhJd",
        "colab_type": "code",
        "colab": {
          "base_uri": "https://localhost:8080/",
          "height": 195
        },
        "outputId": "03fc86f6-25e4-4734-cf2e-9a2003a06316"
      },
      "source": [
        "traindata = pd.concat([oof1.target,oof2.target,oof3.target,oof4.target,oof5.target,oof6.target,oof7.target,oof8],axis=1)\n",
        "# data['x1']=data.target\n",
        "# data['x2']=oof2\n",
        "# data['x3']=oofnew.predictions\n",
        "\n",
        "# data.drop(columns=['target'],inplace=True)\n",
        "traindata.head()"
      ],
      "execution_count": null,
      "outputs": [
        {
          "output_type": "execute_result",
          "data": {
            "text/html": [
              "<div>\n",
              "<style scoped>\n",
              "    .dataframe tbody tr th:only-of-type {\n",
              "        vertical-align: middle;\n",
              "    }\n",
              "\n",
              "    .dataframe tbody tr th {\n",
              "        vertical-align: top;\n",
              "    }\n",
              "\n",
              "    .dataframe thead th {\n",
              "        text-align: right;\n",
              "    }\n",
              "</style>\n",
              "<table border=\"1\" class=\"dataframe\">\n",
              "  <thead>\n",
              "    <tr style=\"text-align: right;\">\n",
              "      <th></th>\n",
              "      <th>target</th>\n",
              "      <th>target</th>\n",
              "      <th>target</th>\n",
              "      <th>target</th>\n",
              "      <th>target</th>\n",
              "      <th>target</th>\n",
              "      <th>target</th>\n",
              "      <th>0</th>\n",
              "    </tr>\n",
              "  </thead>\n",
              "  <tbody>\n",
              "    <tr>\n",
              "      <th>0</th>\n",
              "      <td>0.003688</td>\n",
              "      <td>0.001139</td>\n",
              "      <td>0.001852</td>\n",
              "      <td>0.000155</td>\n",
              "      <td>0.000278</td>\n",
              "      <td>0.008895</td>\n",
              "      <td>0.000502</td>\n",
              "      <td>0.001597</td>\n",
              "    </tr>\n",
              "    <tr>\n",
              "      <th>1</th>\n",
              "      <td>0.000095</td>\n",
              "      <td>0.000131</td>\n",
              "      <td>0.001777</td>\n",
              "      <td>0.000215</td>\n",
              "      <td>0.000481</td>\n",
              "      <td>0.002659</td>\n",
              "      <td>0.000848</td>\n",
              "      <td>0.000270</td>\n",
              "    </tr>\n",
              "    <tr>\n",
              "      <th>2</th>\n",
              "      <td>0.000364</td>\n",
              "      <td>0.000434</td>\n",
              "      <td>0.001018</td>\n",
              "      <td>0.000956</td>\n",
              "      <td>0.000709</td>\n",
              "      <td>0.001181</td>\n",
              "      <td>0.001237</td>\n",
              "      <td>0.000074</td>\n",
              "    </tr>\n",
              "    <tr>\n",
              "      <th>3</th>\n",
              "      <td>0.000513</td>\n",
              "      <td>0.000790</td>\n",
              "      <td>0.003018</td>\n",
              "      <td>0.000189</td>\n",
              "      <td>0.000071</td>\n",
              "      <td>0.002645</td>\n",
              "      <td>0.000941</td>\n",
              "      <td>0.002221</td>\n",
              "    </tr>\n",
              "    <tr>\n",
              "      <th>4</th>\n",
              "      <td>0.000117</td>\n",
              "      <td>0.000147</td>\n",
              "      <td>0.001008</td>\n",
              "      <td>0.000198</td>\n",
              "      <td>0.001310</td>\n",
              "      <td>0.002854</td>\n",
              "      <td>0.000395</td>\n",
              "      <td>0.001371</td>\n",
              "    </tr>\n",
              "  </tbody>\n",
              "</table>\n",
              "</div>"
            ],
            "text/plain": [
              "     target    target    target  ...    target    target         0\n",
              "0  0.003688  0.001139  0.001852  ...  0.008895  0.000502  0.001597\n",
              "1  0.000095  0.000131  0.001777  ...  0.002659  0.000848  0.000270\n",
              "2  0.000364  0.000434  0.001018  ...  0.001181  0.001237  0.000074\n",
              "3  0.000513  0.000790  0.003018  ...  0.002645  0.000941  0.002221\n",
              "4  0.000117  0.000147  0.001008  ...  0.002854  0.000395  0.001371\n",
              "\n",
              "[5 rows x 8 columns]"
            ]
          },
          "metadata": {
            "tags": []
          },
          "execution_count": 8
        }
      ]
    },
    {
      "cell_type": "code",
      "metadata": {
        "id": "L44QQ_ynVDUN",
        "colab_type": "code",
        "colab": {
          "base_uri": "https://localhost:8080/",
          "height": 195
        },
        "outputId": "c48203b6-d202-461c-af1c-ac9449830905"
      },
      "source": [
        "testdata = pd.concat([sub1.target,sub2.target,sub3.target,sub4.target,sub5.target,sub6.target,sub7.target,sub8.target],axis=1)\n",
        "# sub1['xx1']=sub1.target\n",
        "# sub1['xx2']=sub2.target\n",
        "# sub1['xx3']=subnew.target\n",
        "# sub1.drop(columns=['target','image_name'],inplace=True)\n",
        "testdata.head()"
      ],
      "execution_count": 4,
      "outputs": [
        {
          "output_type": "execute_result",
          "data": {
            "text/html": [
              "<div>\n",
              "<style scoped>\n",
              "    .dataframe tbody tr th:only-of-type {\n",
              "        vertical-align: middle;\n",
              "    }\n",
              "\n",
              "    .dataframe tbody tr th {\n",
              "        vertical-align: top;\n",
              "    }\n",
              "\n",
              "    .dataframe thead th {\n",
              "        text-align: right;\n",
              "    }\n",
              "</style>\n",
              "<table border=\"1\" class=\"dataframe\">\n",
              "  <thead>\n",
              "    <tr style=\"text-align: right;\">\n",
              "      <th></th>\n",
              "      <th>target</th>\n",
              "      <th>target</th>\n",
              "      <th>target</th>\n",
              "      <th>target</th>\n",
              "      <th>target</th>\n",
              "      <th>target</th>\n",
              "      <th>target</th>\n",
              "      <th>target</th>\n",
              "    </tr>\n",
              "  </thead>\n",
              "  <tbody>\n",
              "    <tr>\n",
              "      <th>0</th>\n",
              "      <td>0.000166</td>\n",
              "      <td>0.000135</td>\n",
              "      <td>0.000358</td>\n",
              "      <td>0.000108</td>\n",
              "      <td>0.000491</td>\n",
              "      <td>0.000597</td>\n",
              "      <td>0.001022</td>\n",
              "      <td>0.001561</td>\n",
              "    </tr>\n",
              "    <tr>\n",
              "      <th>1</th>\n",
              "      <td>0.000068</td>\n",
              "      <td>0.000075</td>\n",
              "      <td>0.000141</td>\n",
              "      <td>0.000020</td>\n",
              "      <td>0.000231</td>\n",
              "      <td>0.000417</td>\n",
              "      <td>0.000433</td>\n",
              "      <td>0.000082</td>\n",
              "    </tr>\n",
              "    <tr>\n",
              "      <th>2</th>\n",
              "      <td>0.000124</td>\n",
              "      <td>0.000096</td>\n",
              "      <td>0.000205</td>\n",
              "      <td>0.000133</td>\n",
              "      <td>0.000161</td>\n",
              "      <td>0.000396</td>\n",
              "      <td>0.000523</td>\n",
              "      <td>0.000072</td>\n",
              "    </tr>\n",
              "    <tr>\n",
              "      <th>3</th>\n",
              "      <td>0.000195</td>\n",
              "      <td>0.000077</td>\n",
              "      <td>0.000165</td>\n",
              "      <td>0.000053</td>\n",
              "      <td>0.000196</td>\n",
              "      <td>0.000466</td>\n",
              "      <td>0.000651</td>\n",
              "      <td>0.000126</td>\n",
              "    </tr>\n",
              "    <tr>\n",
              "      <th>4</th>\n",
              "      <td>0.002020</td>\n",
              "      <td>0.000483</td>\n",
              "      <td>0.000410</td>\n",
              "      <td>0.000216</td>\n",
              "      <td>0.000365</td>\n",
              "      <td>0.002193</td>\n",
              "      <td>0.000832</td>\n",
              "      <td>0.000572</td>\n",
              "    </tr>\n",
              "  </tbody>\n",
              "</table>\n",
              "</div>"
            ],
            "text/plain": [
              "     target    target    target  ...    target    target    target\n",
              "0  0.000166  0.000135  0.000358  ...  0.000597  0.001022  0.001561\n",
              "1  0.000068  0.000075  0.000141  ...  0.000417  0.000433  0.000082\n",
              "2  0.000124  0.000096  0.000205  ...  0.000396  0.000523  0.000072\n",
              "3  0.000195  0.000077  0.000165  ...  0.000466  0.000651  0.000126\n",
              "4  0.002020  0.000483  0.000410  ...  0.002193  0.000832  0.000572\n",
              "\n",
              "[5 rows x 8 columns]"
            ]
          },
          "metadata": {
            "tags": []
          },
          "execution_count": 4
        }
      ]
    },
    {
      "cell_type": "markdown",
      "metadata": {
        "id": "veLLaKIbVJC4",
        "colab_type": "text"
      },
      "source": [
        "# minmax"
      ]
    },
    {
      "cell_type": "code",
      "metadata": {
        "id": "2p64jiqJbrXJ",
        "colab_type": "code",
        "colab": {
          "base_uri": "https://localhost:8080/",
          "height": 34
        },
        "outputId": "5de0cd41-0fc2-415e-9170-477cfe9a2665"
      },
      "source": [
        "testdata.iloc[4,:].mean()"
      ],
      "execution_count": 14,
      "outputs": [
        {
          "output_type": "execute_result",
          "data": {
            "text/plain": [
              "0.00088639043625"
            ]
          },
          "metadata": {
            "tags": []
          },
          "execution_count": 14
        }
      ]
    },
    {
      "cell_type": "code",
      "metadata": {
        "id": "jua6onIMVL7x",
        "colab_type": "code",
        "colab": {
          "base_uri": "https://localhost:8080/",
          "height": 50
        },
        "outputId": "004ca385-5981-4825-a94e-1171f9acede8"
      },
      "source": [
        "lk=0.002\n",
        "hk=0.11\n",
        "y_sub=np.zeros(len(testdata))\n",
        "for i in range(len(testdata)):\n",
        "  #sum=0\n",
        "  countlk=0\n",
        "  counthk=0\n",
        "  for j in range(8):\n",
        "    if testdata.iloc[i,j]<lk:\n",
        "      countlk+=1\n",
        "    if testdata.iloc[i,j]>hk:\n",
        "      counthk+=1\n",
        "    #sum+=testdata.iloc[i,j]\n",
        "  if countlk==8:\n",
        "    y_sub[i]=testdata.iloc[i,:].min()\n",
        "  elif counthk==8:\n",
        "    y_sub[i]=testdata.iloc[i,:].max()\n",
        "  else:\n",
        "    y_sub[i]=testdata.iloc[i,:].mean()\n",
        "y_sub"
      ],
      "execution_count": 15,
      "outputs": [
        {
          "output_type": "execute_result",
          "data": {
            "text/plain": [
              "array([1.07719796e-04, 2.02929040e-05, 7.15390700e-05, ...,\n",
              "       0.00000000e+00, 0.00000000e+00, 0.00000000e+00])"
            ]
          },
          "metadata": {
            "tags": []
          },
          "execution_count": 15
        }
      ]
    },
    {
      "cell_type": "code",
      "metadata": {
        "colab_type": "code",
        "id": "CWgjbMbodBeK",
        "colab": {
          "base_uri": "https://localhost:8080/",
          "height": 195
        },
        "outputId": "252c8818-bfda-443f-df73-34574981e649"
      },
      "source": [
        "subcsv = pd.read_csv('sample_submission.csv')\n",
        "subcsv.target = y_sub\n",
        "subcsv.head()"
      ],
      "execution_count": 16,
      "outputs": [
        {
          "output_type": "execute_result",
          "data": {
            "text/html": [
              "<div>\n",
              "<style scoped>\n",
              "    .dataframe tbody tr th:only-of-type {\n",
              "        vertical-align: middle;\n",
              "    }\n",
              "\n",
              "    .dataframe tbody tr th {\n",
              "        vertical-align: top;\n",
              "    }\n",
              "\n",
              "    .dataframe thead th {\n",
              "        text-align: right;\n",
              "    }\n",
              "</style>\n",
              "<table border=\"1\" class=\"dataframe\">\n",
              "  <thead>\n",
              "    <tr style=\"text-align: right;\">\n",
              "      <th></th>\n",
              "      <th>image_name</th>\n",
              "      <th>target</th>\n",
              "    </tr>\n",
              "  </thead>\n",
              "  <tbody>\n",
              "    <tr>\n",
              "      <th>0</th>\n",
              "      <td>ISIC_0052060</td>\n",
              "      <td>0.000108</td>\n",
              "    </tr>\n",
              "    <tr>\n",
              "      <th>1</th>\n",
              "      <td>ISIC_0052349</td>\n",
              "      <td>0.000020</td>\n",
              "    </tr>\n",
              "    <tr>\n",
              "      <th>2</th>\n",
              "      <td>ISIC_0058510</td>\n",
              "      <td>0.000072</td>\n",
              "    </tr>\n",
              "    <tr>\n",
              "      <th>3</th>\n",
              "      <td>ISIC_0073313</td>\n",
              "      <td>0.000053</td>\n",
              "    </tr>\n",
              "    <tr>\n",
              "      <th>4</th>\n",
              "      <td>ISIC_0073502</td>\n",
              "      <td>0.000886</td>\n",
              "    </tr>\n",
              "  </tbody>\n",
              "</table>\n",
              "</div>"
            ],
            "text/plain": [
              "     image_name    target\n",
              "0  ISIC_0052060  0.000108\n",
              "1  ISIC_0052349  0.000020\n",
              "2  ISIC_0058510  0.000072\n",
              "3  ISIC_0073313  0.000053\n",
              "4  ISIC_0073502  0.000886"
            ]
          },
          "metadata": {
            "tags": []
          },
          "execution_count": 16
        }
      ]
    },
    {
      "cell_type": "code",
      "metadata": {
        "colab_type": "code",
        "id": "bc2saJTqdBeb",
        "colab": {}
      },
      "source": [
        "subcsv.to_csv('minmax1.csv',index=False)"
      ],
      "execution_count": 17,
      "outputs": []
    },
    {
      "cell_type": "markdown",
      "metadata": {
        "id": "XJcK3RfLXr87",
        "colab_type": "text"
      },
      "source": [
        "# adv stack"
      ]
    },
    {
      "cell_type": "code",
      "metadata": {
        "id": "OJqQ7zNUYhd5",
        "colab_type": "code",
        "colab": {}
      },
      "source": [
        "\n",
        "# make a prediction with a stacking ensemble\n",
        "from sklearn.datasets import make_classification\n",
        "from sklearn.ensemble import StackingClassifier\n",
        "from sklearn.linear_model import LogisticRegression\n",
        "from sklearn.neighbors import KNeighborsClassifier\n",
        "from sklearn.tree import DecisionTreeClassifier\n",
        "from sklearn.svm import SVC\n",
        "from sklearn.naive_bayes import GaussianNB\n",
        "# define dataset\n",
        "#X, y = make_classification(n_samples=1000, n_features=20, n_informative=15, n_redundant=5, random_state=47)\n",
        "# define the base models\n",
        "level0 = list()\n",
        "level0.append(('lr', LogisticRegression()))\n",
        "level0.append(('knn', KNeighborsClassifier()))\n",
        "level0.append(('cart', DecisionTreeClassifier()))\n",
        "level0.append(('svm', SVC()))\n",
        "level0.append(('bayes', GaussianNB()))\n",
        "# define meta learner model\n",
        "level1 = LogisticRegression()\n",
        "# define the stacking ensemble\n",
        "\n",
        "skf = KFold(n_splits=5)\n",
        "kfpred = np.zeros(len(testdata))\n",
        "for fold, (idxT, idxV) in enumerate(skf.split(np.arange(15)), 1):\n",
        "    train_idx = tc.loc[tc['tfrecord'].isin(idxT)].index\n",
        "    val_idx = tc.loc[tc['tfrecord'].isin(idxV)].index\n",
        "\n",
        "    model = StackingClassifier(estimators=level0, final_estimator=level1, cv=5)\n",
        "    model.fit(traindata.iloc[train_idx], tc.target.iloc[train_idx])\n",
        "    # make a prediction for one example\n",
        "    #data = [[2.47475454,0.40165523,1.68081787,2.88940715,0.91704519,-3.07950644,4.39961206,0.72464273,-4.86563631,-6.06338084,-1.22209949,-0.4699618,1.01222748,-0.6899355,-0.53000581,6.86966784,-3.27211075,-6.59044146,-2.21290585,-3.139579]]\n",
        "    kfpred += model.predict_proba(testdata)[:,-1] \n",
        "kfpred/=skf.n_splits"
      ],
      "execution_count": null,
      "outputs": []
    },
    {
      "cell_type": "code",
      "metadata": {
        "id": "mzMasRq-cntu",
        "colab_type": "code",
        "colab": {
          "base_uri": "https://localhost:8080/",
          "height": 50
        },
        "outputId": "35a0ee2c-e2fa-4db2-e0cd-6c86ca05ff20"
      },
      "source": [
        "y_sub = kfpred\n",
        "y_sub"
      ],
      "execution_count": null,
      "outputs": [
        {
          "output_type": "execute_result",
          "data": {
            "text/plain": [
              "array([0.00169132, 0.00169325, 0.00169315, ..., 0.00169411, 0.00169411,\n",
              "       0.00169411])"
            ]
          },
          "metadata": {
            "tags": []
          },
          "execution_count": 43
        }
      ]
    },
    {
      "cell_type": "code",
      "metadata": {
        "colab_type": "code",
        "id": "znrOg1geZLCh",
        "colab": {
          "base_uri": "https://localhost:8080/",
          "height": 34
        },
        "outputId": "aa567790-8020-488e-c9ff-c93701f17fb8"
      },
      "source": [
        "from sklearn.metrics import accuracy_score, roc_auc_score\n",
        "roc_auc_score(tc.target,yhat)"
      ],
      "execution_count": null,
      "outputs": [
        {
          "output_type": "execute_result",
          "data": {
            "text/plain": [
              "0.9965814199647578"
            ]
          },
          "metadata": {
            "tags": []
          },
          "execution_count": 32
        }
      ]
    },
    {
      "cell_type": "code",
      "metadata": {
        "colab_type": "code",
        "id": "w9KMXhDCZLCl",
        "colab": {}
      },
      "source": [
        "y_sub = model.predict_proba(testdata)[:,-1] "
      ],
      "execution_count": null,
      "outputs": []
    },
    {
      "cell_type": "code",
      "metadata": {
        "colab_type": "code",
        "id": "netponLdZLCm",
        "colab": {
          "base_uri": "https://localhost:8080/",
          "height": 195
        },
        "outputId": "800fd870-d243-400b-c467-af479a5e6fa9"
      },
      "source": [
        "subcsv = pd.read_csv('sample_submission.csv')\n",
        "subcsv.target = y_sub\n",
        "subcsv.head()"
      ],
      "execution_count": null,
      "outputs": [
        {
          "output_type": "execute_result",
          "data": {
            "text/html": [
              "<div>\n",
              "<style scoped>\n",
              "    .dataframe tbody tr th:only-of-type {\n",
              "        vertical-align: middle;\n",
              "    }\n",
              "\n",
              "    .dataframe tbody tr th {\n",
              "        vertical-align: top;\n",
              "    }\n",
              "\n",
              "    .dataframe thead th {\n",
              "        text-align: right;\n",
              "    }\n",
              "</style>\n",
              "<table border=\"1\" class=\"dataframe\">\n",
              "  <thead>\n",
              "    <tr style=\"text-align: right;\">\n",
              "      <th></th>\n",
              "      <th>image_name</th>\n",
              "      <th>target</th>\n",
              "    </tr>\n",
              "  </thead>\n",
              "  <tbody>\n",
              "    <tr>\n",
              "      <th>0</th>\n",
              "      <td>ISIC_0052060</td>\n",
              "      <td>0.001691</td>\n",
              "    </tr>\n",
              "    <tr>\n",
              "      <th>1</th>\n",
              "      <td>ISIC_0052349</td>\n",
              "      <td>0.001693</td>\n",
              "    </tr>\n",
              "    <tr>\n",
              "      <th>2</th>\n",
              "      <td>ISIC_0058510</td>\n",
              "      <td>0.001693</td>\n",
              "    </tr>\n",
              "    <tr>\n",
              "      <th>3</th>\n",
              "      <td>ISIC_0073313</td>\n",
              "      <td>0.001693</td>\n",
              "    </tr>\n",
              "    <tr>\n",
              "      <th>4</th>\n",
              "      <td>ISIC_0073502</td>\n",
              "      <td>0.001691</td>\n",
              "    </tr>\n",
              "  </tbody>\n",
              "</table>\n",
              "</div>"
            ],
            "text/plain": [
              "     image_name    target\n",
              "0  ISIC_0052060  0.001691\n",
              "1  ISIC_0052349  0.001693\n",
              "2  ISIC_0058510  0.001693\n",
              "3  ISIC_0073313  0.001693\n",
              "4  ISIC_0073502  0.001691"
            ]
          },
          "metadata": {
            "tags": []
          },
          "execution_count": 44
        }
      ]
    },
    {
      "cell_type": "code",
      "metadata": {
        "colab_type": "code",
        "id": "3VQYIq2rZLCo",
        "colab": {}
      },
      "source": [
        "subcsv.to_csv('stack5.csv',index=False)"
      ],
      "execution_count": null,
      "outputs": []
    },
    {
      "cell_type": "markdown",
      "metadata": {
        "id": "XRjqc8k_Xndt",
        "colab_type": "text"
      },
      "source": [
        "# simple stack"
      ]
    },
    {
      "cell_type": "code",
      "metadata": {
        "id": "MggaT4f8SWLy",
        "colab_type": "code",
        "colab": {
          "base_uri": "https://localhost:8080/",
          "height": 101
        },
        "outputId": "369fdf5f-572d-447e-8d08-d23a25626374"
      },
      "source": [
        "regr = LogisticRegression() \n",
        "  \n",
        "regr.fit(traindata,tc.target ) "
      ],
      "execution_count": null,
      "outputs": [
        {
          "output_type": "execute_result",
          "data": {
            "text/plain": [
              "LogisticRegression(C=1.0, class_weight=None, dual=False, fit_intercept=True,\n",
              "                   intercept_scaling=1, l1_ratio=None, max_iter=100,\n",
              "                   multi_class='auto', n_jobs=None, penalty='l2',\n",
              "                   random_state=None, solver='lbfgs', tol=0.0001, verbose=0,\n",
              "                   warm_start=False)"
            ]
          },
          "metadata": {
            "tags": []
          },
          "execution_count": 18
        }
      ]
    },
    {
      "cell_type": "code",
      "metadata": {
        "id": "L27opr9YSeuh",
        "colab_type": "code",
        "colab": {}
      },
      "source": [
        "y_pred = regr.predict_proba(traindata)[:,-1] "
      ],
      "execution_count": null,
      "outputs": []
    },
    {
      "cell_type": "code",
      "metadata": {
        "id": "hWfPkXVgUjFp",
        "colab_type": "code",
        "colab": {
          "base_uri": "https://localhost:8080/",
          "height": 50
        },
        "outputId": "64a570bc-974f-4149-d854-d5daa8e09a19"
      },
      "source": [
        "y_pred"
      ],
      "execution_count": null,
      "outputs": [
        {
          "output_type": "execute_result",
          "data": {
            "text/plain": [
              "array([0.0032559 , 0.00318192, 0.00319402, ..., 0.00315842, 0.00315256,\n",
              "       0.00315256])"
            ]
          },
          "metadata": {
            "tags": []
          },
          "execution_count": 20
        }
      ]
    },
    {
      "cell_type": "code",
      "metadata": {
        "id": "7LAaE6QiUkWj",
        "colab_type": "code",
        "colab": {
          "base_uri": "https://localhost:8080/",
          "height": 34
        },
        "outputId": "4180c97b-2c6b-4bdd-adc8-fab48feef010"
      },
      "source": [
        "from sklearn.metrics import accuracy_score, roc_auc_score\n",
        "roc_auc_score(tc.target,y_pred)"
      ],
      "execution_count": null,
      "outputs": [
        {
          "output_type": "execute_result",
          "data": {
            "text/plain": [
              "0.9844629921879671"
            ]
          },
          "metadata": {
            "tags": []
          },
          "execution_count": 21
        }
      ]
    },
    {
      "cell_type": "code",
      "metadata": {
        "id": "a6A-b9xaU2EH",
        "colab_type": "code",
        "colab": {}
      },
      "source": [
        "y_sub = regr.predict_proba(testdata)[:,-1] "
      ],
      "execution_count": null,
      "outputs": []
    },
    {
      "cell_type": "code",
      "metadata": {
        "id": "bAAtmltQWHge",
        "colab_type": "code",
        "colab": {
          "base_uri": "https://localhost:8080/",
          "height": 195
        },
        "outputId": "7a6585e7-d717-4dd3-cfcb-27bf0aa4f54a"
      },
      "source": [
        "subcsv = pd.read_csv('sample_submission.csv')\n",
        "subcsv.target = y_sub\n",
        "subcsv.head()"
      ],
      "execution_count": null,
      "outputs": [
        {
          "output_type": "execute_result",
          "data": {
            "text/html": [
              "<div>\n",
              "<style scoped>\n",
              "    .dataframe tbody tr th:only-of-type {\n",
              "        vertical-align: middle;\n",
              "    }\n",
              "\n",
              "    .dataframe tbody tr th {\n",
              "        vertical-align: top;\n",
              "    }\n",
              "\n",
              "    .dataframe thead th {\n",
              "        text-align: right;\n",
              "    }\n",
              "</style>\n",
              "<table border=\"1\" class=\"dataframe\">\n",
              "  <thead>\n",
              "    <tr style=\"text-align: right;\">\n",
              "      <th></th>\n",
              "      <th>image_name</th>\n",
              "      <th>target</th>\n",
              "    </tr>\n",
              "  </thead>\n",
              "  <tbody>\n",
              "    <tr>\n",
              "      <th>0</th>\n",
              "      <td>ISIC_0052060</td>\n",
              "      <td>0.003161</td>\n",
              "    </tr>\n",
              "    <tr>\n",
              "      <th>1</th>\n",
              "      <td>ISIC_0052349</td>\n",
              "      <td>0.003162</td>\n",
              "    </tr>\n",
              "    <tr>\n",
              "      <th>2</th>\n",
              "      <td>ISIC_0058510</td>\n",
              "      <td>0.003165</td>\n",
              "    </tr>\n",
              "    <tr>\n",
              "      <th>3</th>\n",
              "      <td>ISIC_0073313</td>\n",
              "      <td>0.003166</td>\n",
              "    </tr>\n",
              "    <tr>\n",
              "      <th>4</th>\n",
              "      <td>ISIC_0073502</td>\n",
              "      <td>0.003206</td>\n",
              "    </tr>\n",
              "  </tbody>\n",
              "</table>\n",
              "</div>"
            ],
            "text/plain": [
              "     image_name    target\n",
              "0  ISIC_0052060  0.003161\n",
              "1  ISIC_0052349  0.003162\n",
              "2  ISIC_0058510  0.003165\n",
              "3  ISIC_0073313  0.003166\n",
              "4  ISIC_0073502  0.003206"
            ]
          },
          "metadata": {
            "tags": []
          },
          "execution_count": 24
        }
      ]
    },
    {
      "cell_type": "code",
      "metadata": {
        "id": "T66bC297WlJS",
        "colab_type": "code",
        "colab": {}
      },
      "source": [
        "subcsv.to_csv('stack3.csv',index=False)"
      ],
      "execution_count": null,
      "outputs": []
    },
    {
      "cell_type": "markdown",
      "metadata": {
        "id": "uV9KEbOvXgxU",
        "colab_type": "text"
      },
      "source": [
        "# arb"
      ]
    },
    {
      "cell_type": "code",
      "metadata": {
        "id": "dUB23fsxXRjC",
        "colab_type": "code",
        "colab": {
          "base_uri": "https://localhost:8080/",
          "height": 34
        },
        "outputId": "f9383770-fdd6-44ff-8694-5dd08e273875"
      },
      "source": [
        "oofnew = pd.read_csv('/content/oof_maybe_0.925or0.937.csv')\n",
        "len(oofnew)"
      ],
      "execution_count": null,
      "outputs": [
        {
          "output_type": "execute_result",
          "data": {
            "text/plain": [
              "33126"
            ]
          },
          "metadata": {
            "tags": []
          },
          "execution_count": 61
        }
      ]
    },
    {
      "cell_type": "code",
      "metadata": {
        "id": "Ql5BEzYCYO9n",
        "colab_type": "code",
        "colab": {
          "base_uri": "https://localhost:8080/",
          "height": 34
        },
        "outputId": "14a50fe9-c900-427c-e70a-61cae11ea6ad"
      },
      "source": [
        "subnew = pd.read_csv('/content/sub_maybe_0.925or0.937.csv')\n",
        "len(subnew)"
      ],
      "execution_count": null,
      "outputs": [
        {
          "output_type": "execute_result",
          "data": {
            "text/plain": [
              "10982"
            ]
          },
          "metadata": {
            "tags": []
          },
          "execution_count": 62
        }
      ]
    },
    {
      "cell_type": "code",
      "metadata": {
        "id": "zNBj6zREYcy8",
        "colab_type": "code",
        "colab": {
          "base_uri": "https://localhost:8080/",
          "height": 195
        },
        "outputId": "f189985f-e9a3-4096-c164-1cdd309bf94d"
      },
      "source": [
        "oofnew.head()"
      ],
      "execution_count": null,
      "outputs": [
        {
          "output_type": "execute_result",
          "data": {
            "text/html": [
              "<div>\n",
              "<style scoped>\n",
              "    .dataframe tbody tr th:only-of-type {\n",
              "        vertical-align: middle;\n",
              "    }\n",
              "\n",
              "    .dataframe tbody tr th {\n",
              "        vertical-align: top;\n",
              "    }\n",
              "\n",
              "    .dataframe thead th {\n",
              "        text-align: right;\n",
              "    }\n",
              "</style>\n",
              "<table border=\"1\" class=\"dataframe\">\n",
              "  <thead>\n",
              "    <tr style=\"text-align: right;\">\n",
              "      <th></th>\n",
              "      <th>image_name</th>\n",
              "      <th>target</th>\n",
              "      <th>predictions</th>\n",
              "    </tr>\n",
              "  </thead>\n",
              "  <tbody>\n",
              "    <tr>\n",
              "      <th>0</th>\n",
              "      <td>ISIC_0388873</td>\n",
              "      <td>0.0</td>\n",
              "      <td>0.089990</td>\n",
              "    </tr>\n",
              "    <tr>\n",
              "      <th>1</th>\n",
              "      <td>ISIC_1428473</td>\n",
              "      <td>0.0</td>\n",
              "      <td>0.290914</td>\n",
              "    </tr>\n",
              "    <tr>\n",
              "      <th>2</th>\n",
              "      <td>ISIC_5203791</td>\n",
              "      <td>0.0</td>\n",
              "      <td>0.169361</td>\n",
              "    </tr>\n",
              "    <tr>\n",
              "      <th>3</th>\n",
              "      <td>ISIC_7380175</td>\n",
              "      <td>0.0</td>\n",
              "      <td>0.149862</td>\n",
              "    </tr>\n",
              "    <tr>\n",
              "      <th>4</th>\n",
              "      <td>ISIC_7906462</td>\n",
              "      <td>0.0</td>\n",
              "      <td>0.186506</td>\n",
              "    </tr>\n",
              "  </tbody>\n",
              "</table>\n",
              "</div>"
            ],
            "text/plain": [
              "     image_name  target  predictions\n",
              "0  ISIC_0388873     0.0     0.089990\n",
              "1  ISIC_1428473     0.0     0.290914\n",
              "2  ISIC_5203791     0.0     0.169361\n",
              "3  ISIC_7380175     0.0     0.149862\n",
              "4  ISIC_7906462     0.0     0.186506"
            ]
          },
          "metadata": {
            "tags": []
          },
          "execution_count": 63
        }
      ]
    },
    {
      "cell_type": "code",
      "metadata": {
        "id": "xdzMdW0AYlZn",
        "colab_type": "code",
        "colab": {}
      },
      "source": [
        ""
      ],
      "execution_count": null,
      "outputs": []
    },
    {
      "cell_type": "markdown",
      "metadata": {
        "id": "z4aW76nUI6jc",
        "colab_type": "text"
      },
      "source": [
        "# mean"
      ]
    },
    {
      "cell_type": "code",
      "metadata": {
        "id": "elu2cwGBGvSc",
        "colab_type": "code",
        "colab": {}
      },
      "source": [
        "sub1 = pd.read_csv('sub_b5new_2_.csv')\n",
        "sub2 = pd.read_csv('sub_b0new_1up_.csv')\n",
        "sub3 = pd.read_csv('sub_b1new_1up_.csv')\n",
        "sub4 = pd.read_csv('sub_b4new_1up_.csv')\n",
        "sub5 = pd.read_csv('sub_b3new_1upup_.csv')\n",
        "sub6 = pd.read_csv('sub_b2new_1_.csv')\n",
        "sub7 = pd.read_csv('sub_b6new_1up_.csv')\n",
        "subcsv = pd.read_csv('sample_submission.csv')"
      ],
      "execution_count": null,
      "outputs": []
    },
    {
      "cell_type": "code",
      "metadata": {
        "id": "TOzX3JCfHQE1",
        "colab_type": "code",
        "colab": {
          "base_uri": "https://localhost:8080/",
          "height": 195
        },
        "outputId": "31b2723d-40f2-4774-d6fc-bb7416809052"
      },
      "source": [
        "subcsv.target = sub1.target + sub2.target +sub3.target+sub4.target+sub5.target+sub6.target\n",
        "subcsv.target /= 6\n",
        "subcsv.head()"
      ],
      "execution_count": null,
      "outputs": [
        {
          "output_type": "execute_result",
          "data": {
            "text/html": [
              "<div>\n",
              "<style scoped>\n",
              "    .dataframe tbody tr th:only-of-type {\n",
              "        vertical-align: middle;\n",
              "    }\n",
              "\n",
              "    .dataframe tbody tr th {\n",
              "        vertical-align: top;\n",
              "    }\n",
              "\n",
              "    .dataframe thead th {\n",
              "        text-align: right;\n",
              "    }\n",
              "</style>\n",
              "<table border=\"1\" class=\"dataframe\">\n",
              "  <thead>\n",
              "    <tr style=\"text-align: right;\">\n",
              "      <th></th>\n",
              "      <th>image_name</th>\n",
              "      <th>target</th>\n",
              "    </tr>\n",
              "  </thead>\n",
              "  <tbody>\n",
              "    <tr>\n",
              "      <th>0</th>\n",
              "      <td>ISIC_0052060</td>\n",
              "      <td>0.000309</td>\n",
              "    </tr>\n",
              "    <tr>\n",
              "      <th>1</th>\n",
              "      <td>ISIC_0052349</td>\n",
              "      <td>0.000159</td>\n",
              "    </tr>\n",
              "    <tr>\n",
              "      <th>2</th>\n",
              "      <td>ISIC_0058510</td>\n",
              "      <td>0.000186</td>\n",
              "    </tr>\n",
              "    <tr>\n",
              "      <th>3</th>\n",
              "      <td>ISIC_0073313</td>\n",
              "      <td>0.000192</td>\n",
              "    </tr>\n",
              "    <tr>\n",
              "      <th>4</th>\n",
              "      <td>ISIC_0073502</td>\n",
              "      <td>0.000948</td>\n",
              "    </tr>\n",
              "  </tbody>\n",
              "</table>\n",
              "</div>"
            ],
            "text/plain": [
              "     image_name    target\n",
              "0  ISIC_0052060  0.000309\n",
              "1  ISIC_0052349  0.000159\n",
              "2  ISIC_0058510  0.000186\n",
              "3  ISIC_0073313  0.000192\n",
              "4  ISIC_0073502  0.000948"
            ]
          },
          "metadata": {
            "tags": []
          },
          "execution_count": 8
        }
      ]
    },
    {
      "cell_type": "code",
      "metadata": {
        "id": "29RHJI0mHka3",
        "colab_type": "code",
        "colab": {}
      },
      "source": [
        "subcsv.to_csv('mean_ensemble_b0-b5_256.csv',index=False)"
      ],
      "execution_count": null,
      "outputs": []
    },
    {
      "cell_type": "code",
      "metadata": {
        "id": "xlWf1gS0InXR",
        "colab_type": "code",
        "colab": {}
      },
      "source": [
        ""
      ],
      "execution_count": null,
      "outputs": []
    }
  ]
}